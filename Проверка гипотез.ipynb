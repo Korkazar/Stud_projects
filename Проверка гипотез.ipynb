{
 "cells": [
  {
   "cell_type": "markdown",
   "id": "e9bb2d79",
   "metadata": {
    "toc": true
   },
   "source": [
    "<h1>Содержание<span class=\"tocSkip\"></span></h1>\n",
    "<div class=\"toc\"><ul class=\"toc-item\"><li><span><a href=\"#Описание-исходных-данных\" data-toc-modified-id=\"Описание-исходных-данных-1\"><span class=\"toc-item-num\">1&nbsp;&nbsp;</span>Описание исходных данных</a></span></li><li><span><a href=\"#Предобработка-данных\" data-toc-modified-id=\"Предобработка-данных-2\"><span class=\"toc-item-num\">2&nbsp;&nbsp;</span>Предобработка данных</a></span><ul class=\"toc-item\"><li><span><a href=\"#Таблица-пользователей\" data-toc-modified-id=\"Таблица-пользователей-2.1\"><span class=\"toc-item-num\">2.1&nbsp;&nbsp;</span>Таблица пользователей</a></span></li><li><span><a href=\"#Таблица-поездок\" data-toc-modified-id=\"Таблица-поездок-2.2\"><span class=\"toc-item-num\">2.2&nbsp;&nbsp;</span>Таблица поездок</a></span></li></ul></li><li><span><a href=\"#Исследовательский-анализ-данных\" data-toc-modified-id=\"Исследовательский-анализ-данных-3\"><span class=\"toc-item-num\">3&nbsp;&nbsp;</span>Исследовательский анализ данных</a></span><ul class=\"toc-item\"><li><span><a href=\"#Встречаемость-городов\" data-toc-modified-id=\"Встречаемость-городов-3.1\"><span class=\"toc-item-num\">3.1&nbsp;&nbsp;</span>Встречаемость городов</a></span></li><li><span><a href=\"#Соотношение-форм-подписок\" data-toc-modified-id=\"Соотношение-форм-подписок-3.2\"><span class=\"toc-item-num\">3.2&nbsp;&nbsp;</span>Соотношение форм подписок</a></span></li><li><span><a href=\"#Возраст-пользователей\" data-toc-modified-id=\"Возраст-пользователей-3.3\"><span class=\"toc-item-num\">3.3&nbsp;&nbsp;</span>Возраст пользователей</a></span></li><li><span><a href=\"#Расстояние-и-время-поездки\" data-toc-modified-id=\"Расстояние-и-время-поездки-3.4\"><span class=\"toc-item-num\">3.4&nbsp;&nbsp;</span>Расстояние и время поездки</a></span></li><li><span><a href=\"#Выводы-по-результатам-исследовательского-анализа\" data-toc-modified-id=\"Выводы-по-результатам-исследовательского-анализа-3.5\"><span class=\"toc-item-num\">3.5&nbsp;&nbsp;</span>Выводы по результатам исследовательского анализа</a></span></li></ul></li><li><span><a href=\"#Подготовка-данных-к-проверке-гипотез\" data-toc-modified-id=\"Подготовка-данных-к-проверке-гипотез-4\"><span class=\"toc-item-num\">4&nbsp;&nbsp;</span>Подготовка данных к проверке гипотез</a></span><ul class=\"toc-item\"><li><span><a href=\"#Объединение-данных\" data-toc-modified-id=\"Объединение-данных-4.1\"><span class=\"toc-item-num\">4.1&nbsp;&nbsp;</span>Объединение данных</a></span></li><li><span><a href=\"#Поездки-отдельных-групп-пользователей\" data-toc-modified-id=\"Поездки-отдельных-групп-пользователей-4.2\"><span class=\"toc-item-num\">4.2&nbsp;&nbsp;</span>Поездки отдельных групп пользователей</a></span></li><li><span><a href=\"#Подсчёт-помесячной-выручки\" data-toc-modified-id=\"Подсчёт-помесячной-выручки-4.3\"><span class=\"toc-item-num\">4.3&nbsp;&nbsp;</span>Подсчёт помесячной выручки</a></span></li></ul></li><li><span><a href=\"#Проверка-гипотез\" data-toc-modified-id=\"Проверка-гипотез-5\"><span class=\"toc-item-num\">5&nbsp;&nbsp;</span>Проверка гипотез</a></span><ul class=\"toc-item\"><li><span><a href=\"#Гипотеза-о-времени-на-поездки\" data-toc-modified-id=\"Гипотеза-о-времени-на-поездки-5.1\"><span class=\"toc-item-num\">5.1&nbsp;&nbsp;</span>Гипотеза о времени на поездки</a></span></li><li><span><a href=\"#Гипотеза-о-среднем-расстоянии-поездки\" data-toc-modified-id=\"Гипотеза-о-среднем-расстоянии-поездки-5.2\"><span class=\"toc-item-num\">5.2&nbsp;&nbsp;</span>Гипотеза о среднем расстоянии поездки</a></span></li><li><span><a href=\"#Гипотеза-о-доходе-от-подписок\" data-toc-modified-id=\"Гипотеза-о-доходе-от-подписок-5.3\"><span class=\"toc-item-num\">5.3&nbsp;&nbsp;</span>Гипотеза о доходе от подписок</a></span></li><li><span><a href=\"#Теориетическая-гипотеза\" data-toc-modified-id=\"Теориетическая-гипотеза-5.4\"><span class=\"toc-item-num\">5.4&nbsp;&nbsp;</span>Теориетическая гипотеза</a></span></li></ul></li><li><span><a href=\"#Теоретические-распределения\" data-toc-modified-id=\"Теоретические-распределения-6\"><span class=\"toc-item-num\">6&nbsp;&nbsp;</span>Теоретические распределения</a></span><ul class=\"toc-item\"><li><span><a href=\"#Минимальное-количество-пользователей-для-участия-в-рекламной-акции\" data-toc-modified-id=\"Минимальное-количество-пользователей-для-участия-в-рекламной-акции-6.1\"><span class=\"toc-item-num\">6.1&nbsp;&nbsp;</span>Минимальное количество пользователей для участия в рекламной акции</a></span></li><li><span><a href=\"#Push---уведомления\" data-toc-modified-id=\"Push---уведомления-6.2\"><span class=\"toc-item-num\">6.2&nbsp;&nbsp;</span>Push - уведомления</a></span></li></ul></li><li><span><a href=\"#Выводы\" data-toc-modified-id=\"Выводы-7\"><span class=\"toc-item-num\">7&nbsp;&nbsp;</span>Выводы</a></span></li></ul></div>"
   ]
  },
  {
   "cell_type": "markdown",
   "id": "dd100476",
   "metadata": {},
   "source": [
    "# Исследование данных сервиса аренды самокатов и проверка гипотез для развития бизнеса\n",
    "\n",
    "В рамках проектной работы были поулчены данные сервиса аренды самокатов GoFast. Данные представляют собой выборку о некоторых пользователях из нескольких городов, а также об их поездках.  \n",
    "Данные представлены в трёх csv файлах, содержащих:\n",
    "- данные о пользователях;\n",
    "- технические данные о поездках пользователей за 2021 год;\n",
    "- ценовая политика для вариантов подписок пользователей.\n",
    "  \n",
    "Для работы над проектом будут использоваться библиотеки pandas, matplotlib, numpy, scipy, math.  \n",
    "Целью проекта является проверка требуемых гипотез, на подготовленных для этого данных.  \n",
    "Гипотезы, сформированные в задании на анализ:\n",
    "- Тратят ли пользователи с подпиской больше времени на поездки? \n",
    "- Можно ли сказать, что среднее расстояние, которое проезжают пользователи с подпиской за одну поездку, не превышает 3130 метров? \n",
    "- Будет ли помесячная выручка от пользователей с подпиской по месяцам выше, чем выручка от пользователей без подписки?\n",
    "  \n",
    "Также, в проекте рассмотрена теоретическая возможность проверки гипотезы изменения одной контролируемой выборки и описаны теоретические ситуации через биномальные распределения."
   ]
  },
  {
   "cell_type": "code",
   "execution_count": 1,
   "id": "d506c9cd",
   "metadata": {},
   "outputs": [],
   "source": [
    "import pandas as pd\n",
    "import numpy as np\n",
    "from scipy import stats as st\n",
    "from math import sqrt\n",
    "import matplotlib.pyplot as plt\n",
    "import matplotlib.gridspec as gridspec"
   ]
  },
  {
   "cell_type": "markdown",
   "id": "c42cbe00",
   "metadata": {},
   "source": [
    "### Описание исходных данных"
   ]
  },
  {
   "cell_type": "markdown",
   "id": "71d47b4a",
   "metadata": {},
   "source": [
    "Произведём загрузку и первичный анализ исходных данных.  \n",
    "Начнём с таблицы пользователей."
   ]
  },
  {
   "cell_type": "code",
   "execution_count": 2,
   "id": "eff9f206",
   "metadata": {},
   "outputs": [
    {
     "data": {
      "text/html": [
       "<div>\n",
       "<style scoped>\n",
       "    .dataframe tbody tr th:only-of-type {\n",
       "        vertical-align: middle;\n",
       "    }\n",
       "\n",
       "    .dataframe tbody tr th {\n",
       "        vertical-align: top;\n",
       "    }\n",
       "\n",
       "    .dataframe thead th {\n",
       "        text-align: right;\n",
       "    }\n",
       "</style>\n",
       "<table border=\"1\" class=\"dataframe\">\n",
       "  <thead>\n",
       "    <tr style=\"text-align: right;\">\n",
       "      <th></th>\n",
       "      <th>user_id</th>\n",
       "      <th>name</th>\n",
       "      <th>age</th>\n",
       "      <th>city</th>\n",
       "      <th>subscription_type</th>\n",
       "    </tr>\n",
       "  </thead>\n",
       "  <tbody>\n",
       "    <tr>\n",
       "      <th>0</th>\n",
       "      <td>1</td>\n",
       "      <td>Кира</td>\n",
       "      <td>22</td>\n",
       "      <td>Тюмень</td>\n",
       "      <td>ultra</td>\n",
       "    </tr>\n",
       "    <tr>\n",
       "      <th>1</th>\n",
       "      <td>2</td>\n",
       "      <td>Станислав</td>\n",
       "      <td>31</td>\n",
       "      <td>Омск</td>\n",
       "      <td>ultra</td>\n",
       "    </tr>\n",
       "    <tr>\n",
       "      <th>2</th>\n",
       "      <td>3</td>\n",
       "      <td>Алексей</td>\n",
       "      <td>20</td>\n",
       "      <td>Москва</td>\n",
       "      <td>ultra</td>\n",
       "    </tr>\n",
       "    <tr>\n",
       "      <th>3</th>\n",
       "      <td>4</td>\n",
       "      <td>Константин</td>\n",
       "      <td>26</td>\n",
       "      <td>Ростов-на-Дону</td>\n",
       "      <td>ultra</td>\n",
       "    </tr>\n",
       "    <tr>\n",
       "      <th>4</th>\n",
       "      <td>5</td>\n",
       "      <td>Адель</td>\n",
       "      <td>28</td>\n",
       "      <td>Омск</td>\n",
       "      <td>ultra</td>\n",
       "    </tr>\n",
       "    <tr>\n",
       "      <th>5</th>\n",
       "      <td>6</td>\n",
       "      <td>Регина</td>\n",
       "      <td>25</td>\n",
       "      <td>Краснодар</td>\n",
       "      <td>ultra</td>\n",
       "    </tr>\n",
       "    <tr>\n",
       "      <th>6</th>\n",
       "      <td>7</td>\n",
       "      <td>Игорь</td>\n",
       "      <td>23</td>\n",
       "      <td>Омск</td>\n",
       "      <td>ultra</td>\n",
       "    </tr>\n",
       "    <tr>\n",
       "      <th>7</th>\n",
       "      <td>8</td>\n",
       "      <td>Юрий</td>\n",
       "      <td>23</td>\n",
       "      <td>Краснодар</td>\n",
       "      <td>ultra</td>\n",
       "    </tr>\n",
       "    <tr>\n",
       "      <th>8</th>\n",
       "      <td>9</td>\n",
       "      <td>Ян</td>\n",
       "      <td>21</td>\n",
       "      <td>Пятигорск</td>\n",
       "      <td>ultra</td>\n",
       "    </tr>\n",
       "    <tr>\n",
       "      <th>9</th>\n",
       "      <td>10</td>\n",
       "      <td>Валерий</td>\n",
       "      <td>18</td>\n",
       "      <td>Екатеринбург</td>\n",
       "      <td>ultra</td>\n",
       "    </tr>\n",
       "  </tbody>\n",
       "</table>\n",
       "</div>"
      ],
      "text/plain": [
       "   user_id        name  age            city subscription_type\n",
       "0        1        Кира   22          Тюмень             ultra\n",
       "1        2   Станислав   31            Омск             ultra\n",
       "2        3     Алексей   20          Москва             ultra\n",
       "3        4  Константин   26  Ростов-на-Дону             ultra\n",
       "4        5       Адель   28            Омск             ultra\n",
       "5        6      Регина   25       Краснодар             ultra\n",
       "6        7       Игорь   23            Омск             ultra\n",
       "7        8        Юрий   23       Краснодар             ultra\n",
       "8        9          Ян   21       Пятигорск             ultra\n",
       "9       10     Валерий   18    Екатеринбург             ultra"
      ]
     },
     "execution_count": 2,
     "metadata": {},
     "output_type": "execute_result"
    }
   ],
   "source": [
    "#обращаемся к файлу в локальной директории и если его там нет, обращаемся к репозиторию яндекса\n",
    "try:\n",
    "    df_user = pd.read_csv('/datasets/users_go.csv')\n",
    "except:\n",
    "    df_user = pd.read_csv('https://code.s3.yandex.net/datasets/users_go.csv')\n",
    "df_user.head(10)"
   ]
  },
  {
   "cell_type": "code",
   "execution_count": 3,
   "id": "f5929200",
   "metadata": {},
   "outputs": [
    {
     "name": "stdout",
     "output_type": "stream",
     "text": [
      "<class 'pandas.core.frame.DataFrame'>\n",
      "RangeIndex: 1565 entries, 0 to 1564\n",
      "Data columns (total 5 columns):\n",
      " #   Column             Non-Null Count  Dtype \n",
      "---  ------             --------------  ----- \n",
      " 0   user_id            1565 non-null   int64 \n",
      " 1   name               1565 non-null   object\n",
      " 2   age                1565 non-null   int64 \n",
      " 3   city               1565 non-null   object\n",
      " 4   subscription_type  1565 non-null   object\n",
      "dtypes: int64(2), object(3)\n",
      "memory usage: 61.3+ KB\n"
     ]
    }
   ],
   "source": [
    "df_user.info()"
   ]
  },
  {
   "cell_type": "markdown",
   "id": "df15d0c1",
   "metadata": {},
   "source": [
    "Нулевых значений в данных - нет, типы данных соответствуют ожидаемым, названия столбцов не нуждаются в корректировках.  \n",
    "Существует возможность дубликатов в столбце user_id.  \n",
    "Продолжим загрузку данных - таблицу с данными о поездках."
   ]
  },
  {
   "cell_type": "code",
   "execution_count": 4,
   "id": "89305340",
   "metadata": {},
   "outputs": [
    {
     "data": {
      "text/html": [
       "<div>\n",
       "<style scoped>\n",
       "    .dataframe tbody tr th:only-of-type {\n",
       "        vertical-align: middle;\n",
       "    }\n",
       "\n",
       "    .dataframe tbody tr th {\n",
       "        vertical-align: top;\n",
       "    }\n",
       "\n",
       "    .dataframe thead th {\n",
       "        text-align: right;\n",
       "    }\n",
       "</style>\n",
       "<table border=\"1\" class=\"dataframe\">\n",
       "  <thead>\n",
       "    <tr style=\"text-align: right;\">\n",
       "      <th></th>\n",
       "      <th>user_id</th>\n",
       "      <th>distance</th>\n",
       "      <th>duration</th>\n",
       "      <th>date</th>\n",
       "    </tr>\n",
       "  </thead>\n",
       "  <tbody>\n",
       "    <tr>\n",
       "      <th>0</th>\n",
       "      <td>1</td>\n",
       "      <td>4409.919140</td>\n",
       "      <td>25.599769</td>\n",
       "      <td>2021-01-01</td>\n",
       "    </tr>\n",
       "    <tr>\n",
       "      <th>1</th>\n",
       "      <td>1</td>\n",
       "      <td>2617.592153</td>\n",
       "      <td>15.816871</td>\n",
       "      <td>2021-01-18</td>\n",
       "    </tr>\n",
       "    <tr>\n",
       "      <th>2</th>\n",
       "      <td>1</td>\n",
       "      <td>754.159807</td>\n",
       "      <td>6.232113</td>\n",
       "      <td>2021-04-20</td>\n",
       "    </tr>\n",
       "    <tr>\n",
       "      <th>3</th>\n",
       "      <td>1</td>\n",
       "      <td>2694.783254</td>\n",
       "      <td>18.511000</td>\n",
       "      <td>2021-08-11</td>\n",
       "    </tr>\n",
       "    <tr>\n",
       "      <th>4</th>\n",
       "      <td>1</td>\n",
       "      <td>4028.687306</td>\n",
       "      <td>26.265803</td>\n",
       "      <td>2021-08-28</td>\n",
       "    </tr>\n",
       "    <tr>\n",
       "      <th>5</th>\n",
       "      <td>1</td>\n",
       "      <td>2770.890808</td>\n",
       "      <td>16.650138</td>\n",
       "      <td>2021-10-09</td>\n",
       "    </tr>\n",
       "    <tr>\n",
       "      <th>6</th>\n",
       "      <td>1</td>\n",
       "      <td>3039.020292</td>\n",
       "      <td>14.927879</td>\n",
       "      <td>2021-10-19</td>\n",
       "    </tr>\n",
       "    <tr>\n",
       "      <th>7</th>\n",
       "      <td>1</td>\n",
       "      <td>2842.118050</td>\n",
       "      <td>23.117468</td>\n",
       "      <td>2021-11-06</td>\n",
       "    </tr>\n",
       "    <tr>\n",
       "      <th>8</th>\n",
       "      <td>1</td>\n",
       "      <td>3412.690668</td>\n",
       "      <td>15.238072</td>\n",
       "      <td>2021-11-14</td>\n",
       "    </tr>\n",
       "    <tr>\n",
       "      <th>9</th>\n",
       "      <td>1</td>\n",
       "      <td>748.690645</td>\n",
       "      <td>15.041884</td>\n",
       "      <td>2021-11-22</td>\n",
       "    </tr>\n",
       "  </tbody>\n",
       "</table>\n",
       "</div>"
      ],
      "text/plain": [
       "   user_id     distance   duration        date\n",
       "0        1  4409.919140  25.599769  2021-01-01\n",
       "1        1  2617.592153  15.816871  2021-01-18\n",
       "2        1   754.159807   6.232113  2021-04-20\n",
       "3        1  2694.783254  18.511000  2021-08-11\n",
       "4        1  4028.687306  26.265803  2021-08-28\n",
       "5        1  2770.890808  16.650138  2021-10-09\n",
       "6        1  3039.020292  14.927879  2021-10-19\n",
       "7        1  2842.118050  23.117468  2021-11-06\n",
       "8        1  3412.690668  15.238072  2021-11-14\n",
       "9        1   748.690645  15.041884  2021-11-22"
      ]
     },
     "execution_count": 4,
     "metadata": {},
     "output_type": "execute_result"
    }
   ],
   "source": [
    "try:\n",
    "    df_rides = pd.read_csv('/datasets/rides_go.csv')\n",
    "except:\n",
    "    df_rides = pd.read_csv('https://code.s3.yandex.net/datasets/rides_go.csv')\n",
    "df_rides.head(10)\n"
   ]
  },
  {
   "cell_type": "code",
   "execution_count": 5,
   "id": "8516b841",
   "metadata": {},
   "outputs": [
    {
     "name": "stdout",
     "output_type": "stream",
     "text": [
      "<class 'pandas.core.frame.DataFrame'>\n",
      "RangeIndex: 18068 entries, 0 to 18067\n",
      "Data columns (total 4 columns):\n",
      " #   Column    Non-Null Count  Dtype  \n",
      "---  ------    --------------  -----  \n",
      " 0   user_id   18068 non-null  int64  \n",
      " 1   distance  18068 non-null  float64\n",
      " 2   duration  18068 non-null  float64\n",
      " 3   date      18068 non-null  object \n",
      "dtypes: float64(2), int64(1), object(1)\n",
      "memory usage: 564.8+ KB\n"
     ]
    }
   ],
   "source": [
    "df_rides.info()"
   ]
  },
  {
   "cell_type": "markdown",
   "id": "71f30728",
   "metadata": {},
   "source": [
    "Нулевых значений в данных - нет, типы данных соответствуют ожидаемым, названия столбцов не нуждаются в корректировках.  \n",
    "Возможные дубликаты данных неотличимы от истинных значений, допустимо предположить что они отсутствуют.  \n",
    "Для дальнейшей работы потребуется изменить тип данных столбца date.  \n",
    "  \n",
    "Продолжим загрузку данных."
   ]
  },
  {
   "cell_type": "code",
   "execution_count": 6,
   "id": "40fb4b1d",
   "metadata": {},
   "outputs": [
    {
     "data": {
      "text/html": [
       "<div>\n",
       "<style scoped>\n",
       "    .dataframe tbody tr th:only-of-type {\n",
       "        vertical-align: middle;\n",
       "    }\n",
       "\n",
       "    .dataframe tbody tr th {\n",
       "        vertical-align: top;\n",
       "    }\n",
       "\n",
       "    .dataframe thead th {\n",
       "        text-align: right;\n",
       "    }\n",
       "</style>\n",
       "<table border=\"1\" class=\"dataframe\">\n",
       "  <thead>\n",
       "    <tr style=\"text-align: right;\">\n",
       "      <th></th>\n",
       "      <th>subscription_type</th>\n",
       "      <th>minute_price</th>\n",
       "      <th>start_ride_price</th>\n",
       "      <th>subscription_fee</th>\n",
       "    </tr>\n",
       "  </thead>\n",
       "  <tbody>\n",
       "    <tr>\n",
       "      <th>0</th>\n",
       "      <td>free</td>\n",
       "      <td>8</td>\n",
       "      <td>50</td>\n",
       "      <td>0</td>\n",
       "    </tr>\n",
       "    <tr>\n",
       "      <th>1</th>\n",
       "      <td>ultra</td>\n",
       "      <td>6</td>\n",
       "      <td>0</td>\n",
       "      <td>199</td>\n",
       "    </tr>\n",
       "  </tbody>\n",
       "</table>\n",
       "</div>"
      ],
      "text/plain": [
       "  subscription_type  minute_price  start_ride_price  subscription_fee\n",
       "0              free             8                50                 0\n",
       "1             ultra             6                 0               199"
      ]
     },
     "execution_count": 6,
     "metadata": {},
     "output_type": "execute_result"
    }
   ],
   "source": [
    "try:\n",
    "    df_subs = pd.read_csv('/datasets/subscriptions_go.csv')\n",
    "except:\n",
    "    df_subs = pd.read_csv('https://code.s3.yandex.net/datasets/subscriptions_go.csv')\n",
    "df_subs.head(10)\n"
   ]
  },
  {
   "cell_type": "markdown",
   "id": "234b8ee2",
   "metadata": {},
   "source": [
    "Переданный csv файл содержит малое количество данных и не нуждается в корректировках."
   ]
  },
  {
   "cell_type": "markdown",
   "id": "e95ebca7",
   "metadata": {},
   "source": [
    "### Предобработка данных"
   ]
  },
  {
   "cell_type": "markdown",
   "id": "dcd303d5",
   "metadata": {},
   "source": [
    "#### Таблица пользователей\n",
    "\n",
    "Рассмотрим дубликаты в таблице пользователей.  \n",
    "Дубликаты в user_id будут очевидными и их можно найти средствами python."
   ]
  },
  {
   "cell_type": "code",
   "execution_count": 7,
   "id": "b45b4301",
   "metadata": {},
   "outputs": [
    {
     "name": "stdout",
     "output_type": "stream",
     "text": [
      " Количество дубликатов по user_id в таблице пользователей: 31\n"
     ]
    }
   ],
   "source": [
    "print(f\" Количество дубликатов по user_id в таблице пользователей: {df_user.duplicated().sum()}\")"
   ]
  },
  {
   "cell_type": "markdown",
   "id": "79a9b0e7",
   "metadata": {},
   "source": [
    "Рассмотрим найденные дубликаты."
   ]
  },
  {
   "cell_type": "code",
   "execution_count": 8,
   "id": "95e7b498",
   "metadata": {},
   "outputs": [
    {
     "data": {
      "text/html": [
       "<div>\n",
       "<style scoped>\n",
       "    .dataframe tbody tr th:only-of-type {\n",
       "        vertical-align: middle;\n",
       "    }\n",
       "\n",
       "    .dataframe tbody tr th {\n",
       "        vertical-align: top;\n",
       "    }\n",
       "\n",
       "    .dataframe thead th {\n",
       "        text-align: right;\n",
       "    }\n",
       "</style>\n",
       "<table border=\"1\" class=\"dataframe\">\n",
       "  <thead>\n",
       "    <tr style=\"text-align: right;\">\n",
       "      <th></th>\n",
       "      <th>user_id</th>\n",
       "      <th>name</th>\n",
       "      <th>age</th>\n",
       "      <th>city</th>\n",
       "      <th>subscription_type</th>\n",
       "    </tr>\n",
       "  </thead>\n",
       "  <tbody>\n",
       "    <tr>\n",
       "      <th>1534</th>\n",
       "      <td>293</td>\n",
       "      <td>Агата</td>\n",
       "      <td>26</td>\n",
       "      <td>Краснодар</td>\n",
       "      <td>ultra</td>\n",
       "    </tr>\n",
       "    <tr>\n",
       "      <th>1535</th>\n",
       "      <td>16</td>\n",
       "      <td>Амалия</td>\n",
       "      <td>27</td>\n",
       "      <td>Краснодар</td>\n",
       "      <td>ultra</td>\n",
       "    </tr>\n",
       "    <tr>\n",
       "      <th>1536</th>\n",
       "      <td>909</td>\n",
       "      <td>Константин</td>\n",
       "      <td>20</td>\n",
       "      <td>Екатеринбург</td>\n",
       "      <td>free</td>\n",
       "    </tr>\n",
       "    <tr>\n",
       "      <th>1537</th>\n",
       "      <td>403</td>\n",
       "      <td>Полина</td>\n",
       "      <td>19</td>\n",
       "      <td>Сочи</td>\n",
       "      <td>ultra</td>\n",
       "    </tr>\n",
       "    <tr>\n",
       "      <th>1538</th>\n",
       "      <td>908</td>\n",
       "      <td>Рустам</td>\n",
       "      <td>30</td>\n",
       "      <td>Тюмень</td>\n",
       "      <td>free</td>\n",
       "    </tr>\n",
       "  </tbody>\n",
       "</table>\n",
       "</div>"
      ],
      "text/plain": [
       "      user_id        name  age          city subscription_type\n",
       "1534      293       Агата   26     Краснодар             ultra\n",
       "1535       16      Амалия   27     Краснодар             ultra\n",
       "1536      909  Константин   20  Екатеринбург              free\n",
       "1537      403      Полина   19          Сочи             ultra\n",
       "1538      908      Рустам   30        Тюмень              free"
      ]
     },
     "execution_count": 8,
     "metadata": {},
     "output_type": "execute_result"
    }
   ],
   "source": [
    "# Выводим пять дубликатов, через метод loc. В его аргументах - логическое выражение возвращающее индекс дубликатов\n",
    "df_user.loc[df_user.duplicated()[df_user.duplicated() == True].index].head(5)"
   ]
  },
  {
   "cell_type": "markdown",
   "id": "30b91611",
   "metadata": {},
   "source": [
    "Оценим, что явилось причиной дубликатов по user_id и не указаны ли различные пользователи под одним значением.  \n",
    "Для этого просмотрим часть повторяющихся значений."
   ]
  },
  {
   "cell_type": "code",
   "execution_count": 9,
   "id": "874059f0",
   "metadata": {},
   "outputs": [
    {
     "data": {
      "text/html": [
       "<div>\n",
       "<style scoped>\n",
       "    .dataframe tbody tr th:only-of-type {\n",
       "        vertical-align: middle;\n",
       "    }\n",
       "\n",
       "    .dataframe tbody tr th {\n",
       "        vertical-align: top;\n",
       "    }\n",
       "\n",
       "    .dataframe thead th {\n",
       "        text-align: right;\n",
       "    }\n",
       "</style>\n",
       "<table border=\"1\" class=\"dataframe\">\n",
       "  <thead>\n",
       "    <tr style=\"text-align: right;\">\n",
       "      <th></th>\n",
       "      <th>user_id</th>\n",
       "      <th>name</th>\n",
       "      <th>age</th>\n",
       "      <th>city</th>\n",
       "      <th>subscription_type</th>\n",
       "    </tr>\n",
       "  </thead>\n",
       "  <tbody>\n",
       "    <tr>\n",
       "      <th>15</th>\n",
       "      <td>16</td>\n",
       "      <td>Амалия</td>\n",
       "      <td>27</td>\n",
       "      <td>Краснодар</td>\n",
       "      <td>ultra</td>\n",
       "    </tr>\n",
       "    <tr>\n",
       "      <th>1535</th>\n",
       "      <td>16</td>\n",
       "      <td>Амалия</td>\n",
       "      <td>27</td>\n",
       "      <td>Краснодар</td>\n",
       "      <td>ultra</td>\n",
       "    </tr>\n",
       "    <tr>\n",
       "      <th>292</th>\n",
       "      <td>293</td>\n",
       "      <td>Агата</td>\n",
       "      <td>26</td>\n",
       "      <td>Краснодар</td>\n",
       "      <td>ultra</td>\n",
       "    </tr>\n",
       "    <tr>\n",
       "      <th>1534</th>\n",
       "      <td>293</td>\n",
       "      <td>Агата</td>\n",
       "      <td>26</td>\n",
       "      <td>Краснодар</td>\n",
       "      <td>ultra</td>\n",
       "    </tr>\n",
       "    <tr>\n",
       "      <th>402</th>\n",
       "      <td>403</td>\n",
       "      <td>Полина</td>\n",
       "      <td>19</td>\n",
       "      <td>Сочи</td>\n",
       "      <td>ultra</td>\n",
       "    </tr>\n",
       "    <tr>\n",
       "      <th>1537</th>\n",
       "      <td>403</td>\n",
       "      <td>Полина</td>\n",
       "      <td>19</td>\n",
       "      <td>Сочи</td>\n",
       "      <td>ultra</td>\n",
       "    </tr>\n",
       "    <tr>\n",
       "      <th>907</th>\n",
       "      <td>908</td>\n",
       "      <td>Рустам</td>\n",
       "      <td>30</td>\n",
       "      <td>Тюмень</td>\n",
       "      <td>free</td>\n",
       "    </tr>\n",
       "    <tr>\n",
       "      <th>1538</th>\n",
       "      <td>908</td>\n",
       "      <td>Рустам</td>\n",
       "      <td>30</td>\n",
       "      <td>Тюмень</td>\n",
       "      <td>free</td>\n",
       "    </tr>\n",
       "    <tr>\n",
       "      <th>908</th>\n",
       "      <td>909</td>\n",
       "      <td>Константин</td>\n",
       "      <td>20</td>\n",
       "      <td>Екатеринбург</td>\n",
       "      <td>free</td>\n",
       "    </tr>\n",
       "    <tr>\n",
       "      <th>1536</th>\n",
       "      <td>909</td>\n",
       "      <td>Константин</td>\n",
       "      <td>20</td>\n",
       "      <td>Екатеринбург</td>\n",
       "      <td>free</td>\n",
       "    </tr>\n",
       "  </tbody>\n",
       "</table>\n",
       "</div>"
      ],
      "text/plain": [
       "      user_id        name  age          city subscription_type\n",
       "15         16      Амалия   27     Краснодар             ultra\n",
       "1535       16      Амалия   27     Краснодар             ultra\n",
       "292       293       Агата   26     Краснодар             ultra\n",
       "1534      293       Агата   26     Краснодар             ultra\n",
       "402       403      Полина   19          Сочи             ultra\n",
       "1537      403      Полина   19          Сочи             ultra\n",
       "907       908      Рустам   30        Тюмень              free\n",
       "1538      908      Рустам   30        Тюмень              free\n",
       "908       909  Константин   20  Екатеринбург              free\n",
       "1536      909  Константин   20  Екатеринбург              free"
      ]
     },
     "execution_count": 9,
     "metadata": {},
     "output_type": "execute_result"
    }
   ],
   "source": [
    "df_user.loc[(df_user['user_id'] == 293) | (df_user['user_id'] == 16) | (df_user['user_id'] == 909) | (df_user['user_id'] == 403) | (df_user['user_id'] == 908)].sort_values(by = 'user_id')"
   ]
  },
  {
   "cell_type": "markdown",
   "id": "3a032682",
   "metadata": {},
   "source": [
    "Выявленные дубликаты - полностью дублируют имеющиеся данные.  \n",
    "Удалим дубликаты и произведём проверку удаления."
   ]
  },
  {
   "cell_type": "code",
   "execution_count": 10,
   "id": "b87c2615",
   "metadata": {},
   "outputs": [
    {
     "name": "stdout",
     "output_type": "stream",
     "text": [
      " Количество дубликатов по user_id в таблице пользователей: 0\n"
     ]
    }
   ],
   "source": [
    "df_user = df_user.drop_duplicates(subset = 'user_id')\n",
    "print(f\" Количество дубликатов по user_id в таблице пользователей: {df_user.duplicated().sum()}\")"
   ]
  },
  {
   "cell_type": "markdown",
   "id": "9129243a",
   "metadata": {},
   "source": [
    "#### Таблица поездок  \n",
    "  \n",
    "Рассмотрим таблицу поездок.  \n",
    "Дубликаты в таблице представляют интерес, если дублируется полная строка, рассмотрим количество дубликатов и удалим их, если они присутствуют."
   ]
  },
  {
   "cell_type": "code",
   "execution_count": 11,
   "id": "10487400",
   "metadata": {},
   "outputs": [
    {
     "name": "stdout",
     "output_type": "stream",
     "text": [
      " Количество полных дубликатов в таблице поездок: 0\n"
     ]
    }
   ],
   "source": [
    "print(f\" Количество полных дубликатов в таблице поездок: {df_rides.duplicated().sum()}\")\n"
   ]
  },
  {
   "cell_type": "markdown",
   "id": "9059780b",
   "metadata": {},
   "source": [
    "Для последующего анализа требуется создание столбца с номером месяца.  \n",
    "  \n",
    "Для этого необходимо изменить тип данных на datetime и проверить существует ли необходимость разделения месяцев по годам."
   ]
  },
  {
   "cell_type": "code",
   "execution_count": 12,
   "id": "05b722be",
   "metadata": {
    "scrolled": true
   },
   "outputs": [
    {
     "name": "stdout",
     "output_type": "stream",
     "text": [
      " В данных представлены следующие года: [2021]\n"
     ]
    }
   ],
   "source": [
    "#Изменяем тип данных, в изменённом столбце смотрим уникальные года\n",
    "df_rides['date'] = pd.to_datetime(df_rides['date'], format='%Y-%m-%d')\n",
    "print(f\" В данных представлены следующие года: {df_rides['date'].dt.year.unique()}\")"
   ]
  },
  {
   "cell_type": "markdown",
   "id": "b8f08bbd",
   "metadata": {},
   "source": [
    "Полученные данные охватывают период в один год, дополнительное уточнение по годам - не имеет смысла.  \n",
    "Произведём формирование столбца средствами python."
   ]
  },
  {
   "cell_type": "code",
   "execution_count": 13,
   "id": "2bf66cf6",
   "metadata": {
    "scrolled": false
   },
   "outputs": [
    {
     "data": {
      "text/html": [
       "<div>\n",
       "<style scoped>\n",
       "    .dataframe tbody tr th:only-of-type {\n",
       "        vertical-align: middle;\n",
       "    }\n",
       "\n",
       "    .dataframe tbody tr th {\n",
       "        vertical-align: top;\n",
       "    }\n",
       "\n",
       "    .dataframe thead th {\n",
       "        text-align: right;\n",
       "    }\n",
       "</style>\n",
       "<table border=\"1\" class=\"dataframe\">\n",
       "  <thead>\n",
       "    <tr style=\"text-align: right;\">\n",
       "      <th></th>\n",
       "      <th>user_id</th>\n",
       "      <th>distance</th>\n",
       "      <th>duration</th>\n",
       "      <th>date</th>\n",
       "      <th>month</th>\n",
       "    </tr>\n",
       "  </thead>\n",
       "  <tbody>\n",
       "    <tr>\n",
       "      <th>0</th>\n",
       "      <td>1</td>\n",
       "      <td>4409.919140</td>\n",
       "      <td>25.599769</td>\n",
       "      <td>2021-01-01</td>\n",
       "      <td>1</td>\n",
       "    </tr>\n",
       "    <tr>\n",
       "      <th>1</th>\n",
       "      <td>1</td>\n",
       "      <td>2617.592153</td>\n",
       "      <td>15.816871</td>\n",
       "      <td>2021-01-18</td>\n",
       "      <td>1</td>\n",
       "    </tr>\n",
       "    <tr>\n",
       "      <th>2</th>\n",
       "      <td>1</td>\n",
       "      <td>754.159807</td>\n",
       "      <td>6.232113</td>\n",
       "      <td>2021-04-20</td>\n",
       "      <td>4</td>\n",
       "    </tr>\n",
       "    <tr>\n",
       "      <th>3</th>\n",
       "      <td>1</td>\n",
       "      <td>2694.783254</td>\n",
       "      <td>18.511000</td>\n",
       "      <td>2021-08-11</td>\n",
       "      <td>8</td>\n",
       "    </tr>\n",
       "    <tr>\n",
       "      <th>4</th>\n",
       "      <td>1</td>\n",
       "      <td>4028.687306</td>\n",
       "      <td>26.265803</td>\n",
       "      <td>2021-08-28</td>\n",
       "      <td>8</td>\n",
       "    </tr>\n",
       "    <tr>\n",
       "      <th>...</th>\n",
       "      <td>...</td>\n",
       "      <td>...</td>\n",
       "      <td>...</td>\n",
       "      <td>...</td>\n",
       "      <td>...</td>\n",
       "    </tr>\n",
       "    <tr>\n",
       "      <th>18063</th>\n",
       "      <td>1534</td>\n",
       "      <td>3781.098080</td>\n",
       "      <td>19.822962</td>\n",
       "      <td>2021-11-04</td>\n",
       "      <td>11</td>\n",
       "    </tr>\n",
       "    <tr>\n",
       "      <th>18064</th>\n",
       "      <td>1534</td>\n",
       "      <td>2840.423057</td>\n",
       "      <td>21.409799</td>\n",
       "      <td>2021-11-16</td>\n",
       "      <td>11</td>\n",
       "    </tr>\n",
       "    <tr>\n",
       "      <th>18065</th>\n",
       "      <td>1534</td>\n",
       "      <td>3826.185507</td>\n",
       "      <td>18.435051</td>\n",
       "      <td>2021-11-18</td>\n",
       "      <td>11</td>\n",
       "    </tr>\n",
       "    <tr>\n",
       "      <th>18066</th>\n",
       "      <td>1534</td>\n",
       "      <td>2902.308661</td>\n",
       "      <td>16.674362</td>\n",
       "      <td>2021-11-27</td>\n",
       "      <td>11</td>\n",
       "    </tr>\n",
       "    <tr>\n",
       "      <th>18067</th>\n",
       "      <td>1534</td>\n",
       "      <td>2371.711192</td>\n",
       "      <td>15.893917</td>\n",
       "      <td>2021-12-29</td>\n",
       "      <td>12</td>\n",
       "    </tr>\n",
       "  </tbody>\n",
       "</table>\n",
       "<p>18068 rows × 5 columns</p>\n",
       "</div>"
      ],
      "text/plain": [
       "       user_id     distance   duration       date  month\n",
       "0            1  4409.919140  25.599769 2021-01-01      1\n",
       "1            1  2617.592153  15.816871 2021-01-18      1\n",
       "2            1   754.159807   6.232113 2021-04-20      4\n",
       "3            1  2694.783254  18.511000 2021-08-11      8\n",
       "4            1  4028.687306  26.265803 2021-08-28      8\n",
       "...        ...          ...        ...        ...    ...\n",
       "18063     1534  3781.098080  19.822962 2021-11-04     11\n",
       "18064     1534  2840.423057  21.409799 2021-11-16     11\n",
       "18065     1534  3826.185507  18.435051 2021-11-18     11\n",
       "18066     1534  2902.308661  16.674362 2021-11-27     11\n",
       "18067     1534  2371.711192  15.893917 2021-12-29     12\n",
       "\n",
       "[18068 rows x 5 columns]"
      ]
     },
     "execution_count": 13,
     "metadata": {},
     "output_type": "execute_result"
    }
   ],
   "source": [
    "df_rides['month'] = df_rides['date'].dt.month\n",
    "df_rides"
   ]
  },
  {
   "cell_type": "markdown",
   "id": "ffe61552",
   "metadata": {},
   "source": [
    "Рассмотрим, существуют ли аномалии в данных о продолжительности и времени поездок."
   ]
  },
  {
   "cell_type": "code",
   "execution_count": 14,
   "id": "835b529d",
   "metadata": {},
   "outputs": [
    {
     "data": {
      "image/png": "[encoded data removed]",
      "text/plain": [
       "<Figure size 864x432 with 2 Axes>"
      ]
     },
     "metadata": {
      "needs_background": "light"
     },
     "output_type": "display_data"
    }
   ],
   "source": [
    "\n",
    "fig = df_rides[['distance','duration']].hist(figsize=(12,6), bins = 35)\n",
    "tables = ['Расстояние поездки', 'Длительность поездки']\n",
    "cnt = 0\n",
    "for ax in fig.ravel():\n",
    "    ax.set_title(tables[cnt])\n",
    "    ax.set_xlabel(\"Значение показателя\")\n",
    "    ax.set_ylabel(\"Количество пользователей\")\n",
    "    cnt +=1"
   ]
  },
  {
   "cell_type": "markdown",
   "id": "6970c7be",
   "metadata": {},
   "source": [
    "Распределения данных не имеют значимых аномалий, однако следует выделить, что на графике расстояния поездок присутствует ярко выраженное нормальное распределение поездок от 1500 до 7000 и второе, меньшее нормальное распределение поездок до 1500 м.  \n",
    "В рамках последующего анализа, меньшее распределение не будет рассматриваться отдельно т.к. его исключение сильно исказит проверку гипотез, тем не менее данную особенность необходимо учитывать в формулировании гипотез в будующем.\n",
    "\n",
    "Т.к. данные из таблицы с финансовой политикой не нуждаются в предобрабоке, **данные готовы для исследовательского анализа**."
   ]
  },
  {
   "cell_type": "markdown",
   "id": "212593c7",
   "metadata": {},
   "source": [
    "### Исследовательский анализ данных"
   ]
  },
  {
   "cell_type": "markdown",
   "id": "69db6582",
   "metadata": {},
   "source": [
    "#### Встречаемость городов\n",
    "  \n",
    "В рамках задания на анализ, необходимо рассмотреть встречаемость городов в предоставленной выборке.  \n",
    "Рассчитаем процент пользователей в каждом городе, относительно общего количества пользователей в выборке."
   ]
  },
  {
   "cell_type": "code",
   "execution_count": 15,
   "id": "11676bdf",
   "metadata": {
    "scrolled": false
   },
   "outputs": [
    {
     "data": {
      "text/html": [
       "<div>\n",
       "<style scoped>\n",
       "    .dataframe tbody tr th:only-of-type {\n",
       "        vertical-align: middle;\n",
       "    }\n",
       "\n",
       "    .dataframe tbody tr th {\n",
       "        vertical-align: top;\n",
       "    }\n",
       "\n",
       "    .dataframe thead th {\n",
       "        text-align: right;\n",
       "    }\n",
       "</style>\n",
       "<table border=\"1\" class=\"dataframe\">\n",
       "  <thead>\n",
       "    <tr style=\"text-align: right;\">\n",
       "      <th></th>\n",
       "      <th>city</th>\n",
       "      <th>user_count</th>\n",
       "      <th>city_ratio</th>\n",
       "    </tr>\n",
       "  </thead>\n",
       "  <tbody>\n",
       "    <tr>\n",
       "      <th>2</th>\n",
       "      <td>Москва</td>\n",
       "      <td>168</td>\n",
       "      <td>10.95</td>\n",
       "    </tr>\n",
       "    <tr>\n",
       "      <th>7</th>\n",
       "      <td>Тюмень</td>\n",
       "      <td>180</td>\n",
       "      <td>11.73</td>\n",
       "    </tr>\n",
       "    <tr>\n",
       "      <th>3</th>\n",
       "      <td>Омск</td>\n",
       "      <td>183</td>\n",
       "      <td>11.93</td>\n",
       "    </tr>\n",
       "    <tr>\n",
       "      <th>6</th>\n",
       "      <td>Сочи</td>\n",
       "      <td>189</td>\n",
       "      <td>12.32</td>\n",
       "    </tr>\n",
       "    <tr>\n",
       "      <th>1</th>\n",
       "      <td>Краснодар</td>\n",
       "      <td>193</td>\n",
       "      <td>12.58</td>\n",
       "    </tr>\n",
       "    <tr>\n",
       "      <th>5</th>\n",
       "      <td>Ростов-на-Дону</td>\n",
       "      <td>198</td>\n",
       "      <td>12.91</td>\n",
       "    </tr>\n",
       "    <tr>\n",
       "      <th>0</th>\n",
       "      <td>Екатеринбург</td>\n",
       "      <td>204</td>\n",
       "      <td>13.30</td>\n",
       "    </tr>\n",
       "    <tr>\n",
       "      <th>4</th>\n",
       "      <td>Пятигорск</td>\n",
       "      <td>219</td>\n",
       "      <td>14.28</td>\n",
       "    </tr>\n",
       "  </tbody>\n",
       "</table>\n",
       "</div>"
      ],
      "text/plain": [
       "             city  user_count  city_ratio\n",
       "2          Москва         168       10.95\n",
       "7          Тюмень         180       11.73\n",
       "3            Омск         183       11.93\n",
       "6            Сочи         189       12.32\n",
       "1       Краснодар         193       12.58\n",
       "5  Ростов-на-Дону         198       12.91\n",
       "0    Екатеринбург         204       13.30\n",
       "4       Пятигорск         219       14.28"
      ]
     },
     "execution_count": 15,
     "metadata": {},
     "output_type": "execute_result"
    },
    {
     "data": {
      "image/png": "[encoded data removed]",
      "text/plain": [
       "<Figure size 864x432 with 1 Axes>"
      ]
     },
     "metadata": {
      "needs_background": "light"
     },
     "output_type": "display_data"
    }
   ],
   "source": [
    "# Сгруппируем данные по городам, рассчитаем отношение пользователей к общему числу. \n",
    "# reset_index применён для формирования удобного в работе датафрейма.\n",
    "# Столбцы переименованы для удобства просмотра.\n",
    "\n",
    "df_city = df_user.groupby('city')['user_id'].count().reset_index()\n",
    "df_city.columns = ['city', 'user_count']\n",
    "df_city['city_ratio'] = round(df_city['user_count']/df_city['user_count'].sum()*100,2)\n",
    "\n",
    "fig, ax = plt.subplots(figsize=(12, 6))\n",
    "ax.bar((df_city.sort_values(by = 'city_ratio')['city']), df_city['city_ratio'].sort_values());\n",
    "ax.set_ylabel('% пользователей', fontsize = 14)\n",
    "ax.set_title('Встречаемость городов', fontsize = 18)\n",
    "\n",
    "for label in (ax.get_yticklabels()):\n",
    "    label.set_fontsize(16)\n",
    "    \n",
    "df_city.sort_values(by = 'city_ratio')"
   ]
  },
  {
   "cell_type": "markdown",
   "id": "26b2acf5",
   "metadata": {},
   "source": [
    "Встречаемость городов относительно равная и колеблется от 10,95% пользователей от общего числа до 14,28%.  \n",
    "Набольшее число пользователей, представленных в выборке - в Пятигорске, наименьшее - в Москве.  \n"
   ]
  },
  {
   "cell_type": "markdown",
   "id": "dc9dcab6",
   "metadata": {},
   "source": [
    "#### Соотношение форм подписок  \n",
    "  \n",
    "В рамках задания на анализ, необходимо рассмотреть соотношение между пользователями с подпиской и без.  \n",
    "Произведём необходимые вычисления.  "
   ]
  },
  {
   "cell_type": "code",
   "execution_count": 16,
   "id": "d558d745",
   "metadata": {
    "scrolled": false
   },
   "outputs": [
    {
     "data": {
      "text/html": [
       "<div>\n",
       "<style scoped>\n",
       "    .dataframe tbody tr th:only-of-type {\n",
       "        vertical-align: middle;\n",
       "    }\n",
       "\n",
       "    .dataframe tbody tr th {\n",
       "        vertical-align: top;\n",
       "    }\n",
       "\n",
       "    .dataframe thead th {\n",
       "        text-align: right;\n",
       "    }\n",
       "</style>\n",
       "<table border=\"1\" class=\"dataframe\">\n",
       "  <thead>\n",
       "    <tr style=\"text-align: right;\">\n",
       "      <th></th>\n",
       "      <th>subscription_type</th>\n",
       "      <th>user_count</th>\n",
       "      <th>subs_ratio</th>\n",
       "    </tr>\n",
       "  </thead>\n",
       "  <tbody>\n",
       "    <tr>\n",
       "      <th>0</th>\n",
       "      <td>free</td>\n",
       "      <td>835</td>\n",
       "      <td>54.43</td>\n",
       "    </tr>\n",
       "    <tr>\n",
       "      <th>1</th>\n",
       "      <td>ultra</td>\n",
       "      <td>699</td>\n",
       "      <td>45.57</td>\n",
       "    </tr>\n",
       "  </tbody>\n",
       "</table>\n",
       "</div>"
      ],
      "text/plain": [
       "  subscription_type  user_count  subs_ratio\n",
       "0              free         835       54.43\n",
       "1             ultra         699       45.57"
      ]
     },
     "execution_count": 16,
     "metadata": {},
     "output_type": "execute_result"
    },
    {
     "data": {
      "image/png": "[encoded data removed]",
      "text/plain": [
       "<Figure size 432x432 with 1 Axes>"
      ]
     },
     "metadata": {},
     "output_type": "display_data"
    }
   ],
   "source": [
    "# Аналогично предыдущему пункту\n",
    "df_sub_ratio = df_user.groupby('subscription_type')['user_id'].count().reset_index()\n",
    "df_sub_ratio.columns = ['subscription_type', 'user_count']\n",
    "df_sub_ratio['subs_ratio'] = round(df_sub_ratio['user_count']/df_sub_ratio['user_count'].sum()*100,2)\n",
    "\n",
    "fig, ax = plt.subplots(figsize=(6, 6))\n",
    "\n",
    "plt.pie(\n",
    "    df_sub_ratio['subs_ratio'], \n",
    "    labels = ['Пользователи с подпиской free', 'Пользователи с подпиской ultra'], \n",
    "    autopct='%1.1f%%', \n",
    "    radius = 1,\n",
    "    textprops={'fontsize': 14},\n",
    "    center = (0,3)\n",
    "    );\n",
    "\n",
    "ax.set_title('Соотношение подписок', fontsize = 18)\n",
    "df_sub_ratio"
   ]
  },
  {
   "cell_type": "markdown",
   "id": "cbc22a26",
   "metadata": {},
   "source": [
    "Больше половины пользователей - 54,43% - пользуются бесплатной подпиской.  \n",
    "Платной подпиской пользуется 45,57% процентов пользователей, соответственно.\n"
   ]
  },
  {
   "cell_type": "markdown",
   "id": "e509171c",
   "metadata": {},
   "source": [
    "#### Возраст пользователей  \n",
    "  \n",
    "В рамках задания на анализ, необходимо рассмотреть возрастной состав пользователей.  \n",
    "Для удобства восприятия информации разобъём пользователей на категории.  \n",
    "Для формирования категорий - рассмотрим возраст пользователей в предоставленных данных."
   ]
  },
  {
   "cell_type": "code",
   "execution_count": 17,
   "id": "8f92c116",
   "metadata": {},
   "outputs": [
    {
     "data": {
      "text/plain": [
       "count    1534.000000\n",
       "mean       24.903520\n",
       "std         4.572367\n",
       "min        12.000000\n",
       "25%        22.000000\n",
       "50%        25.000000\n",
       "75%        28.000000\n",
       "max        43.000000\n",
       "Name: age, dtype: float64"
      ]
     },
     "execution_count": 17,
     "metadata": {},
     "output_type": "execute_result"
    }
   ],
   "source": [
    "df_user['age'].describe()"
   ]
  },
  {
   "cell_type": "markdown",
   "id": "358be7e3",
   "metadata": {},
   "source": [
    "В задании на анализ не приведено желаемое правило категоризации, также неизвестна возрастная политика приложения.  \n",
    "Наиболее оптимальным будет рассмотреть категории разбитые по десятилетиям.  \n",
    "Из максимальных и минимальных значений возраста в выборке, можно сформировать следующие категории:  \n",
    "- \"< 20 лет\";\n",
    "- \"20-30 лет\";\n",
    "- \"31-40 лет\";\n",
    "- \"> 40 лет\"."
   ]
  },
  {
   "cell_type": "code",
   "execution_count": 18,
   "id": "c7309ee5",
   "metadata": {},
   "outputs": [],
   "source": [
    "# напишем простую формулу категоризации\n",
    "def age_categorizer(age):\n",
    "    if age<20:\n",
    "        return '<20'\n",
    "    elif age<=30:\n",
    "        return '20-30'\n",
    "    elif age<=40:\n",
    "        return '31-40'\n",
    "    else:\n",
    "        return '>40'"
   ]
  },
  {
   "cell_type": "code",
   "execution_count": 19,
   "id": "6c730ea9",
   "metadata": {
    "scrolled": false
   },
   "outputs": [
    {
     "data": {
      "image/png": "[encoded data removed]",
      "text/plain": [
       "<Figure size 864x432 with 2 Axes>"
      ]
     },
     "metadata": {
      "needs_background": "light"
     },
     "output_type": "display_data"
    }
   ],
   "source": [
    "# Применим формулу и сформируем отчётную таблицу\n",
    "df_user['age_category'] = df_user['age'].apply(age_categorizer)\n",
    "df_user_ratio = df_user.groupby('age_category')['user_id'].count().reset_index()\n",
    "df_user_ratio.columns = ['age_category', 'user_count']\n",
    "df_user_ratio['age_group_ratio'] = round(df_user_ratio['user_count']/df_user_ratio['user_count'].sum()*100,2)\n",
    "\n",
    "df_user_ratio.sort_values(by = 'age_group_ratio')\n",
    "\n",
    "fig = plt.figure(figsize = (12,6))\n",
    "gs = gridspec.GridSpec(1, 2)\n",
    "\n",
    "ax1 = fig.add_subplot(gs[0, 0])\n",
    "\n",
    "ax1.pie(\n",
    "    df_user_ratio['age_group_ratio'], \n",
    "    labels = df_user_ratio['age_category'], \n",
    "    autopct='%1.1f%%', \n",
    "    radius = 1,\n",
    "    textprops={'fontsize': 14},\n",
    "    center = (0,3)\n",
    "    );\n",
    "ax1.set_title('Соотношение возрастных групп', fontsize = 18);\n",
    "ax2 = fig.add_subplot(gs[0,-1])\n",
    "\n",
    "ax2.hist(df_user['age'], bins = 15);\n",
    "ax2.set_title('Распределение возрастов', fontsize = 18);"
   ]
  },
  {
   "cell_type": "markdown",
   "id": "f2d056a6",
   "metadata": {},
   "source": [
    "В присутствующей выборке - самая значительная группа пользователей - 20-30 лет.  \n",
    "Есть только один пользователь старше 40 лет.\n",
    "Группы моложе 20 лет и от 31 до 40 - равны."
   ]
  },
  {
   "cell_type": "markdown",
   "id": "6c4d708f",
   "metadata": {},
   "source": [
    "#### Расстояние и время поездки"
   ]
  },
  {
   "cell_type": "markdown",
   "id": "4915ac2e",
   "metadata": {},
   "source": [
    "В рамках задания на анализ, необходимо рассмотреть характеристику данных о поездках - расстояния и времени.  \n",
    "Учитывая, что распределения этих данных - близкое к нормальному, их можно описать средними значениями."
   ]
  },
  {
   "cell_type": "code",
   "execution_count": 20,
   "id": "011f1628",
   "metadata": {
    "scrolled": false
   },
   "outputs": [
    {
     "data": {
      "image/png": "[encoded data removed]",
      "text/plain": [
       "<Figure size 1080x432 with 2 Axes>"
      ]
     },
     "metadata": {
      "needs_background": "light"
     },
     "output_type": "display_data"
    },
    {
     "name": "stdout",
     "output_type": "stream",
     "text": [
      "Средняя дистанция поездки: 3070.66м\n",
      "Средняя длительность поездки: 17.81 минут\n"
     ]
    }
   ],
   "source": [
    "fig = df_rides[['distance','duration']].hist(figsize=(15, 6), bins = 35);\n",
    "tables = ['Расстояние поездки', 'Длительность поездки']\n",
    "cnt = 0\n",
    "for ax in fig.ravel():\n",
    "    ax.set_title(tables[cnt])\n",
    "    ax.set_xlabel(\"Значение показателя\")\n",
    "    ax.set_ylabel(\"Количество пользователей\")\n",
    "    cnt +=1\n",
    "plt.show()\n",
    "\n",
    "print(f\"Средняя дистанция поездки: {round(df_rides['distance'].mean(),2)}м\")\n",
    "print(f\"Средняя длительность поездки: {round(df_rides['duration'].mean(),2)} минут\")\n"
   ]
  },
  {
   "cell_type": "markdown",
   "id": "9a30810d",
   "metadata": {},
   "source": [
    "Рассмотрим аномалии и небольшой пик возле нуля в длительности поездок.  \n",
    "Произведём сравнение длительности поездки и затраченного времени на неё, для чего рассчитаем параметр условной скорости и рассмотрим его выбросы."
   ]
  },
  {
   "cell_type": "code",
   "execution_count": 21,
   "id": "c5ddd01b",
   "metadata": {},
   "outputs": [
    {
     "data": {
      "text/plain": [
       "count    18068.000000\n",
       "mean        13.785261\n",
       "std         44.156189\n",
       "min          0.005133\n",
       "25%          8.127843\n",
       "50%         10.251135\n",
       "75%         12.929800\n",
       "max        865.320929\n",
       "Name: speed, dtype: float64"
      ]
     },
     "execution_count": 21,
     "metadata": {},
     "output_type": "execute_result"
    }
   ],
   "source": [
    "df_rides['speed'] = (df_rides['distance']/1000)/(df_rides['duration']/60)\n",
    "df_rides['speed'].describe()"
   ]
  },
  {
   "cell_type": "markdown",
   "id": "a212bc1a",
   "metadata": {},
   "source": [
    "Межквантильный размах - в границах ожидаемых значений.  \n",
    "Тем не менее - максимальные значения крайне высокие.  \n",
    "Рассмотрим выбросы.  \n",
    "Выбросы определим как значения за пределами среднего + 3 стандартных отклонения."
   ]
  },
  {
   "cell_type": "code",
   "execution_count": 22,
   "id": "360c4b85",
   "metadata": {},
   "outputs": [
    {
     "name": "stdout",
     "output_type": "stream",
     "text": [
      "Суммарное количество выбросов: 95\n"
     ]
    },
    {
     "data": {
      "text/html": [
       "<div>\n",
       "<style scoped>\n",
       "    .dataframe tbody tr th:only-of-type {\n",
       "        vertical-align: middle;\n",
       "    }\n",
       "\n",
       "    .dataframe tbody tr th {\n",
       "        vertical-align: top;\n",
       "    }\n",
       "\n",
       "    .dataframe thead th {\n",
       "        text-align: right;\n",
       "    }\n",
       "</style>\n",
       "<table border=\"1\" class=\"dataframe\">\n",
       "  <thead>\n",
       "    <tr style=\"text-align: right;\">\n",
       "      <th></th>\n",
       "      <th>user_id</th>\n",
       "      <th>distance</th>\n",
       "      <th>duration</th>\n",
       "      <th>date</th>\n",
       "      <th>month</th>\n",
       "      <th>speed</th>\n",
       "    </tr>\n",
       "  </thead>\n",
       "  <tbody>\n",
       "    <tr>\n",
       "      <th>15132</th>\n",
       "      <td>1325</td>\n",
       "      <td>4030.308008</td>\n",
       "      <td>0.5</td>\n",
       "      <td>2021-12-22</td>\n",
       "      <td>12</td>\n",
       "      <td>483.636961</td>\n",
       "    </tr>\n",
       "    <tr>\n",
       "      <th>17909</th>\n",
       "      <td>1524</td>\n",
       "      <td>4103.998874</td>\n",
       "      <td>0.5</td>\n",
       "      <td>2021-06-18</td>\n",
       "      <td>6</td>\n",
       "      <td>492.479865</td>\n",
       "    </tr>\n",
       "    <tr>\n",
       "      <th>10692</th>\n",
       "      <td>1006</td>\n",
       "      <td>4106.278268</td>\n",
       "      <td>0.5</td>\n",
       "      <td>2021-10-31</td>\n",
       "      <td>10</td>\n",
       "      <td>492.753392</td>\n",
       "    </tr>\n",
       "    <tr>\n",
       "      <th>9698</th>\n",
       "      <td>937</td>\n",
       "      <td>4169.066800</td>\n",
       "      <td>0.5</td>\n",
       "      <td>2021-12-12</td>\n",
       "      <td>12</td>\n",
       "      <td>500.288016</td>\n",
       "    </tr>\n",
       "    <tr>\n",
       "      <th>14342</th>\n",
       "      <td>1268</td>\n",
       "      <td>4177.139336</td>\n",
       "      <td>0.5</td>\n",
       "      <td>2021-06-09</td>\n",
       "      <td>6</td>\n",
       "      <td>501.256720</td>\n",
       "    </tr>\n",
       "    <tr>\n",
       "      <th>14417</th>\n",
       "      <td>1273</td>\n",
       "      <td>4178.876258</td>\n",
       "      <td>0.5</td>\n",
       "      <td>2021-04-30</td>\n",
       "      <td>4</td>\n",
       "      <td>501.465151</td>\n",
       "    </tr>\n",
       "    <tr>\n",
       "      <th>6531</th>\n",
       "      <td>701</td>\n",
       "      <td>4196.445201</td>\n",
       "      <td>0.5</td>\n",
       "      <td>2021-08-31</td>\n",
       "      <td>8</td>\n",
       "      <td>503.573424</td>\n",
       "    </tr>\n",
       "    <tr>\n",
       "      <th>10650</th>\n",
       "      <td>1003</td>\n",
       "      <td>4204.302074</td>\n",
       "      <td>0.5</td>\n",
       "      <td>2021-05-17</td>\n",
       "      <td>5</td>\n",
       "      <td>504.516249</td>\n",
       "    </tr>\n",
       "    <tr>\n",
       "      <th>16336</th>\n",
       "      <td>1412</td>\n",
       "      <td>4247.502137</td>\n",
       "      <td>0.5</td>\n",
       "      <td>2021-11-28</td>\n",
       "      <td>11</td>\n",
       "      <td>509.700256</td>\n",
       "    </tr>\n",
       "    <tr>\n",
       "      <th>16754</th>\n",
       "      <td>1439</td>\n",
       "      <td>4324.482439</td>\n",
       "      <td>0.5</td>\n",
       "      <td>2021-12-27</td>\n",
       "      <td>12</td>\n",
       "      <td>518.937893</td>\n",
       "    </tr>\n",
       "  </tbody>\n",
       "</table>\n",
       "</div>"
      ],
      "text/plain": [
       "       user_id     distance  duration       date  month       speed\n",
       "15132     1325  4030.308008       0.5 2021-12-22     12  483.636961\n",
       "17909     1524  4103.998874       0.5 2021-06-18      6  492.479865\n",
       "10692     1006  4106.278268       0.5 2021-10-31     10  492.753392\n",
       "9698       937  4169.066800       0.5 2021-12-12     12  500.288016\n",
       "14342     1268  4177.139336       0.5 2021-06-09      6  501.256720\n",
       "14417     1273  4178.876258       0.5 2021-04-30      4  501.465151\n",
       "6531       701  4196.445201       0.5 2021-08-31      8  503.573424\n",
       "10650     1003  4204.302074       0.5 2021-05-17      5  504.516249\n",
       "16336     1412  4247.502137       0.5 2021-11-28     11  509.700256\n",
       "16754     1439  4324.482439       0.5 2021-12-27     12  518.937893"
      ]
     },
     "execution_count": 22,
     "metadata": {},
     "output_type": "execute_result"
    }
   ],
   "source": [
    "print(f\"Суммарное количество выбросов: {df_rides.loc[df_rides['speed']>130, 'speed'].count()}\")\n",
    "df_rides.loc[df_rides['speed']>130].sort_values(by = 'speed').head(10)"
   ]
  },
  {
   "cell_type": "markdown",
   "id": "aaf50ea2",
   "metadata": {},
   "source": [
    "Выбросы, скорее всего, обусловлены ошибочной регистрацией времени поездки - всё время поездок равняется 0,5 минуты.  \n",
    "Удаление выбросов в данном случае - нецелесообразно, т.к. для дальнейшего анализа важно количество поездок, ошибочно их длительность зарегестрирована или нет."
   ]
  },
  {
   "cell_type": "markdown",
   "id": "15b218a5",
   "metadata": {},
   "source": [
    "#### Выводы по результатам исследовательского анализа"
   ]
  },
  {
   "cell_type": "markdown",
   "id": "e1e6b5f7",
   "metadata": {},
   "source": [
    "- Встречаемость городов относительно равная и колеблется от 10,95% пользователей от общего числа до 14,28%. Набольшее число пользователей, представленных в выборке - в Пятигорске, наименьшее - в Москве.\n",
    "- Больше половины пользователей - 54,43% - пользуются бесплатной подпиской. Платной подпиской пользуется 45,57% процентов пользователей, соответственно.\n",
    "- В присутствующей выборке - самая значительная группа пользователей - 20-30 лет(78%). Есть только один пользователь старше 40 лет. Группы моложе 20 лет и от 31 до 40 - равны (11% каждая).\n",
    "- Средняя дистанция поездки среди всех пользователей: 3070.66м\n",
    "- Средняя длительность поездки среди всех пользователей: 17.81 минут"
   ]
  },
  {
   "cell_type": "markdown",
   "id": "4ef51331",
   "metadata": {},
   "source": [
    "### Подготовка данных к проверке гипотез"
   ]
  },
  {
   "cell_type": "markdown",
   "id": "76dafe78",
   "metadata": {},
   "source": [
    "#### Объединение данных"
   ]
  },
  {
   "cell_type": "markdown",
   "id": "d98678a4",
   "metadata": {},
   "source": [
    "Объединим данные в единый датафрейм.  \n",
    "Для последующего анализа потребуется приведение длительности поездки \"вверх\" к ближайшему целому, осуществим его на этом этапе.   \n",
    "Для проверки объединения приведём сравнение с размерами наибольшей исходной таблицы (таблица поездок) и выведем максимальное число пропусков в объединённой таблице, если таковые имеются."
   ]
  },
  {
   "cell_type": "code",
   "execution_count": 23,
   "id": "029cd863",
   "metadata": {
    "scrolled": false
   },
   "outputs": [
    {
     "name": "stdout",
     "output_type": "stream",
     "text": [
      "Размер таблицы поездок до объединения: 18068\n",
      "Размер объединённой таблицы: 18068\n",
      "Пропусков в объединённой таблице: 0\n"
     ]
    },
    {
     "data": {
      "text/html": [
       "<div>\n",
       "<style scoped>\n",
       "    .dataframe tbody tr th:only-of-type {\n",
       "        vertical-align: middle;\n",
       "    }\n",
       "\n",
       "    .dataframe tbody tr th {\n",
       "        vertical-align: top;\n",
       "    }\n",
       "\n",
       "    .dataframe thead th {\n",
       "        text-align: right;\n",
       "    }\n",
       "</style>\n",
       "<table border=\"1\" class=\"dataframe\">\n",
       "  <thead>\n",
       "    <tr style=\"text-align: right;\">\n",
       "      <th></th>\n",
       "      <th>user_id</th>\n",
       "      <th>name</th>\n",
       "      <th>age</th>\n",
       "      <th>city</th>\n",
       "      <th>subscription_type</th>\n",
       "      <th>age_category</th>\n",
       "      <th>distance</th>\n",
       "      <th>duration</th>\n",
       "      <th>date</th>\n",
       "      <th>month</th>\n",
       "      <th>speed</th>\n",
       "      <th>minute_price</th>\n",
       "      <th>start_ride_price</th>\n",
       "      <th>subscription_fee</th>\n",
       "    </tr>\n",
       "  </thead>\n",
       "  <tbody>\n",
       "    <tr>\n",
       "      <th>0</th>\n",
       "      <td>1</td>\n",
       "      <td>Кира</td>\n",
       "      <td>22</td>\n",
       "      <td>Тюмень</td>\n",
       "      <td>ultra</td>\n",
       "      <td>20-30</td>\n",
       "      <td>4409.919140</td>\n",
       "      <td>26.0</td>\n",
       "      <td>2021-01-01</td>\n",
       "      <td>1</td>\n",
       "      <td>10.335841</td>\n",
       "      <td>6</td>\n",
       "      <td>0</td>\n",
       "      <td>199</td>\n",
       "    </tr>\n",
       "    <tr>\n",
       "      <th>1</th>\n",
       "      <td>1</td>\n",
       "      <td>Кира</td>\n",
       "      <td>22</td>\n",
       "      <td>Тюмень</td>\n",
       "      <td>ultra</td>\n",
       "      <td>20-30</td>\n",
       "      <td>2617.592153</td>\n",
       "      <td>16.0</td>\n",
       "      <td>2021-01-18</td>\n",
       "      <td>1</td>\n",
       "      <td>9.929620</td>\n",
       "      <td>6</td>\n",
       "      <td>0</td>\n",
       "      <td>199</td>\n",
       "    </tr>\n",
       "    <tr>\n",
       "      <th>2</th>\n",
       "      <td>1</td>\n",
       "      <td>Кира</td>\n",
       "      <td>22</td>\n",
       "      <td>Тюмень</td>\n",
       "      <td>ultra</td>\n",
       "      <td>20-30</td>\n",
       "      <td>754.159807</td>\n",
       "      <td>7.0</td>\n",
       "      <td>2021-04-20</td>\n",
       "      <td>4</td>\n",
       "      <td>7.260713</td>\n",
       "      <td>6</td>\n",
       "      <td>0</td>\n",
       "      <td>199</td>\n",
       "    </tr>\n",
       "    <tr>\n",
       "      <th>3</th>\n",
       "      <td>1</td>\n",
       "      <td>Кира</td>\n",
       "      <td>22</td>\n",
       "      <td>Тюмень</td>\n",
       "      <td>ultra</td>\n",
       "      <td>20-30</td>\n",
       "      <td>2694.783254</td>\n",
       "      <td>19.0</td>\n",
       "      <td>2021-08-11</td>\n",
       "      <td>8</td>\n",
       "      <td>8.734644</td>\n",
       "      <td>6</td>\n",
       "      <td>0</td>\n",
       "      <td>199</td>\n",
       "    </tr>\n",
       "    <tr>\n",
       "      <th>4</th>\n",
       "      <td>1</td>\n",
       "      <td>Кира</td>\n",
       "      <td>22</td>\n",
       "      <td>Тюмень</td>\n",
       "      <td>ultra</td>\n",
       "      <td>20-30</td>\n",
       "      <td>4028.687306</td>\n",
       "      <td>27.0</td>\n",
       "      <td>2021-08-28</td>\n",
       "      <td>8</td>\n",
       "      <td>9.202888</td>\n",
       "      <td>6</td>\n",
       "      <td>0</td>\n",
       "      <td>199</td>\n",
       "    </tr>\n",
       "  </tbody>\n",
       "</table>\n",
       "</div>"
      ],
      "text/plain": [
       "   user_id  name  age    city subscription_type age_category     distance  \\\n",
       "0        1  Кира   22  Тюмень             ultra        20-30  4409.919140   \n",
       "1        1  Кира   22  Тюмень             ultra        20-30  2617.592153   \n",
       "2        1  Кира   22  Тюмень             ultra        20-30   754.159807   \n",
       "3        1  Кира   22  Тюмень             ultra        20-30  2694.783254   \n",
       "4        1  Кира   22  Тюмень             ultra        20-30  4028.687306   \n",
       "\n",
       "   duration       date  month      speed  minute_price  start_ride_price  \\\n",
       "0      26.0 2021-01-01      1  10.335841             6                 0   \n",
       "1      16.0 2021-01-18      1   9.929620             6                 0   \n",
       "2       7.0 2021-04-20      4   7.260713             6                 0   \n",
       "3      19.0 2021-08-11      8   8.734644             6                 0   \n",
       "4      27.0 2021-08-28      8   9.202888             6                 0   \n",
       "\n",
       "   subscription_fee  \n",
       "0               199  \n",
       "1               199  \n",
       "2               199  \n",
       "3               199  \n",
       "4               199  "
      ]
     },
     "execution_count": 23,
     "metadata": {},
     "output_type": "execute_result"
    }
   ],
   "source": [
    "df_general = df_user.merge(df_rides, on = 'user_id', how = 'inner')\n",
    "df_general = df_general.merge(df_subs, on = 'subscription_type', how = 'inner')\n",
    "df_general['duration'] = np.ceil(df_general['duration'])\n",
    "print(f\"Размер таблицы поездок до объединения: {len(df_rides)}\")\n",
    "print(f\"Размер объединённой таблицы: {len(df_general)}\")\n",
    "print(f\"Пропусков в объединённой таблице: {df_general.isna().sum().max()}\")\n",
    "df_general.head(5)"
   ]
  },
  {
   "cell_type": "markdown",
   "id": "654bf02f",
   "metadata": {},
   "source": [
    "Объединение успешно.  \n",
    "Далее - разделим получившийся датафрейм по типам подписки.\n"
   ]
  },
  {
   "cell_type": "code",
   "execution_count": 24,
   "id": "9958584c",
   "metadata": {},
   "outputs": [
    {
     "data": {
      "text/html": [
       "<div>\n",
       "<style scoped>\n",
       "    .dataframe tbody tr th:only-of-type {\n",
       "        vertical-align: middle;\n",
       "    }\n",
       "\n",
       "    .dataframe tbody tr th {\n",
       "        vertical-align: top;\n",
       "    }\n",
       "\n",
       "    .dataframe thead th {\n",
       "        text-align: right;\n",
       "    }\n",
       "</style>\n",
       "<table border=\"1\" class=\"dataframe\">\n",
       "  <thead>\n",
       "    <tr style=\"text-align: right;\">\n",
       "      <th></th>\n",
       "      <th>user_id</th>\n",
       "      <th>name</th>\n",
       "      <th>age</th>\n",
       "      <th>city</th>\n",
       "      <th>subscription_type</th>\n",
       "      <th>age_category</th>\n",
       "      <th>distance</th>\n",
       "      <th>duration</th>\n",
       "      <th>date</th>\n",
       "      <th>month</th>\n",
       "      <th>speed</th>\n",
       "      <th>minute_price</th>\n",
       "      <th>start_ride_price</th>\n",
       "      <th>subscription_fee</th>\n",
       "    </tr>\n",
       "  </thead>\n",
       "  <tbody>\n",
       "    <tr>\n",
       "      <th>6500</th>\n",
       "      <td>700</td>\n",
       "      <td>Айдар</td>\n",
       "      <td>22</td>\n",
       "      <td>Омск</td>\n",
       "      <td>free</td>\n",
       "      <td>20-30</td>\n",
       "      <td>2515.690719</td>\n",
       "      <td>15.0</td>\n",
       "      <td>2021-01-02</td>\n",
       "      <td>1</td>\n",
       "      <td>10.100278</td>\n",
       "      <td>8</td>\n",
       "      <td>50</td>\n",
       "      <td>0</td>\n",
       "    </tr>\n",
       "    <tr>\n",
       "      <th>6501</th>\n",
       "      <td>700</td>\n",
       "      <td>Айдар</td>\n",
       "      <td>22</td>\n",
       "      <td>Омск</td>\n",
       "      <td>free</td>\n",
       "      <td>20-30</td>\n",
       "      <td>846.932642</td>\n",
       "      <td>17.0</td>\n",
       "      <td>2021-02-01</td>\n",
       "      <td>2</td>\n",
       "      <td>3.130090</td>\n",
       "      <td>8</td>\n",
       "      <td>50</td>\n",
       "      <td>0</td>\n",
       "    </tr>\n",
       "    <tr>\n",
       "      <th>6502</th>\n",
       "      <td>700</td>\n",
       "      <td>Айдар</td>\n",
       "      <td>22</td>\n",
       "      <td>Омск</td>\n",
       "      <td>free</td>\n",
       "      <td>20-30</td>\n",
       "      <td>4004.434142</td>\n",
       "      <td>21.0</td>\n",
       "      <td>2021-02-04</td>\n",
       "      <td>2</td>\n",
       "      <td>12.003323</td>\n",
       "      <td>8</td>\n",
       "      <td>50</td>\n",
       "      <td>0</td>\n",
       "    </tr>\n",
       "    <tr>\n",
       "      <th>6503</th>\n",
       "      <td>700</td>\n",
       "      <td>Айдар</td>\n",
       "      <td>22</td>\n",
       "      <td>Омск</td>\n",
       "      <td>free</td>\n",
       "      <td>20-30</td>\n",
       "      <td>1205.911290</td>\n",
       "      <td>10.0</td>\n",
       "      <td>2021-02-10</td>\n",
       "      <td>2</td>\n",
       "      <td>7.396057</td>\n",
       "      <td>8</td>\n",
       "      <td>50</td>\n",
       "      <td>0</td>\n",
       "    </tr>\n",
       "    <tr>\n",
       "      <th>6504</th>\n",
       "      <td>700</td>\n",
       "      <td>Айдар</td>\n",
       "      <td>22</td>\n",
       "      <td>Омск</td>\n",
       "      <td>free</td>\n",
       "      <td>20-30</td>\n",
       "      <td>3047.379435</td>\n",
       "      <td>18.0</td>\n",
       "      <td>2021-02-14</td>\n",
       "      <td>2</td>\n",
       "      <td>10.491519</td>\n",
       "      <td>8</td>\n",
       "      <td>50</td>\n",
       "      <td>0</td>\n",
       "    </tr>\n",
       "  </tbody>\n",
       "</table>\n",
       "</div>"
      ],
      "text/plain": [
       "      user_id   name  age  city subscription_type age_category     distance  \\\n",
       "6500      700  Айдар   22  Омск              free        20-30  2515.690719   \n",
       "6501      700  Айдар   22  Омск              free        20-30   846.932642   \n",
       "6502      700  Айдар   22  Омск              free        20-30  4004.434142   \n",
       "6503      700  Айдар   22  Омск              free        20-30  1205.911290   \n",
       "6504      700  Айдар   22  Омск              free        20-30  3047.379435   \n",
       "\n",
       "      duration       date  month      speed  minute_price  start_ride_price  \\\n",
       "6500      15.0 2021-01-02      1  10.100278             8                50   \n",
       "6501      17.0 2021-02-01      2   3.130090             8                50   \n",
       "6502      21.0 2021-02-04      2  12.003323             8                50   \n",
       "6503      10.0 2021-02-10      2   7.396057             8                50   \n",
       "6504      18.0 2021-02-14      2  10.491519             8                50   \n",
       "\n",
       "      subscription_fee  \n",
       "6500                 0  \n",
       "6501                 0  \n",
       "6502                 0  \n",
       "6503                 0  \n",
       "6504                 0  "
      ]
     },
     "execution_count": 24,
     "metadata": {},
     "output_type": "execute_result"
    }
   ],
   "source": [
    "df_free_users = df_general.loc[df_general['subscription_type'] == 'free']\n",
    "df_free_users.head()"
   ]
  },
  {
   "cell_type": "code",
   "execution_count": 25,
   "id": "2afc9d7d",
   "metadata": {},
   "outputs": [
    {
     "data": {
      "text/html": [
       "<div>\n",
       "<style scoped>\n",
       "    .dataframe tbody tr th:only-of-type {\n",
       "        vertical-align: middle;\n",
       "    }\n",
       "\n",
       "    .dataframe tbody tr th {\n",
       "        vertical-align: top;\n",
       "    }\n",
       "\n",
       "    .dataframe thead th {\n",
       "        text-align: right;\n",
       "    }\n",
       "</style>\n",
       "<table border=\"1\" class=\"dataframe\">\n",
       "  <thead>\n",
       "    <tr style=\"text-align: right;\">\n",
       "      <th></th>\n",
       "      <th>user_id</th>\n",
       "      <th>name</th>\n",
       "      <th>age</th>\n",
       "      <th>city</th>\n",
       "      <th>subscription_type</th>\n",
       "      <th>age_category</th>\n",
       "      <th>distance</th>\n",
       "      <th>duration</th>\n",
       "      <th>date</th>\n",
       "      <th>month</th>\n",
       "      <th>speed</th>\n",
       "      <th>minute_price</th>\n",
       "      <th>start_ride_price</th>\n",
       "      <th>subscription_fee</th>\n",
       "    </tr>\n",
       "  </thead>\n",
       "  <tbody>\n",
       "    <tr>\n",
       "      <th>0</th>\n",
       "      <td>1</td>\n",
       "      <td>Кира</td>\n",
       "      <td>22</td>\n",
       "      <td>Тюмень</td>\n",
       "      <td>ultra</td>\n",
       "      <td>20-30</td>\n",
       "      <td>4409.919140</td>\n",
       "      <td>26.0</td>\n",
       "      <td>2021-01-01</td>\n",
       "      <td>1</td>\n",
       "      <td>10.335841</td>\n",
       "      <td>6</td>\n",
       "      <td>0</td>\n",
       "      <td>199</td>\n",
       "    </tr>\n",
       "    <tr>\n",
       "      <th>1</th>\n",
       "      <td>1</td>\n",
       "      <td>Кира</td>\n",
       "      <td>22</td>\n",
       "      <td>Тюмень</td>\n",
       "      <td>ultra</td>\n",
       "      <td>20-30</td>\n",
       "      <td>2617.592153</td>\n",
       "      <td>16.0</td>\n",
       "      <td>2021-01-18</td>\n",
       "      <td>1</td>\n",
       "      <td>9.929620</td>\n",
       "      <td>6</td>\n",
       "      <td>0</td>\n",
       "      <td>199</td>\n",
       "    </tr>\n",
       "    <tr>\n",
       "      <th>2</th>\n",
       "      <td>1</td>\n",
       "      <td>Кира</td>\n",
       "      <td>22</td>\n",
       "      <td>Тюмень</td>\n",
       "      <td>ultra</td>\n",
       "      <td>20-30</td>\n",
       "      <td>754.159807</td>\n",
       "      <td>7.0</td>\n",
       "      <td>2021-04-20</td>\n",
       "      <td>4</td>\n",
       "      <td>7.260713</td>\n",
       "      <td>6</td>\n",
       "      <td>0</td>\n",
       "      <td>199</td>\n",
       "    </tr>\n",
       "    <tr>\n",
       "      <th>3</th>\n",
       "      <td>1</td>\n",
       "      <td>Кира</td>\n",
       "      <td>22</td>\n",
       "      <td>Тюмень</td>\n",
       "      <td>ultra</td>\n",
       "      <td>20-30</td>\n",
       "      <td>2694.783254</td>\n",
       "      <td>19.0</td>\n",
       "      <td>2021-08-11</td>\n",
       "      <td>8</td>\n",
       "      <td>8.734644</td>\n",
       "      <td>6</td>\n",
       "      <td>0</td>\n",
       "      <td>199</td>\n",
       "    </tr>\n",
       "    <tr>\n",
       "      <th>4</th>\n",
       "      <td>1</td>\n",
       "      <td>Кира</td>\n",
       "      <td>22</td>\n",
       "      <td>Тюмень</td>\n",
       "      <td>ultra</td>\n",
       "      <td>20-30</td>\n",
       "      <td>4028.687306</td>\n",
       "      <td>27.0</td>\n",
       "      <td>2021-08-28</td>\n",
       "      <td>8</td>\n",
       "      <td>9.202888</td>\n",
       "      <td>6</td>\n",
       "      <td>0</td>\n",
       "      <td>199</td>\n",
       "    </tr>\n",
       "  </tbody>\n",
       "</table>\n",
       "</div>"
      ],
      "text/plain": [
       "   user_id  name  age    city subscription_type age_category     distance  \\\n",
       "0        1  Кира   22  Тюмень             ultra        20-30  4409.919140   \n",
       "1        1  Кира   22  Тюмень             ultra        20-30  2617.592153   \n",
       "2        1  Кира   22  Тюмень             ultra        20-30   754.159807   \n",
       "3        1  Кира   22  Тюмень             ultra        20-30  2694.783254   \n",
       "4        1  Кира   22  Тюмень             ultra        20-30  4028.687306   \n",
       "\n",
       "   duration       date  month      speed  minute_price  start_ride_price  \\\n",
       "0      26.0 2021-01-01      1  10.335841             6                 0   \n",
       "1      16.0 2021-01-18      1   9.929620             6                 0   \n",
       "2       7.0 2021-04-20      4   7.260713             6                 0   \n",
       "3      19.0 2021-08-11      8   8.734644             6                 0   \n",
       "4      27.0 2021-08-28      8   9.202888             6                 0   \n",
       "\n",
       "   subscription_fee  \n",
       "0               199  \n",
       "1               199  \n",
       "2               199  \n",
       "3               199  \n",
       "4               199  "
      ]
     },
     "execution_count": 25,
     "metadata": {},
     "output_type": "execute_result"
    }
   ],
   "source": [
    "df_ultra_users = df_general.loc[df_general['subscription_type'] == 'ultra']\n",
    "df_ultra_users.head()"
   ]
  },
  {
   "cell_type": "code",
   "execution_count": 26,
   "id": "f286d3a9",
   "metadata": {},
   "outputs": [
    {
     "name": "stdout",
     "output_type": "stream",
     "text": [
      "Размер объединённой таблицы: 18068\n",
      "Суммарный размер разъединённых таблиц: 18068\n"
     ]
    }
   ],
   "source": [
    "print(f\"Размер объединённой таблицы: {len(df_general)}\")\n",
    "print(f\"Суммарный размер разъединённых таблиц: {len(df_free_users)+len(df_ultra_users)}\")"
   ]
  },
  {
   "cell_type": "markdown",
   "id": "0a3eb27b",
   "metadata": {},
   "source": [
    "#### Поездки отдельных групп пользователей"
   ]
  },
  {
   "cell_type": "markdown",
   "id": "db25eaab",
   "metadata": {},
   "source": [
    "Визуализируем данные о поездках и оценим их отличия. \n",
    "Начнём с пользователей с бесплатной подпиской.  "
   ]
  },
  {
   "cell_type": "code",
   "execution_count": 27,
   "id": "59f1c1ad",
   "metadata": {},
   "outputs": [
    {
     "data": {
      "text/html": [
       "<div>\n",
       "<style scoped>\n",
       "    .dataframe tbody tr th:only-of-type {\n",
       "        vertical-align: middle;\n",
       "    }\n",
       "\n",
       "    .dataframe tbody tr th {\n",
       "        vertical-align: top;\n",
       "    }\n",
       "\n",
       "    .dataframe thead th {\n",
       "        text-align: right;\n",
       "    }\n",
       "</style>\n",
       "<table border=\"1\" class=\"dataframe\">\n",
       "  <thead>\n",
       "    <tr style=\"text-align: right;\">\n",
       "      <th></th>\n",
       "      <th>distance</th>\n",
       "      <th>duration</th>\n",
       "    </tr>\n",
       "  </thead>\n",
       "  <tbody>\n",
       "    <tr>\n",
       "      <th>count</th>\n",
       "      <td>11568.000000</td>\n",
       "      <td>11568.000000</td>\n",
       "    </tr>\n",
       "    <tr>\n",
       "      <th>mean</th>\n",
       "      <td>3045.495282</td>\n",
       "      <td>17.890992</td>\n",
       "    </tr>\n",
       "    <tr>\n",
       "      <th>std</th>\n",
       "      <td>1246.173806</td>\n",
       "      <td>6.330250</td>\n",
       "    </tr>\n",
       "    <tr>\n",
       "      <th>min</th>\n",
       "      <td>0.855683</td>\n",
       "      <td>1.000000</td>\n",
       "    </tr>\n",
       "    <tr>\n",
       "      <th>25%</th>\n",
       "      <td>2366.562689</td>\n",
       "      <td>13.000000</td>\n",
       "    </tr>\n",
       "    <tr>\n",
       "      <th>50%</th>\n",
       "      <td>3114.648465</td>\n",
       "      <td>18.000000</td>\n",
       "    </tr>\n",
       "    <tr>\n",
       "      <th>75%</th>\n",
       "      <td>3905.697894</td>\n",
       "      <td>22.000000</td>\n",
       "    </tr>\n",
       "    <tr>\n",
       "      <th>max</th>\n",
       "      <td>7211.007745</td>\n",
       "      <td>35.000000</td>\n",
       "    </tr>\n",
       "  </tbody>\n",
       "</table>\n",
       "</div>"
      ],
      "text/plain": [
       "           distance      duration\n",
       "count  11568.000000  11568.000000\n",
       "mean    3045.495282     17.890992\n",
       "std     1246.173806      6.330250\n",
       "min        0.855683      1.000000\n",
       "25%     2366.562689     13.000000\n",
       "50%     3114.648465     18.000000\n",
       "75%     3905.697894     22.000000\n",
       "max     7211.007745     35.000000"
      ]
     },
     "execution_count": 27,
     "metadata": {},
     "output_type": "execute_result"
    }
   ],
   "source": [
    "df_free_users[['distance', 'duration']].describe()"
   ]
  },
  {
   "cell_type": "markdown",
   "id": "e2473621",
   "metadata": {},
   "source": [
    "Расмотрим пользователей с подпиской ultra."
   ]
  },
  {
   "cell_type": "code",
   "execution_count": 28,
   "id": "dbd5de65",
   "metadata": {},
   "outputs": [
    {
     "data": {
      "text/html": [
       "<div>\n",
       "<style scoped>\n",
       "    .dataframe tbody tr th:only-of-type {\n",
       "        vertical-align: middle;\n",
       "    }\n",
       "\n",
       "    .dataframe tbody tr th {\n",
       "        vertical-align: top;\n",
       "    }\n",
       "\n",
       "    .dataframe thead th {\n",
       "        text-align: right;\n",
       "    }\n",
       "</style>\n",
       "<table border=\"1\" class=\"dataframe\">\n",
       "  <thead>\n",
       "    <tr style=\"text-align: right;\">\n",
       "      <th></th>\n",
       "      <th>distance</th>\n",
       "      <th>duration</th>\n",
       "    </tr>\n",
       "  </thead>\n",
       "  <tbody>\n",
       "    <tr>\n",
       "      <th>count</th>\n",
       "      <td>6500.000000</td>\n",
       "      <td>6500.000000</td>\n",
       "    </tr>\n",
       "    <tr>\n",
       "      <th>mean</th>\n",
       "      <td>3115.445388</td>\n",
       "      <td>19.037692</td>\n",
       "    </tr>\n",
       "    <tr>\n",
       "      <th>std</th>\n",
       "      <td>836.895330</td>\n",
       "      <td>5.577439</td>\n",
       "    </tr>\n",
       "    <tr>\n",
       "      <th>min</th>\n",
       "      <td>244.210438</td>\n",
       "      <td>4.000000</td>\n",
       "    </tr>\n",
       "    <tr>\n",
       "      <th>25%</th>\n",
       "      <td>2785.444017</td>\n",
       "      <td>15.000000</td>\n",
       "    </tr>\n",
       "    <tr>\n",
       "      <th>50%</th>\n",
       "      <td>3148.637229</td>\n",
       "      <td>19.000000</td>\n",
       "    </tr>\n",
       "    <tr>\n",
       "      <th>75%</th>\n",
       "      <td>3560.574425</td>\n",
       "      <td>22.000000</td>\n",
       "    </tr>\n",
       "    <tr>\n",
       "      <th>max</th>\n",
       "      <td>5699.769662</td>\n",
       "      <td>41.000000</td>\n",
       "    </tr>\n",
       "  </tbody>\n",
       "</table>\n",
       "</div>"
      ],
      "text/plain": [
       "          distance     duration\n",
       "count  6500.000000  6500.000000\n",
       "mean   3115.445388    19.037692\n",
       "std     836.895330     5.577439\n",
       "min     244.210438     4.000000\n",
       "25%    2785.444017    15.000000\n",
       "50%    3148.637229    19.000000\n",
       "75%    3560.574425    22.000000\n",
       "max    5699.769662    41.000000"
      ]
     },
     "execution_count": 28,
     "metadata": {},
     "output_type": "execute_result"
    }
   ],
   "source": [
    "df_ultra_users[['distance', 'duration']].describe()"
   ]
  },
  {
   "cell_type": "markdown",
   "id": "e9b77022",
   "metadata": {},
   "source": [
    "Визуализируем сравнение."
   ]
  },
  {
   "cell_type": "code",
   "execution_count": 29,
   "id": "13d1ee97",
   "metadata": {
    "scrolled": false
   },
   "outputs": [
    {
     "data": {
      "image/png": "[encoded data removed]",
      "text/plain": [
       "<Figure size 864x432 with 2 Axes>"
      ]
     },
     "metadata": {
      "needs_background": "light"
     },
     "output_type": "display_data"
    }
   ],
   "source": [
    "fig = plt.figure(figsize = (12,6))\n",
    "gs = gridspec.GridSpec(1, 2)\n",
    "\n",
    "ax1 = fig.add_subplot(gs[0, 0])\n",
    "\n",
    "\n",
    "ax1.hist(df_free_users['distance'],bins = 35 );\n",
    "ax1.hist(df_ultra_users['distance'],bins = 35 );\n",
    "ax1.legend(title='Тип подписки', labels = ['free','ultra']);\n",
    "ax1.set_title('Расстояние поездки', fontsize = 18);\n",
    "ax1.set_ylabel('Количество пользователей', fontsize = 14)\n",
    "ax2 = fig.add_subplot(gs[0,-1])\n",
    "\n",
    "ax2.hist([df_free_users['duration']],bins = 35);\n",
    "ax2.hist([df_ultra_users['duration']],bins = 35);\n",
    "ax2.set_title('Длительность поездки', fontsize = 18);\n",
    "ax2.legend(title='Тип подписки', labels = ['free','ultra']);\n"
   ]
  },
  {
   "cell_type": "markdown",
   "id": "e4af930e",
   "metadata": {},
   "source": [
    "Данные о пользователях с бесплатной подпиской всё ещё можно описать нормальным распределением.   \n",
    "Максимальная время поездки - уменьшилось, однако средние показатели значительно не отличаются.  \n",
    "Данные о пользователях с платной подпиской всё ещё можно описать нормальным распределением, однако они обрели достаточно ярко выраженные пики.\n",
    "Средние показатели значительно не отличаются.  \n",
    "Исходя из предоставленных данных можно сделать вывод, что пользователи с платной подпиской, более склонны к длительным поездкам.  \n",
    "Короткие поездки чаще встречаются у пользователей с бесплатной подпиской."
   ]
  },
  {
   "cell_type": "markdown",
   "id": "402d620f",
   "metadata": {},
   "source": [
    "#### Подсчёт помесячной выручки"
   ]
  },
  {
   "cell_type": "markdown",
   "id": "c9326c3b",
   "metadata": {},
   "source": [
    "Для расчёта помесячной выручки, требующейся для проверки гипотез, необходимо  найти суммарное расстояние, количество поездок и суммарное время для каждого пользователя за каждый месяц.  \n",
    "При этом, в аггрегированные таблицы с этой информацией включаются данные необходимые для дальнейших вычислений."
   ]
  },
  {
   "cell_type": "code",
   "execution_count": 30,
   "id": "53991c2a",
   "metadata": {},
   "outputs": [],
   "source": [
    "# Аггрегация производится при помощи groupby, по двум столбцам.\n",
    "# Подсчёт количества поездок производится по столбцу date - это не принципиально, интересует только количество индивидуальных значений в столбце\n",
    "# данные для вычислений переносятся при помощи подсчёта среднего - при равных значениях перенос будет осуществлён безошибочно\n",
    "\n",
    "df_ultra_agg = (\n",
    "    df_ultra_users.groupby(['user_id', 'month'])\n",
    "    .agg(\n",
    "        {\n",
    "        'distance':'sum', \n",
    "        'duration':'sum',\n",
    "        'date':'count',\n",
    "        'start_ride_price':'mean',\n",
    "        'subscription_fee':'mean', \n",
    "        'minute_price':'mean'\n",
    "    }\n",
    "    )\n",
    "    .reset_index()\n",
    ")\n",
    "\n",
    "df_ultra_agg.rename(columns = {'date':'rides_count'}, inplace=True)\n",
    "\n",
    "df_free_agg = (\n",
    "    df_free_users.groupby(['user_id', 'month'])\n",
    "    .agg(\n",
    "        {\n",
    "        'distance':'sum', \n",
    "        'duration':'sum',\n",
    "        'date':'count',\n",
    "        'start_ride_price':'mean',\n",
    "        'subscription_fee':'mean', \n",
    "        'minute_price':'mean'\n",
    "    }\n",
    "    )\n",
    "    .reset_index()\n",
    ")\n",
    "\n",
    "df_free_agg.rename(columns = {'date':'rides_count'}, inplace=True)\n"
   ]
  },
  {
   "cell_type": "markdown",
   "id": "0678e315",
   "metadata": {},
   "source": [
    "После формирования датафрейма произведём необходимые вычисления помесячной выручки."
   ]
  },
  {
   "cell_type": "code",
   "execution_count": 31,
   "id": "0583c694",
   "metadata": {},
   "outputs": [],
   "source": [
    "df_ultra_agg['revenue_month'] = (\n",
    "    (df_ultra_agg['start_ride_price']*df_ultra_agg['rides_count'])+\n",
    "    (df_ultra_agg['minute_price']*df_ultra_agg['duration'])+\n",
    "    df_ultra_agg['subscription_fee']\n",
    ")\n",
    "\n",
    "df_free_agg['revenue_month'] = (\n",
    "    (df_free_agg['start_ride_price']*df_free_agg['rides_count'])+\n",
    "    (df_free_agg['minute_price']*df_free_agg['duration'])+\n",
    "    df_free_agg['subscription_fee']\n",
    ")"
   ]
  },
  {
   "cell_type": "markdown",
   "id": "d584ebc4",
   "metadata": {},
   "source": [
    "Рассмотрим получившиеся таблицы на предмет успешности формирования."
   ]
  },
  {
   "cell_type": "code",
   "execution_count": 32,
   "id": "070f0910",
   "metadata": {
    "scrolled": true
   },
   "outputs": [
    {
     "data": {
      "text/html": [
       "<div>\n",
       "<style scoped>\n",
       "    .dataframe tbody tr th:only-of-type {\n",
       "        vertical-align: middle;\n",
       "    }\n",
       "\n",
       "    .dataframe tbody tr th {\n",
       "        vertical-align: top;\n",
       "    }\n",
       "\n",
       "    .dataframe thead th {\n",
       "        text-align: right;\n",
       "    }\n",
       "</style>\n",
       "<table border=\"1\" class=\"dataframe\">\n",
       "  <thead>\n",
       "    <tr style=\"text-align: right;\">\n",
       "      <th></th>\n",
       "      <th>user_id</th>\n",
       "      <th>month</th>\n",
       "      <th>distance</th>\n",
       "      <th>duration</th>\n",
       "      <th>rides_count</th>\n",
       "      <th>start_ride_price</th>\n",
       "      <th>subscription_fee</th>\n",
       "      <th>minute_price</th>\n",
       "      <th>revenue_month</th>\n",
       "    </tr>\n",
       "  </thead>\n",
       "  <tbody>\n",
       "    <tr>\n",
       "      <th>0</th>\n",
       "      <td>1</td>\n",
       "      <td>1</td>\n",
       "      <td>7027.511294</td>\n",
       "      <td>42.0</td>\n",
       "      <td>2</td>\n",
       "      <td>0</td>\n",
       "      <td>199</td>\n",
       "      <td>6</td>\n",
       "      <td>451.0</td>\n",
       "    </tr>\n",
       "    <tr>\n",
       "      <th>1</th>\n",
       "      <td>1</td>\n",
       "      <td>4</td>\n",
       "      <td>754.159807</td>\n",
       "      <td>7.0</td>\n",
       "      <td>1</td>\n",
       "      <td>0</td>\n",
       "      <td>199</td>\n",
       "      <td>6</td>\n",
       "      <td>241.0</td>\n",
       "    </tr>\n",
       "    <tr>\n",
       "      <th>2</th>\n",
       "      <td>1</td>\n",
       "      <td>8</td>\n",
       "      <td>6723.470560</td>\n",
       "      <td>46.0</td>\n",
       "      <td>2</td>\n",
       "      <td>0</td>\n",
       "      <td>199</td>\n",
       "      <td>6</td>\n",
       "      <td>475.0</td>\n",
       "    </tr>\n",
       "    <tr>\n",
       "      <th>3</th>\n",
       "      <td>1</td>\n",
       "      <td>10</td>\n",
       "      <td>5809.911100</td>\n",
       "      <td>32.0</td>\n",
       "      <td>2</td>\n",
       "      <td>0</td>\n",
       "      <td>199</td>\n",
       "      <td>6</td>\n",
       "      <td>391.0</td>\n",
       "    </tr>\n",
       "    <tr>\n",
       "      <th>4</th>\n",
       "      <td>1</td>\n",
       "      <td>11</td>\n",
       "      <td>7003.499363</td>\n",
       "      <td>56.0</td>\n",
       "      <td>3</td>\n",
       "      <td>0</td>\n",
       "      <td>199</td>\n",
       "      <td>6</td>\n",
       "      <td>535.0</td>\n",
       "    </tr>\n",
       "  </tbody>\n",
       "</table>\n",
       "</div>"
      ],
      "text/plain": [
       "   user_id  month     distance  duration  rides_count  start_ride_price  \\\n",
       "0        1      1  7027.511294      42.0            2                 0   \n",
       "1        1      4   754.159807       7.0            1                 0   \n",
       "2        1      8  6723.470560      46.0            2                 0   \n",
       "3        1     10  5809.911100      32.0            2                 0   \n",
       "4        1     11  7003.499363      56.0            3                 0   \n",
       "\n",
       "   subscription_fee  minute_price  revenue_month  \n",
       "0               199             6          451.0  \n",
       "1               199             6          241.0  \n",
       "2               199             6          475.0  \n",
       "3               199             6          391.0  \n",
       "4               199             6          535.0  "
      ]
     },
     "execution_count": 32,
     "metadata": {},
     "output_type": "execute_result"
    }
   ],
   "source": [
    "df_ultra_agg.head()"
   ]
  },
  {
   "cell_type": "code",
   "execution_count": 33,
   "id": "ccd935f8",
   "metadata": {
    "scrolled": false
   },
   "outputs": [
    {
     "data": {
      "text/html": [
       "<div>\n",
       "<style scoped>\n",
       "    .dataframe tbody tr th:only-of-type {\n",
       "        vertical-align: middle;\n",
       "    }\n",
       "\n",
       "    .dataframe tbody tr th {\n",
       "        vertical-align: top;\n",
       "    }\n",
       "\n",
       "    .dataframe thead th {\n",
       "        text-align: right;\n",
       "    }\n",
       "</style>\n",
       "<table border=\"1\" class=\"dataframe\">\n",
       "  <thead>\n",
       "    <tr style=\"text-align: right;\">\n",
       "      <th></th>\n",
       "      <th>user_id</th>\n",
       "      <th>month</th>\n",
       "      <th>distance</th>\n",
       "      <th>duration</th>\n",
       "      <th>rides_count</th>\n",
       "      <th>start_ride_price</th>\n",
       "      <th>subscription_fee</th>\n",
       "      <th>minute_price</th>\n",
       "      <th>revenue_month</th>\n",
       "    </tr>\n",
       "  </thead>\n",
       "  <tbody>\n",
       "    <tr>\n",
       "      <th>0</th>\n",
       "      <td>700</td>\n",
       "      <td>1</td>\n",
       "      <td>2515.690719</td>\n",
       "      <td>15.0</td>\n",
       "      <td>1</td>\n",
       "      <td>50</td>\n",
       "      <td>0</td>\n",
       "      <td>8</td>\n",
       "      <td>170.0</td>\n",
       "    </tr>\n",
       "    <tr>\n",
       "      <th>1</th>\n",
       "      <td>700</td>\n",
       "      <td>2</td>\n",
       "      <td>13446.659764</td>\n",
       "      <td>89.0</td>\n",
       "      <td>5</td>\n",
       "      <td>50</td>\n",
       "      <td>0</td>\n",
       "      <td>8</td>\n",
       "      <td>962.0</td>\n",
       "    </tr>\n",
       "    <tr>\n",
       "      <th>2</th>\n",
       "      <td>700</td>\n",
       "      <td>3</td>\n",
       "      <td>3798.334905</td>\n",
       "      <td>19.0</td>\n",
       "      <td>1</td>\n",
       "      <td>50</td>\n",
       "      <td>0</td>\n",
       "      <td>8</td>\n",
       "      <td>202.0</td>\n",
       "    </tr>\n",
       "    <tr>\n",
       "      <th>3</th>\n",
       "      <td>700</td>\n",
       "      <td>4</td>\n",
       "      <td>2984.551206</td>\n",
       "      <td>16.0</td>\n",
       "      <td>1</td>\n",
       "      <td>50</td>\n",
       "      <td>0</td>\n",
       "      <td>8</td>\n",
       "      <td>178.0</td>\n",
       "    </tr>\n",
       "    <tr>\n",
       "      <th>4</th>\n",
       "      <td>700</td>\n",
       "      <td>6</td>\n",
       "      <td>5927.650988</td>\n",
       "      <td>29.0</td>\n",
       "      <td>2</td>\n",
       "      <td>50</td>\n",
       "      <td>0</td>\n",
       "      <td>8</td>\n",
       "      <td>332.0</td>\n",
       "    </tr>\n",
       "  </tbody>\n",
       "</table>\n",
       "</div>"
      ],
      "text/plain": [
       "   user_id  month      distance  duration  rides_count  start_ride_price  \\\n",
       "0      700      1   2515.690719      15.0            1                50   \n",
       "1      700      2  13446.659764      89.0            5                50   \n",
       "2      700      3   3798.334905      19.0            1                50   \n",
       "3      700      4   2984.551206      16.0            1                50   \n",
       "4      700      6   5927.650988      29.0            2                50   \n",
       "\n",
       "   subscription_fee  minute_price  revenue_month  \n",
       "0                 0             8          170.0  \n",
       "1                 0             8          962.0  \n",
       "2                 0             8          202.0  \n",
       "3                 0             8          178.0  \n",
       "4                 0             8          332.0  "
      ]
     },
     "execution_count": 33,
     "metadata": {},
     "output_type": "execute_result"
    }
   ],
   "source": [
    "df_free_agg.head()"
   ]
  },
  {
   "cell_type": "code",
   "execution_count": 34,
   "id": "67da196f",
   "metadata": {
    "scrolled": true
   },
   "outputs": [
    {
     "name": "stdout",
     "output_type": "stream",
     "text": [
      "Размер таблицы пользователей с подпиской free: 6798\n",
      "Размер таблицы пользователей с подпиской ultra: 4533\n",
      "Размер объединённой таблицы: 11331 , сумма длин исходных таблиц 11331\n",
      "Пропусков в объединённой таблице: 0\n"
     ]
    },
    {
     "data": {
      "text/html": [
       "<div>\n",
       "<style scoped>\n",
       "    .dataframe tbody tr th:only-of-type {\n",
       "        vertical-align: middle;\n",
       "    }\n",
       "\n",
       "    .dataframe tbody tr th {\n",
       "        vertical-align: top;\n",
       "    }\n",
       "\n",
       "    .dataframe thead th {\n",
       "        text-align: right;\n",
       "    }\n",
       "</style>\n",
       "<table border=\"1\" class=\"dataframe\">\n",
       "  <thead>\n",
       "    <tr style=\"text-align: right;\">\n",
       "      <th></th>\n",
       "      <th>user_id</th>\n",
       "      <th>month</th>\n",
       "      <th>distance</th>\n",
       "      <th>duration</th>\n",
       "      <th>rides_count</th>\n",
       "      <th>start_ride_price</th>\n",
       "      <th>subscription_fee</th>\n",
       "      <th>minute_price</th>\n",
       "      <th>revenue_month</th>\n",
       "    </tr>\n",
       "  </thead>\n",
       "  <tbody>\n",
       "    <tr>\n",
       "      <th>0</th>\n",
       "      <td>1</td>\n",
       "      <td>1</td>\n",
       "      <td>7027.511294</td>\n",
       "      <td>42.0</td>\n",
       "      <td>2</td>\n",
       "      <td>0</td>\n",
       "      <td>199</td>\n",
       "      <td>6</td>\n",
       "      <td>451.0</td>\n",
       "    </tr>\n",
       "    <tr>\n",
       "      <th>1</th>\n",
       "      <td>1</td>\n",
       "      <td>4</td>\n",
       "      <td>754.159807</td>\n",
       "      <td>7.0</td>\n",
       "      <td>1</td>\n",
       "      <td>0</td>\n",
       "      <td>199</td>\n",
       "      <td>6</td>\n",
       "      <td>241.0</td>\n",
       "    </tr>\n",
       "    <tr>\n",
       "      <th>2</th>\n",
       "      <td>1</td>\n",
       "      <td>8</td>\n",
       "      <td>6723.470560</td>\n",
       "      <td>46.0</td>\n",
       "      <td>2</td>\n",
       "      <td>0</td>\n",
       "      <td>199</td>\n",
       "      <td>6</td>\n",
       "      <td>475.0</td>\n",
       "    </tr>\n",
       "    <tr>\n",
       "      <th>3</th>\n",
       "      <td>1</td>\n",
       "      <td>10</td>\n",
       "      <td>5809.911100</td>\n",
       "      <td>32.0</td>\n",
       "      <td>2</td>\n",
       "      <td>0</td>\n",
       "      <td>199</td>\n",
       "      <td>6</td>\n",
       "      <td>391.0</td>\n",
       "    </tr>\n",
       "    <tr>\n",
       "      <th>4</th>\n",
       "      <td>1</td>\n",
       "      <td>11</td>\n",
       "      <td>7003.499363</td>\n",
       "      <td>56.0</td>\n",
       "      <td>3</td>\n",
       "      <td>0</td>\n",
       "      <td>199</td>\n",
       "      <td>6</td>\n",
       "      <td>535.0</td>\n",
       "    </tr>\n",
       "  </tbody>\n",
       "</table>\n",
       "</div>"
      ],
      "text/plain": [
       "   user_id  month     distance  duration  rides_count  start_ride_price  \\\n",
       "0        1      1  7027.511294      42.0            2                 0   \n",
       "1        1      4   754.159807       7.0            1                 0   \n",
       "2        1      8  6723.470560      46.0            2                 0   \n",
       "3        1     10  5809.911100      32.0            2                 0   \n",
       "4        1     11  7003.499363      56.0            3                 0   \n",
       "\n",
       "   subscription_fee  minute_price  revenue_month  \n",
       "0               199             6          451.0  \n",
       "1               199             6          241.0  \n",
       "2               199             6          475.0  \n",
       "3               199             6          391.0  \n",
       "4               199             6          535.0  "
      ]
     },
     "execution_count": 34,
     "metadata": {},
     "output_type": "execute_result"
    }
   ],
   "source": [
    "df_general_agg = df_ultra_agg.merge(df_free_agg, how = 'outer')\n",
    "print(f\"Размер таблицы пользователей с подпиской free: {len(df_free_agg)}\")\n",
    "print(f\"Размер таблицы пользователей с подпиской ultra: {len(df_ultra_agg)}\")\n",
    "print(f\"Размер объединённой таблицы: {len(df_general_agg)} , сумма длин исходных таблиц {len(df_free_agg)+len(df_ultra_agg)}\")\n",
    "print(f\"Пропусков в объединённой таблице: {df_general_agg.isna().sum().max()}\")\n",
    "df_general_agg.head()"
   ]
  },
  {
   "cell_type": "markdown",
   "id": "abd8c1ac",
   "metadata": {},
   "source": [
    "**Данные готовы к проверке гипотез.**"
   ]
  },
  {
   "cell_type": "markdown",
   "id": "41545ac0",
   "metadata": {},
   "source": [
    "### Проверка гипотез"
   ]
  },
  {
   "cell_type": "markdown",
   "id": "11b6a21c",
   "metadata": {},
   "source": [
    "#### Гипотеза о времени на поездки"
   ]
  },
  {
   "cell_type": "markdown",
   "id": "ee057915",
   "metadata": {},
   "source": [
    "Необходимо рассмотреть следующую гипотезу:  \n",
    "***Тратят ли пользователи с подпиской больше времени на поездки?***  \n",
    "  \n",
    "Таким образом:  \n",
    "*Нулевая гипотеза* - пользователи с подпиской типа **ultra** тратят столько же времени на поездки, как и пользователи с подпиской типа **free**.  \n",
    "*Альтернативная гипотеза*  - пользователи с подпиской типа **ultra** тратят больше времени, ользователи с подпиской типа **free**.  \n",
    "  \n",
    "Альтернативная гипотеза - одностороняя, проверка производится методом для проверки гипотезы о равенстве среднего двух генеральных совокупностей.  \n",
    "Выборки - разного размера.  \n",
    "Уровень статистической значимости примем 5% для этой и последующих гипотез.  \n",
    "Выборки отличаются размерами почти в два раза (размеры выборок показаны в п. 3.4), исходя из этого применим статтест дял неравных выборок."
   ]
  },
  {
   "cell_type": "code",
   "execution_count": 35,
   "id": "24aa3025",
   "metadata": {
    "scrolled": true
   },
   "outputs": [
    {
     "name": "stdout",
     "output_type": "stream",
     "text": [
      "p-value:1.1814679253701353e-36\n",
      "Отвергаем нулевую гипотезу о равенстве средних в пользу альтернативной\n"
     ]
    }
   ],
   "source": [
    "#используем t-test, alpha назначим здесь и не будем к ней возвращаться каждый раз\n",
    "alpha = 0.05\n",
    "users_compare = st.ttest_ind(df_ultra_users['duration'],df_free_users['duration'],equal_var=False, alternative='greater')\n",
    "\n",
    "\n",
    "if users_compare.pvalue < alpha:\n",
    "    print(f\"p-value:{users_compare.pvalue}\")\n",
    "    print('Отвергаем нулевую гипотезу о равенстве средних в пользу альтернативной')\n",
    "else:\n",
    "    print(f\"p-value:{users_compare.pvalue}\")\n",
    "    print('Нет оснований отвергнуть нулевую гипотезу о равенстве средних в пользу альтернативной')"
   ]
  },
  {
   "cell_type": "markdown",
   "id": "739b6833",
   "metadata": {},
   "source": [
    "Полученное значение p-value меньше заданного уровня значимости.  \n",
    "**Есть основания говорить, что пользователи с подпиской тратят больше времени.**"
   ]
  },
  {
   "cell_type": "markdown",
   "id": "b4157b21",
   "metadata": {},
   "source": [
    "#### Гипотеза о среднем расстоянии поездки"
   ]
  },
  {
   "cell_type": "markdown",
   "id": "aef39109",
   "metadata": {},
   "source": [
    "Необходимо рассмотреть следующую гипотезу:  \n",
    "***Можно ли сказать, что среднее расстояние, которое проезжают пользователи с подпиской за одну поездку, не превышает 3130 метров?***  \n",
    "  \n",
    "Таким образом:  \n",
    "*Нулевая гипотеза* - средняя поездка пользователей с подпиской типа **ultra** равна 3130 метров.  \n",
    "*Альтернативная гипотеза*  - средняя поездка пользователей с подпиской типа **ultra** - больше 3130 метров.  \n",
    "  \n",
    "Альтернативная гипотеза - одностороняя, проверка производится методом t-теста по одной выборке.  \n",
    "Альтернативная гипотеза сформулирована исходя из предположения, что результатом проверки гипотезы должен быть вывод о том что износ самокатов не превышает оптимального предела. Следовательно - гипотеза сформулирована правосторонней."
   ]
  },
  {
   "cell_type": "code",
   "execution_count": 36,
   "id": "281f310d",
   "metadata": {},
   "outputs": [
    {
     "name": "stdout",
     "output_type": "stream",
     "text": [
      "p-value:0.9195368847849785\n",
      "Нет оснований отвергнуть нулевую гипотезу о том что средняя поездка равна 3130 в пользу альтернативной\n"
     ]
    }
   ],
   "source": [
    "# используем всю выборку о пользователях\n",
    "distance_compare =st.ttest_1samp(df_ultra_users['distance'], 3130, alternative='greater')\n",
    "\n",
    "if distance_compare.pvalue < alpha:\n",
    "    print(f\"p-value:{distance_compare.pvalue}\")\n",
    "    print('Отвергаем нулевую гипотезу о том что средняя поездка равна 3130 в пользу альтернативной')\n",
    "else:\n",
    "    print(f\"p-value:{distance_compare.pvalue}\")\n",
    "    print('Нет оснований отвергнуть нулевую гипотезу о том что средняя поездка равна 3130 в пользу альтернативной')\n"
   ]
  },
  {
   "cell_type": "markdown",
   "id": "6273346f",
   "metadata": {},
   "source": [
    "Полученное значение p-value больше заданного уровня значимости.  \n",
    "**Есть основания говорить, что что среднее расстояние, которое проезжают пользователи с подпиской за одну поездку, не превышает или равно 3130 метрам.**"
   ]
  },
  {
   "cell_type": "markdown",
   "id": "fb4eb8f7",
   "metadata": {},
   "source": [
    "#### Гипотеза о доходе от подписок"
   ]
  },
  {
   "cell_type": "markdown",
   "id": "db4747df",
   "metadata": {},
   "source": [
    "Необходимо рассмотреть следующую гипотезу:  \n",
    "***Будет ли помесячная выручка от пользователей с подпиской по месяцам выше, чем выручка от пользователей без подписки?***  \n",
    "  \n",
    "Таким образом:  \n",
    "*Нулевая гипотеза* - пользователи с подпиской типа \"ultra\", приносят столько же помесячной выручки как и пользователи с подпиской типа **free**.  \n",
    "*Альтернативная гипотеза* - пользователи с подпиской типа \"ultra\", приносят больше помесячной выручки в сравнении с пользователями с подпиской типа **free**.  \n",
    "  \n",
    "Альтернативная гипотеза - одностороняя, проверка производится методом для проверки гипотезы о равенстве среднего двух генеральных совокупностей.  \n",
    "Выборки - разного размера, исходя из этого применим статтест для неравных выборок."
   ]
  },
  {
   "cell_type": "code",
   "execution_count": 37,
   "id": "8c6f2b2f",
   "metadata": {
    "scrolled": false
   },
   "outputs": [
    {
     "name": "stdout",
     "output_type": "stream",
     "text": [
      "p-value:8.874140893976874e-40\n",
      "Отвергаем нулевую гипотезу о равенстве помесячной выручки в пользу альтернативной\n"
     ]
    }
   ],
   "source": [
    "#переиспользуем users_compare, в обращении к предыдущим результатам нет необходимости\n",
    "\n",
    "users_compare = st.ttest_ind(df_ultra_agg['revenue_month'],df_free_agg['revenue_month'],equal_var=False, alternative='greater')\n",
    "\n",
    "\n",
    "if users_compare.pvalue < alpha:\n",
    "    print(f\"p-value:{users_compare.pvalue}\")\n",
    "    print('Отвергаем нулевую гипотезу о равенстве помесячной выручки в пользу альтернативной')\n",
    "else:\n",
    "    print(f\"p-value:{users_compare.pvalue}\")\n",
    "    print('Нет оснований отвергнуть нулевую гипотезу о равенстве помесячной выручки в пользу альтернативной')"
   ]
  },
  {
   "cell_type": "markdown",
   "id": "e637f389",
   "metadata": {},
   "source": [
    "Полученное значение p-value меньше заданного уровня значимости.  \n",
    "**Есть основания говорить, что помесячная выручка от пользователей с подпиской по месяцам выше, чем выручка от пользователей без подписки.**"
   ]
  },
  {
   "cell_type": "markdown",
   "id": "6cdd9e5b",
   "metadata": {},
   "source": [
    "#### Теориетическая гипотеза"
   ]
  },
  {
   "cell_type": "markdown",
   "id": "30a6405f",
   "metadata": {},
   "source": [
    "В задании на анализ поставлена следующая теориентическая гипотеза:  \n",
    "***Техническая команда сервиса обновила сервера, с которыми взаимодействует мобильное приложение. Она надеется, что из-за этого количество обращений в техподдержку значимо снизилось. Некоторый файл содержит для каждого пользователя данные о количестве обращений до обновления и после него. Какой тест вам понадобился бы для проверки этой гипотезы?***  \n",
    "  \n",
    "Данная гипотеза - гипотеза о равенстве среднего генеральной совокупности для зависимых (парных) выборок.  \n",
    "В бибилиотеке stats реализован метод scipy.stats.ttest_rel().  \n",
    "Ему достаточно передать два набора данных: до и после.  \n",
    "Оба набора должны быть одинаковыми по размеру: каждое измерение должно быть проведено до и после изменения.  \n"
   ]
  },
  {
   "cell_type": "markdown",
   "id": "61213c5e",
   "metadata": {},
   "source": [
    "### Теоретические распределения"
   ]
  },
  {
   "cell_type": "markdown",
   "id": "8f7db5d0",
   "metadata": {},
   "source": [
    "#### Минимальное количество пользователей для участия в рекламной акции"
   ]
  },
  {
   "cell_type": "markdown",
   "id": "cec20f14",
   "metadata": {},
   "source": [
    "Поставлена следующая теоретическая задача:  \n",
    "*Нужно провести акцию с раздачей промокодов на один бесплатный месяц подписки, в рамках которой как минимум 100 существующих клиентов должны продлить эту подписку. То есть по завершении периода действия подписки пользователь может либо отказаться от неё, либо продлить, совершив соответствующий платёж. \n",
    "Эта акция уже проводилась ранее и по итогу выяснилось, что после бесплатного пробного периода подписку продлевают 10% пользователей. Выясните, какое минимальное количество промокодов нужно разослать, чтобы вероятность не выполнить план была примерно 5 %.*   \n",
    "  \n",
    "Рассмотрим параметры биномального распределения.  \n",
    "Известно, что вероятность успеха - 10%. Известно, что план составляет - 100 пользователей.  \n",
    "Следовательно, следует сделать не менее 1000 попыток.  \n",
    "Следовательно, необходимо выяснить, с какой вероятностью при 1000 попыток, 100 пользователей или менее согласятся - \"вероятность не выполнить план\".  \n",
    "Далее, чтобы определить количество пользователей при которой \"вероятность не выполнить план\" будет равна 5% - необходимо \"сместить\" выборку вправо, таким образом, чтобы вероятность согласия 100 пользователей снизилась до 5%.  "
   ]
  },
  {
   "cell_type": "code",
   "execution_count": 38,
   "id": "2f05592c",
   "metadata": {},
   "outputs": [
    {
     "data": {
      "image/png": "[encoded data removed]",
      "text/plain": [
       "<Figure size 432x288 with 1 Axes>"
      ]
     },
     "metadata": {
      "needs_background": "light"
     },
     "output_type": "display_data"
    },
    {
     "name": "stdout",
     "output_type": "stream",
     "text": [
      "Вероятность не выполнить план: 0.4845822904340794\n"
     ]
    },
    {
     "data": {
      "image/png": "[encoded data removed]",
      "text/plain": [
       "<Figure size 432x288 with 1 Axes>"
      ]
     },
     "metadata": {
      "needs_background": "light"
     },
     "output_type": "display_data"
    },
    {
     "name": "stdout",
     "output_type": "stream",
     "text": [
      "Вероятность не выполнить план: 0.04976090094990249\n",
      "Минимальное число пользователей участвующих в акции: 1161\n"
     ]
    }
   ],
   "source": [
    "# отключение предупреждения функции binom.pmf - результат ожидаемый, в дальнейших преобразованиях графики не участвуют\n",
    "np.seterr(divide='ignore', invalid='ignore')\n",
    "# количество попыток\n",
    "n = 1000\n",
    "# вероятность успеха\n",
    "p = 0.1 \n",
    "# построим график при помощи pmf - функции вероятности\n",
    "distr = []\n",
    "\n",
    "for k in range(0, n + 1):\n",
    "    current_value = st.binom.pmf(k, n, p)\n",
    "    distr.append(current_value)\n",
    "    \n",
    "plt.bar(range(0, n + 1), distr);\n",
    "plt.axis(xmin = 50, xmax = 175);\n",
    "plt.xlabel('Распределение при 1000 пользователей');\n",
    "plt.grid();\n",
    "plt.show();\n",
    "\n",
    "# выведем вероятность согласия 100 пользователей или менее\n",
    "\n",
    "print(f\"Вероятность не выполнить план: {st.binom.cdf(99, 1000, 0.1)}\")\n",
    "\n",
    "# Постепенно сдвинем распределение вправо - цикл оканчивается, когда вероятность становится меньше 0,05\n",
    "d = 1\n",
    "\n",
    "while d > 0.05:\n",
    "    n += 1\n",
    "    d = st.binom.cdf(99, n, 0.1)\n",
    "\n",
    "distr2 = []\n",
    "for k in range(0, n + 1):\n",
    "    current_value = st.binom.pmf(k, n, p)\n",
    "    distr2.append(current_value)\n",
    "    \n",
    "plt.bar(range(0, n + 1), distr2);\n",
    "plt.axis(xmin = 50, xmax = 175);\n",
    "plt.xlabel(f'Распределение при {n} пользователей');\n",
    "plt.grid();\n",
    "plt.show();\n",
    "print(f\"Вероятность не выполнить план: {st.binom.cdf(99, n, 0.1)}\")\n",
    "print(f\"Минимальное число пользователей участвующих в акции: {n}\")"
   ]
  },
  {
   "cell_type": "markdown",
   "id": "0ae3f83e",
   "metadata": {},
   "source": [
    "**Минимальное число пользователей - 1161**"
   ]
  },
  {
   "cell_type": "markdown",
   "id": "134a1ae1",
   "metadata": {},
   "source": [
    "#### Push - уведомления"
   ]
  },
  {
   "cell_type": "markdown",
   "id": "1c39d602",
   "metadata": {},
   "source": [
    "Поставлена следующая теоретическая задача:  \n",
    "*Отдел маркетинга рассылает клиентам push-уведомления в мобильном приложении. Клиенты могут открыть его или не открывать. Известно, что уведомления открывают около 40% получивших клиентов. Отдел планирует разослать 1 млн уведомлений. С помощью аппроксимации постройте примерный график распределения и оцените вероятность того, что уведомление откроют не более 399,5\n",
    "тыс. пользователей.*\n",
    "  \n",
    "Ситуацию в которой возможно два исхода (откроет - не откроет) можно описать биномальным распределением.  \n",
    "Тем не менее, количество дискретных значений не позволяет строительство графика распределения, следовательно - необходимо выполнить аппроксимацию нормальным распределением.  \n",
    "Необходимо проверить, возможна ли аппроксимация, после этого - осуществить строительство графика.\n"
   ]
  },
  {
   "cell_type": "code",
   "execution_count": 39,
   "id": "d5ba1f54",
   "metadata": {},
   "outputs": [
    {
     "name": "stdout",
     "output_type": "stream",
     "text": [
      "Математическое ожидание: 400000.0\n",
      "Стандартное отклонение: 489.89794855663564\n",
      "Промежуток значений (398530.3061543301, 401469.6938456699)\n",
      "Аппроксимация применима\n"
     ]
    },
    {
     "data": {
      "image/png": "[encoded data removed]",
      "text/plain": [
       "<Figure size 432x288 with 1 Axes>"
      ]
     },
     "metadata": {
      "needs_background": "light"
     },
     "output_type": "display_data"
    }
   ],
   "source": [
    "n2 = 1000000# задайте параметры \n",
    "p2 = 0.4# биномиального распределения\n",
    "\n",
    "mu = n2*p2 # рассчитайте параметры \n",
    "sigma = sqrt(n2 * p2 * (1 - p2)) # нормального распределения\n",
    "\n",
    "# округление используется для простоты условия\n",
    "\n",
    "if (round(mu + 3*sigma,0)) in range(0, n2) and round(mu - 3*sigma,0) in range(0, n2):\n",
    "    print(f'Математическое ожидание: {mu}')\n",
    "    print(f'Стандартное отклонение: {sigma}')\n",
    "    print(f'Промежуток значений {mu - 3*sigma, mu + 3*sigma}')\n",
    "    print('Аппроксимация применима')\n",
    "else:\n",
    "    print('Аппроксимация неприменима')\n",
    "\n",
    "left = int(n2 * p2 - 4 * sqrt(n2 * p2 * (1 - p2)))\n",
    "right = int(n2 * p2 + 4 * sqrt(n2 * p2 * (1 - p2)))\n",
    "\n",
    "x = list(range(max(0, left), right))\n",
    "plt.plot(x, st.binom.pmf(x, n2, p2), 'bo', ms=5);\n",
    "plt.xlabel('Вероятности биномиального распределения');\n",
    "\n"
   ]
  },
  {
   "cell_type": "markdown",
   "id": "a9371ca4",
   "metadata": {},
   "source": [
    "Из-за большого количества дискретных значений нет необходимости в строительстве вспомогательного графика аппроксимации.  \n",
    "Сформируем аппроксимированное нормальное распределение (обладающее расчитанными характеристиками) и рассчитаем требуемую вероятность."
   ]
  },
  {
   "cell_type": "code",
   "execution_count": 40,
   "id": "5733a862",
   "metadata": {
    "scrolled": true
   },
   "outputs": [
    {
     "name": "stdout",
     "output_type": "stream",
     "text": [
      "Вероятность того что уведомление откроют не более 399,5 тыс. пользователей 0.15371708296369768\n"
     ]
    }
   ],
   "source": [
    "print(f'Вероятность того что уведомление откроют не более 399,5 тыс. пользователей {st.norm(mu, sigma).cdf(399500)}')"
   ]
  },
  {
   "cell_type": "markdown",
   "id": "13fc35bf",
   "metadata": {},
   "source": [
    "### Выводы"
   ]
  },
  {
   "cell_type": "markdown",
   "id": "75162d2e",
   "metadata": {},
   "source": [
    "Рассмотренная выборка пользователей, обладает следующими характеристиками:  \n",
    "- Встречаемость городов относительно равная и колеблется от 10,95% пользователей от общего числа до 14,28%. Набольшее число пользователей, представленных в выборке - в Пятигорске, наименьшее - в Москве.\n",
    "- Больше половины пользователей - 54,43% - пользуются бесплатной подпиской. Платной подпиской пользуется 45,57% процентов пользователей, соответственно.\n",
    "- В присутствующей выборке - самая значительная группа пользователей - 20-30 лет(78%). Есть только один пользователь старше 40 лет. Группы моложе 20 лет и от 31 до 40 - равны (11% каждая).\n",
    "- Средняя дистанция поездки среди всех пользователей: 3070.66м.\n",
    "- Средняя длительность поездки среди всех пользователей: 17.81 минут.  \n",
    "- Пользователи платной подписки более склонны к длительным поездкам.  \n",
    "  \n",
    "В рамках данной выборки пользователей, следующие гипотезы можно подтвердить: \n",
    "1. ***Тратят ли пользователи с подпиской больше времени на поездки?***  \n",
    "    *Есть основания говорить, что пользователи с подпиской тратят больше времени.*  \n",
    "  \n",
    "2. ***Будет ли помесячная выручка от пользователей с подпиской по месяцам выше, чем выручка от пользователей без подписки?***  \n",
    "    *Есть основания говорить, что что среднее расстояние, которое проезжают пользователи с подпиской за одну поездку, не превышает 3130 метров.*  \n",
    "  \n",
    "3. ***Будет ли помесячная выручка от пользователей с подпиской по месяцам выше, чем выручка от пользователей без подписки?***  \n",
    "    *Есть основания говорить, что помесячная выручка от пользователей с подпиской по месяцам выше, чем выручка от пользователей без подписки.*  \n",
    "  \n",
    "В рамках анализа теоретических ситуаций, сделаны следующие выводы:\n",
    "- При заданных параметрах распределения, количество пользователей в рассылке, которым необходимо отправить промокоды - 1172.  \n",
    "- Вероятность открытия уведомления 399,5 тыс. пользователями, при заданных параметрах вероятности, составляет около 15,3%."
   ]
  },
  {
   "cell_type": "markdown",
   "id": "a949df64",
   "metadata": {},
   "source": [
    "Следует выделить, что в данных о расстоянии поездок присутствует ярко выраженное нормальное распределение поездок от 1500 до 7000 и второе, меньшее нормальное распределение поездок до 1500 м.  \n",
    "Данную особенность необходимо учитывать в формулировании гипотез в будующем.  \n",
    "  \n",
    "Дополнительно, из предоставленных данных, можно вывести основную возрастную группу клиентов компании - 20-30 лет.  \n",
    "При этом, платная подписка достаточно популярна - значительное число клиентов компании уже пользуются платной подпиской, которая, исходя из подтверждённых гипотез, может являться более выгодной для компании.  \n",
    "Исходя из этих постулатов, при условии репрезентативности выборки, можно дать рекомендацию о целевой аудитории для последующих рекламных кампаний и промоакций."
   ]
  }
 ],
 "metadata": {
  "ExecuteTimeLog": [
   {
    "duration": 392,
    "start_time": "2024-03-12T17:52:36.499Z"
   },
   {
    "duration": 87,
    "start_time": "2024-03-12T17:53:37.818Z"
   },
   {
    "duration": 83,
    "start_time": "2024-03-12T17:54:14.578Z"
   },
   {
    "duration": 67,
    "start_time": "2024-03-12T17:54:59.481Z"
   },
   {
    "duration": 35,
    "start_time": "2024-03-12T17:55:31.656Z"
   },
   {
    "duration": 44,
    "start_time": "2024-03-12T17:55:37.828Z"
   },
   {
    "duration": 44,
    "start_time": "2024-03-12T17:55:49.810Z"
   },
   {
    "duration": 35,
    "start_time": "2024-03-12T17:55:52.139Z"
   },
   {
    "duration": 48,
    "start_time": "2024-03-13T16:42:52.471Z"
   },
   {
    "duration": 431,
    "start_time": "2024-03-13T16:42:56.344Z"
   },
   {
    "duration": 86,
    "start_time": "2024-03-13T16:42:58.422Z"
   },
   {
    "duration": 85,
    "start_time": "2024-03-13T16:45:54.484Z"
   },
   {
    "duration": 30,
    "start_time": "2024-03-13T16:46:02.461Z"
   },
   {
    "duration": 82,
    "start_time": "2024-03-13T16:46:05.009Z"
   },
   {
    "duration": 11,
    "start_time": "2024-03-13T16:47:25.323Z"
   },
   {
    "duration": 10,
    "start_time": "2024-03-13T16:50:54.381Z"
   },
   {
    "duration": 7,
    "start_time": "2024-03-13T16:55:25.884Z"
   },
   {
    "duration": 5,
    "start_time": "2024-03-13T16:55:43.975Z"
   },
   {
    "duration": 6,
    "start_time": "2024-03-13T16:55:48.193Z"
   },
   {
    "duration": 6,
    "start_time": "2024-03-13T16:56:02.791Z"
   },
   {
    "duration": 12,
    "start_time": "2024-03-13T16:56:28.054Z"
   },
   {
    "duration": 9,
    "start_time": "2024-03-13T16:56:38.503Z"
   },
   {
    "duration": 12,
    "start_time": "2024-03-13T16:56:43.277Z"
   },
   {
    "duration": 12,
    "start_time": "2024-03-13T16:56:48.804Z"
   },
   {
    "duration": 25,
    "start_time": "2024-03-13T16:56:55.650Z"
   },
   {
    "duration": 13,
    "start_time": "2024-03-13T16:59:21.294Z"
   },
   {
    "duration": 7,
    "start_time": "2024-03-13T17:02:12.074Z"
   },
   {
    "duration": 9,
    "start_time": "2024-03-13T17:03:39.422Z"
   },
   {
    "duration": 8,
    "start_time": "2024-03-13T17:03:51.783Z"
   },
   {
    "duration": 7,
    "start_time": "2024-03-13T17:04:43.361Z"
   },
   {
    "duration": 13,
    "start_time": "2024-03-13T17:04:47.853Z"
   },
   {
    "duration": 11,
    "start_time": "2024-03-13T17:05:25.173Z"
   },
   {
    "duration": 6,
    "start_time": "2024-03-13T17:05:58.167Z"
   },
   {
    "duration": 11,
    "start_time": "2024-03-13T17:06:05.385Z"
   },
   {
    "duration": 10,
    "start_time": "2024-03-13T17:06:20.074Z"
   },
   {
    "duration": 4,
    "start_time": "2024-03-13T17:07:48.061Z"
   },
   {
    "duration": 9,
    "start_time": "2024-03-13T17:07:55.853Z"
   },
   {
    "duration": 11,
    "start_time": "2024-03-13T17:08:18.943Z"
   },
   {
    "duration": 8,
    "start_time": "2024-03-13T17:08:23.178Z"
   },
   {
    "duration": 11,
    "start_time": "2024-03-13T17:09:07.372Z"
   },
   {
    "duration": 9,
    "start_time": "2024-03-13T17:09:18.434Z"
   },
   {
    "duration": 11,
    "start_time": "2024-03-13T17:09:29.022Z"
   },
   {
    "duration": 3,
    "start_time": "2024-03-13T17:12:58.811Z"
   },
   {
    "duration": 851,
    "start_time": "2024-03-13T17:13:08.111Z"
   },
   {
    "duration": 860,
    "start_time": "2024-03-13T17:13:18.130Z"
   },
   {
    "duration": 4,
    "start_time": "2024-03-13T17:13:23.932Z"
   },
   {
    "duration": 32,
    "start_time": "2024-03-13T17:13:40.709Z"
   },
   {
    "duration": 13,
    "start_time": "2024-03-13T17:16:09.356Z"
   },
   {
    "duration": 8,
    "start_time": "2024-03-13T17:16:18.005Z"
   },
   {
    "duration": 7,
    "start_time": "2024-03-13T17:26:25.244Z"
   },
   {
    "duration": 10,
    "start_time": "2024-03-13T17:26:30.111Z"
   },
   {
    "duration": 15,
    "start_time": "2024-03-13T17:26:40.404Z"
   },
   {
    "duration": 60,
    "start_time": "2024-03-13T17:26:54.491Z"
   },
   {
    "duration": 13,
    "start_time": "2024-03-13T17:29:01.194Z"
   },
   {
    "duration": 28,
    "start_time": "2024-03-13T17:29:06.474Z"
   },
   {
    "duration": 19,
    "start_time": "2024-03-13T17:30:20.526Z"
   },
   {
    "duration": 16,
    "start_time": "2024-03-13T17:30:24.609Z"
   },
   {
    "duration": 15,
    "start_time": "2024-03-13T17:31:17.253Z"
   },
   {
    "duration": 12,
    "start_time": "2024-03-13T17:35:15.445Z"
   },
   {
    "duration": 12,
    "start_time": "2024-03-13T17:35:29.123Z"
   },
   {
    "duration": 7,
    "start_time": "2024-03-13T17:35:54.663Z"
   },
   {
    "duration": 8,
    "start_time": "2024-03-13T17:36:02.875Z"
   },
   {
    "duration": 8,
    "start_time": "2024-03-13T17:39:05.199Z"
   },
   {
    "duration": 9,
    "start_time": "2024-03-13T17:39:11.565Z"
   },
   {
    "duration": 6,
    "start_time": "2024-03-13T17:39:32.240Z"
   },
   {
    "duration": 6,
    "start_time": "2024-03-13T17:39:39.983Z"
   },
   {
    "duration": 7,
    "start_time": "2024-03-13T17:39:52.054Z"
   },
   {
    "duration": 6,
    "start_time": "2024-03-13T17:41:07.314Z"
   },
   {
    "duration": 7,
    "start_time": "2024-03-13T17:41:12.443Z"
   },
   {
    "duration": 12,
    "start_time": "2024-03-13T17:41:18.929Z"
   },
   {
    "duration": 9,
    "start_time": "2024-03-13T17:42:53.274Z"
   },
   {
    "duration": 8,
    "start_time": "2024-03-13T17:46:52.843Z"
   },
   {
    "duration": 11,
    "start_time": "2024-03-13T17:46:57.495Z"
   },
   {
    "duration": 13,
    "start_time": "2024-03-13T17:47:07.024Z"
   },
   {
    "duration": 9,
    "start_time": "2024-03-13T17:47:22.245Z"
   },
   {
    "duration": 11,
    "start_time": "2024-03-13T17:47:32.295Z"
   },
   {
    "duration": 432,
    "start_time": "2024-03-13T17:53:19.336Z"
   },
   {
    "duration": 39,
    "start_time": "2024-03-13T17:53:19.769Z"
   },
   {
    "duration": 11,
    "start_time": "2024-03-13T17:53:19.810Z"
   },
   {
    "duration": 35,
    "start_time": "2024-03-13T17:53:19.823Z"
   },
   {
    "duration": 10,
    "start_time": "2024-03-13T17:53:19.859Z"
   },
   {
    "duration": 19,
    "start_time": "2024-03-13T17:53:19.871Z"
   },
   {
    "duration": 5,
    "start_time": "2024-03-13T17:53:19.891Z"
   },
   {
    "duration": 11,
    "start_time": "2024-03-13T17:53:19.897Z"
   },
   {
    "duration": 10,
    "start_time": "2024-03-13T17:53:19.910Z"
   },
   {
    "duration": 16,
    "start_time": "2024-03-13T17:53:19.922Z"
   },
   {
    "duration": 27,
    "start_time": "2024-03-13T17:53:19.939Z"
   },
   {
    "duration": 13,
    "start_time": "2024-03-13T17:53:19.968Z"
   },
   {
    "duration": 11,
    "start_time": "2024-03-13T17:53:19.983Z"
   },
   {
    "duration": 71,
    "start_time": "2024-03-13T17:53:19.995Z"
   },
   {
    "duration": 68,
    "start_time": "2024-03-13T17:53:31.397Z"
   },
   {
    "duration": 12,
    "start_time": "2024-03-13T17:53:38.641Z"
   },
   {
    "duration": 12,
    "start_time": "2024-03-13T17:53:52.112Z"
   },
   {
    "duration": 11,
    "start_time": "2024-03-13T17:54:05.268Z"
   },
   {
    "duration": 4,
    "start_time": "2024-03-13T17:54:17.135Z"
   },
   {
    "duration": 9,
    "start_time": "2024-03-13T17:54:25.543Z"
   },
   {
    "duration": 67,
    "start_time": "2024-03-13T17:54:43.839Z"
   },
   {
    "duration": 4,
    "start_time": "2024-03-13T17:54:49.417Z"
   },
   {
    "duration": 5,
    "start_time": "2024-03-13T17:54:52.606Z"
   },
   {
    "duration": 11,
    "start_time": "2024-03-13T17:56:38.088Z"
   },
   {
    "duration": 17,
    "start_time": "2024-03-13T18:42:54.210Z"
   },
   {
    "duration": 8,
    "start_time": "2024-03-13T18:45:15.728Z"
   },
   {
    "duration": 3,
    "start_time": "2024-03-13T18:45:20.305Z"
   },
   {
    "duration": 4,
    "start_time": "2024-03-13T18:45:22.463Z"
   },
   {
    "duration": 14,
    "start_time": "2024-03-13T18:45:25.480Z"
   },
   {
    "duration": 12,
    "start_time": "2024-03-13T18:48:40.794Z"
   },
   {
    "duration": 13,
    "start_time": "2024-03-13T18:49:09.091Z"
   },
   {
    "duration": 12,
    "start_time": "2024-03-13T18:49:33.340Z"
   },
   {
    "duration": 63,
    "start_time": "2024-03-13T18:50:54.307Z"
   },
   {
    "duration": 1347,
    "start_time": "2024-03-13T18:51:50.824Z"
   },
   {
    "duration": 913,
    "start_time": "2024-03-13T18:51:58.745Z"
   },
   {
    "duration": 93,
    "start_time": "2024-03-13T18:52:38.086Z"
   },
   {
    "duration": 1099,
    "start_time": "2024-03-13T18:52:44.685Z"
   },
   {
    "duration": 252,
    "start_time": "2024-03-13T18:53:18.067Z"
   },
   {
    "duration": 3,
    "start_time": "2024-03-13T18:53:51.740Z"
   },
   {
    "duration": 444,
    "start_time": "2024-03-13T18:53:58.489Z"
   },
   {
    "duration": 20,
    "start_time": "2024-03-13T18:54:43.730Z"
   },
   {
    "duration": 13,
    "start_time": "2024-03-13T18:54:56.258Z"
   },
   {
    "duration": 335,
    "start_time": "2024-03-13T18:55:50.096Z"
   },
   {
    "duration": 306,
    "start_time": "2024-03-13T18:55:57.201Z"
   },
   {
    "duration": 252,
    "start_time": "2024-03-13T18:56:03.698Z"
   },
   {
    "duration": 280,
    "start_time": "2024-03-13T18:56:14.095Z"
   },
   {
    "duration": 279,
    "start_time": "2024-03-13T18:56:17.763Z"
   },
   {
    "duration": 276,
    "start_time": "2024-03-13T19:02:22.546Z"
   },
   {
    "duration": 11,
    "start_time": "2024-03-13T19:03:47.679Z"
   },
   {
    "duration": 5,
    "start_time": "2024-03-13T19:04:11.341Z"
   },
   {
    "duration": 5,
    "start_time": "2024-03-13T19:04:59.511Z"
   },
   {
    "duration": 4,
    "start_time": "2024-03-13T19:05:34.379Z"
   },
   {
    "duration": 5,
    "start_time": "2024-03-13T19:06:05.195Z"
   },
   {
    "duration": 7,
    "start_time": "2024-03-13T19:06:49.044Z"
   },
   {
    "duration": 6,
    "start_time": "2024-03-13T19:07:09.061Z"
   },
   {
    "duration": 392,
    "start_time": "2024-03-13T19:07:15.615Z"
   },
   {
    "duration": 273,
    "start_time": "2024-03-13T19:07:27.414Z"
   },
   {
    "duration": 12,
    "start_time": "2024-03-13T19:14:14.192Z"
   },
   {
    "duration": 8,
    "start_time": "2024-03-13T19:14:19.840Z"
   },
   {
    "duration": 7,
    "start_time": "2024-03-13T19:14:25.498Z"
   },
   {
    "duration": 8,
    "start_time": "2024-03-13T19:14:29.969Z"
   },
   {
    "duration": 7,
    "start_time": "2024-03-13T19:14:38.516Z"
   },
   {
    "duration": 9,
    "start_time": "2024-03-13T19:18:14.390Z"
   },
   {
    "duration": 23,
    "start_time": "2024-03-13T19:18:21.918Z"
   },
   {
    "duration": 12,
    "start_time": "2024-03-13T19:18:29.678Z"
   },
   {
    "duration": 14,
    "start_time": "2024-03-13T19:18:51.672Z"
   },
   {
    "duration": 28,
    "start_time": "2024-03-13T19:21:27.656Z"
   },
   {
    "duration": 1170,
    "start_time": "2024-03-13T19:23:17.497Z"
   },
   {
    "duration": 20,
    "start_time": "2024-03-13T19:23:29.980Z"
   },
   {
    "duration": 7,
    "start_time": "2024-03-13T19:23:56.449Z"
   },
   {
    "duration": 21,
    "start_time": "2024-03-13T19:24:01.620Z"
   },
   {
    "duration": 16,
    "start_time": "2024-03-13T19:24:06.937Z"
   },
   {
    "duration": 18,
    "start_time": "2024-03-13T19:24:13.867Z"
   },
   {
    "duration": 273,
    "start_time": "2024-03-13T19:25:50.992Z"
   },
   {
    "duration": 280,
    "start_time": "2024-03-13T19:26:24.852Z"
   },
   {
    "duration": 19,
    "start_time": "2024-03-13T19:42:12.824Z"
   },
   {
    "duration": 9,
    "start_time": "2024-03-13T19:43:22.223Z"
   },
   {
    "duration": 7,
    "start_time": "2024-03-13T19:43:29.091Z"
   },
   {
    "duration": 13,
    "start_time": "2024-03-13T19:43:35.275Z"
   },
   {
    "duration": 15,
    "start_time": "2024-03-13T19:44:16.825Z"
   },
   {
    "duration": 7,
    "start_time": "2024-03-13T19:45:44.113Z"
   },
   {
    "duration": 14,
    "start_time": "2024-03-13T19:45:54.465Z"
   },
   {
    "duration": 9,
    "start_time": "2024-03-13T19:46:06.940Z"
   },
   {
    "duration": 15,
    "start_time": "2024-03-13T19:48:10.080Z"
   },
   {
    "duration": 750,
    "start_time": "2024-03-14T13:55:44.555Z"
   },
   {
    "duration": 86,
    "start_time": "2024-03-14T13:55:45.307Z"
   },
   {
    "duration": 10,
    "start_time": "2024-03-14T13:55:45.395Z"
   },
   {
    "duration": 118,
    "start_time": "2024-03-14T13:55:45.407Z"
   },
   {
    "duration": 10,
    "start_time": "2024-03-14T13:55:45.526Z"
   },
   {
    "duration": 76,
    "start_time": "2024-03-14T13:55:45.537Z"
   },
   {
    "duration": 5,
    "start_time": "2024-03-14T13:55:45.615Z"
   },
   {
    "duration": 41,
    "start_time": "2024-03-14T13:55:45.621Z"
   },
   {
    "duration": 14,
    "start_time": "2024-03-14T13:55:45.663Z"
   },
   {
    "duration": 14,
    "start_time": "2024-03-14T13:55:45.679Z"
   },
   {
    "duration": 15,
    "start_time": "2024-03-14T13:55:45.694Z"
   },
   {
    "duration": 17,
    "start_time": "2024-03-14T13:55:45.711Z"
   },
   {
    "duration": 277,
    "start_time": "2024-03-14T13:55:45.729Z"
   },
   {
    "duration": 12,
    "start_time": "2024-03-14T13:55:46.008Z"
   },
   {
    "duration": 25,
    "start_time": "2024-03-14T13:55:46.021Z"
   },
   {
    "duration": 11,
    "start_time": "2024-03-14T13:55:46.047Z"
   },
   {
    "duration": 7,
    "start_time": "2024-03-14T13:55:46.059Z"
   },
   {
    "duration": 22,
    "start_time": "2024-03-14T13:55:46.067Z"
   },
   {
    "duration": 308,
    "start_time": "2024-03-14T13:55:46.091Z"
   },
   {
    "duration": 26,
    "start_time": "2024-03-14T13:55:46.400Z"
   },
   {
    "duration": 43,
    "start_time": "2024-03-14T13:55:46.427Z"
   },
   {
    "duration": 262,
    "start_time": "2024-03-14T13:55:46.471Z"
   },
   {
    "duration": 238,
    "start_time": "2024-03-14T13:55:46.734Z"
   },
   {
    "duration": 15,
    "start_time": "2024-03-14T13:55:46.973Z"
   },
   {
    "duration": 42,
    "start_time": "2024-03-14T13:55:46.990Z"
   },
   {
    "duration": 10,
    "start_time": "2024-03-14T13:55:47.033Z"
   },
   {
    "duration": 16,
    "start_time": "2024-03-14T13:55:47.045Z"
   },
   {
    "duration": 13,
    "start_time": "2024-03-14T13:55:47.063Z"
   },
   {
    "duration": 15,
    "start_time": "2024-03-14T14:15:12.442Z"
   },
   {
    "duration": 64,
    "start_time": "2024-03-14T14:24:18.535Z"
   },
   {
    "duration": 11,
    "start_time": "2024-03-14T14:24:36.796Z"
   },
   {
    "duration": 11,
    "start_time": "2024-03-14T14:24:38.943Z"
   },
   {
    "duration": 11,
    "start_time": "2024-03-14T14:24:43.871Z"
   },
   {
    "duration": 318,
    "start_time": "2024-03-14T14:29:59.851Z"
   },
   {
    "duration": 12,
    "start_time": "2024-03-14T14:31:07.942Z"
   },
   {
    "duration": 12,
    "start_time": "2024-03-14T14:31:11.011Z"
   },
   {
    "duration": 15,
    "start_time": "2024-03-14T14:31:33.781Z"
   },
   {
    "duration": 12,
    "start_time": "2024-03-14T14:31:36.043Z"
   },
   {
    "duration": 69,
    "start_time": "2024-03-14T14:50:32.525Z"
   },
   {
    "duration": 330,
    "start_time": "2024-03-14T15:00:45.938Z"
   },
   {
    "duration": 18,
    "start_time": "2024-03-14T15:01:07.105Z"
   },
   {
    "duration": 15,
    "start_time": "2024-03-14T15:01:12.682Z"
   },
   {
    "duration": 12,
    "start_time": "2024-03-14T15:01:15.244Z"
   },
   {
    "duration": 17,
    "start_time": "2024-03-14T15:02:59.680Z"
   },
   {
    "duration": 15,
    "start_time": "2024-03-14T15:03:04.359Z"
   },
   {
    "duration": 13,
    "start_time": "2024-03-14T15:03:07.049Z"
   },
   {
    "duration": 18,
    "start_time": "2024-03-14T15:03:25.489Z"
   },
   {
    "duration": 14,
    "start_time": "2024-03-14T15:03:32.125Z"
   },
   {
    "duration": 11,
    "start_time": "2024-03-14T15:03:38.014Z"
   },
   {
    "duration": 29,
    "start_time": "2024-03-14T15:04:05.007Z"
   },
   {
    "duration": 551,
    "start_time": "2024-03-14T15:04:10.796Z"
   },
   {
    "duration": 36,
    "start_time": "2024-03-14T15:04:11.348Z"
   },
   {
    "duration": 9,
    "start_time": "2024-03-14T15:04:11.386Z"
   },
   {
    "duration": 42,
    "start_time": "2024-03-14T15:04:11.397Z"
   },
   {
    "duration": 10,
    "start_time": "2024-03-14T15:04:11.440Z"
   },
   {
    "duration": 19,
    "start_time": "2024-03-14T15:04:11.451Z"
   },
   {
    "duration": 5,
    "start_time": "2024-03-14T15:04:11.471Z"
   },
   {
    "duration": 11,
    "start_time": "2024-03-14T15:04:11.477Z"
   },
   {
    "duration": 10,
    "start_time": "2024-03-14T15:04:11.489Z"
   },
   {
    "duration": 7,
    "start_time": "2024-03-14T15:04:11.501Z"
   },
   {
    "duration": 15,
    "start_time": "2024-03-14T15:04:11.509Z"
   },
   {
    "duration": 13,
    "start_time": "2024-03-14T15:04:11.545Z"
   },
   {
    "duration": 275,
    "start_time": "2024-03-14T15:04:11.559Z"
   },
   {
    "duration": 15,
    "start_time": "2024-03-14T15:04:11.836Z"
   },
   {
    "duration": 13,
    "start_time": "2024-03-14T15:04:11.852Z"
   },
   {
    "duration": 13,
    "start_time": "2024-03-14T15:04:11.866Z"
   },
   {
    "duration": 3,
    "start_time": "2024-03-14T15:04:11.880Z"
   },
   {
    "duration": 15,
    "start_time": "2024-03-14T15:04:11.884Z"
   },
   {
    "duration": 280,
    "start_time": "2024-03-14T15:04:11.901Z"
   },
   {
    "duration": 28,
    "start_time": "2024-03-14T15:04:12.183Z"
   },
   {
    "duration": 8,
    "start_time": "2024-03-14T15:04:12.213Z"
   },
   {
    "duration": 323,
    "start_time": "2024-03-14T15:04:12.222Z"
   },
   {
    "duration": 244,
    "start_time": "2024-03-14T15:04:12.547Z"
   },
   {
    "duration": 16,
    "start_time": "2024-03-14T15:04:12.792Z"
   },
   {
    "duration": 15,
    "start_time": "2024-03-14T15:04:12.809Z"
   },
   {
    "duration": 25,
    "start_time": "2024-03-14T15:04:12.825Z"
   },
   {
    "duration": 32,
    "start_time": "2024-03-14T15:04:12.852Z"
   },
   {
    "duration": 16,
    "start_time": "2024-03-14T15:04:12.887Z"
   },
   {
    "duration": 1146,
    "start_time": "2024-03-14T15:04:12.904Z"
   },
   {
    "duration": 0,
    "start_time": "2024-03-14T15:04:14.052Z"
   },
   {
    "duration": 0,
    "start_time": "2024-03-14T15:04:14.053Z"
   },
   {
    "duration": 608,
    "start_time": "2024-03-14T15:05:50.095Z"
   },
   {
    "duration": 37,
    "start_time": "2024-03-14T15:05:50.705Z"
   },
   {
    "duration": 10,
    "start_time": "2024-03-14T15:05:50.744Z"
   },
   {
    "duration": 60,
    "start_time": "2024-03-14T15:05:50.756Z"
   },
   {
    "duration": 12,
    "start_time": "2024-03-14T15:05:50.817Z"
   },
   {
    "duration": 33,
    "start_time": "2024-03-14T15:05:50.831Z"
   },
   {
    "duration": 12,
    "start_time": "2024-03-14T15:05:50.866Z"
   },
   {
    "duration": 20,
    "start_time": "2024-03-14T15:05:50.879Z"
   },
   {
    "duration": 30,
    "start_time": "2024-03-14T15:05:50.900Z"
   },
   {
    "duration": 32,
    "start_time": "2024-03-14T15:05:50.933Z"
   },
   {
    "duration": 25,
    "start_time": "2024-03-14T15:05:50.967Z"
   },
   {
    "duration": 33,
    "start_time": "2024-03-14T15:05:50.994Z"
   },
   {
    "duration": 293,
    "start_time": "2024-03-14T15:05:51.029Z"
   },
   {
    "duration": 22,
    "start_time": "2024-03-14T15:05:51.324Z"
   },
   {
    "duration": 41,
    "start_time": "2024-03-14T15:05:51.347Z"
   },
   {
    "duration": 46,
    "start_time": "2024-03-14T15:05:51.389Z"
   },
   {
    "duration": 2,
    "start_time": "2024-03-14T15:05:51.437Z"
   },
   {
    "duration": 40,
    "start_time": "2024-03-14T15:05:51.441Z"
   },
   {
    "duration": 288,
    "start_time": "2024-03-14T15:05:51.483Z"
   },
   {
    "duration": 30,
    "start_time": "2024-03-14T15:05:51.772Z"
   },
   {
    "duration": 16,
    "start_time": "2024-03-14T15:05:51.804Z"
   },
   {
    "duration": 364,
    "start_time": "2024-03-14T15:05:51.821Z"
   },
   {
    "duration": 263,
    "start_time": "2024-03-14T15:05:52.186Z"
   },
   {
    "duration": 18,
    "start_time": "2024-03-14T15:05:52.450Z"
   },
   {
    "duration": 18,
    "start_time": "2024-03-14T15:05:52.469Z"
   },
   {
    "duration": 21,
    "start_time": "2024-03-14T15:05:52.488Z"
   },
   {
    "duration": 37,
    "start_time": "2024-03-14T15:05:52.510Z"
   },
   {
    "duration": 16,
    "start_time": "2024-03-14T15:05:52.550Z"
   },
   {
    "duration": 1187,
    "start_time": "2024-03-14T15:05:52.567Z"
   },
   {
    "duration": 0,
    "start_time": "2024-03-14T15:05:53.756Z"
   },
   {
    "duration": 0,
    "start_time": "2024-03-14T15:05:53.758Z"
   },
   {
    "duration": 13,
    "start_time": "2024-03-14T15:06:08.069Z"
   },
   {
    "duration": 18,
    "start_time": "2024-03-14T15:11:48.957Z"
   },
   {
    "duration": 13,
    "start_time": "2024-03-14T15:11:52.651Z"
   },
   {
    "duration": 4,
    "start_time": "2024-03-14T15:13:38.344Z"
   },
   {
    "duration": 13,
    "start_time": "2024-03-14T15:13:40.907Z"
   },
   {
    "duration": 6,
    "start_time": "2024-03-14T15:14:26.439Z"
   },
   {
    "duration": 12,
    "start_time": "2024-03-14T15:14:28.407Z"
   },
   {
    "duration": 21,
    "start_time": "2024-03-14T15:14:36.064Z"
   },
   {
    "duration": 7,
    "start_time": "2024-03-14T15:14:37.874Z"
   },
   {
    "duration": 14,
    "start_time": "2024-03-14T15:14:40.415Z"
   },
   {
    "duration": 6,
    "start_time": "2024-03-14T15:15:39.608Z"
   },
   {
    "duration": 14,
    "start_time": "2024-03-14T15:15:41.392Z"
   },
   {
    "duration": 14,
    "start_time": "2024-03-14T15:15:44.313Z"
   },
   {
    "duration": 392,
    "start_time": "2024-03-14T15:24:43.256Z"
   },
   {
    "duration": 113,
    "start_time": "2024-03-14T15:28:16.386Z"
   },
   {
    "duration": 182,
    "start_time": "2024-03-14T15:28:25.464Z"
   },
   {
    "duration": 125,
    "start_time": "2024-03-14T15:28:31.135Z"
   },
   {
    "duration": 140,
    "start_time": "2024-03-14T15:28:37.236Z"
   },
   {
    "duration": 133,
    "start_time": "2024-03-14T15:28:42.718Z"
   },
   {
    "duration": 3,
    "start_time": "2024-03-14T15:30:14.972Z"
   },
   {
    "duration": 5,
    "start_time": "2024-03-14T15:31:36.115Z"
   },
   {
    "duration": 151,
    "start_time": "2024-03-14T15:31:52.194Z"
   },
   {
    "duration": 147,
    "start_time": "2024-03-14T15:31:54.523Z"
   },
   {
    "duration": 117,
    "start_time": "2024-03-14T15:32:13.624Z"
   },
   {
    "duration": 150,
    "start_time": "2024-03-14T15:32:17.463Z"
   },
   {
    "duration": 5,
    "start_time": "2024-03-14T15:35:23.254Z"
   },
   {
    "duration": 5,
    "start_time": "2024-03-14T15:38:38.087Z"
   },
   {
    "duration": 5,
    "start_time": "2024-03-14T15:45:47.379Z"
   },
   {
    "duration": 4,
    "start_time": "2024-03-14T15:46:02.906Z"
   },
   {
    "duration": 5,
    "start_time": "2024-03-14T15:46:06.454Z"
   },
   {
    "duration": 133,
    "start_time": "2024-03-14T15:47:17.484Z"
   },
   {
    "duration": 7,
    "start_time": "2024-03-14T15:48:04.237Z"
   },
   {
    "duration": 8,
    "start_time": "2024-03-14T15:48:35.030Z"
   },
   {
    "duration": 7,
    "start_time": "2024-03-14T15:48:50.913Z"
   },
   {
    "duration": 6,
    "start_time": "2024-03-14T15:49:01.347Z"
   },
   {
    "duration": 6,
    "start_time": "2024-03-14T15:49:25.150Z"
   },
   {
    "duration": 4,
    "start_time": "2024-03-14T15:49:30.784Z"
   },
   {
    "duration": 7,
    "start_time": "2024-03-14T15:49:42.122Z"
   },
   {
    "duration": 7,
    "start_time": "2024-03-14T15:50:51.793Z"
   },
   {
    "duration": 1404,
    "start_time": "2024-03-14T15:54:06.994Z"
   },
   {
    "duration": 6,
    "start_time": "2024-03-14T15:54:25.965Z"
   },
   {
    "duration": 149,
    "start_time": "2024-03-14T15:54:46.411Z"
   },
   {
    "duration": 145,
    "start_time": "2024-03-14T15:54:54.602Z"
   },
   {
    "duration": 4,
    "start_time": "2024-03-14T15:55:06.089Z"
   },
   {
    "duration": 224,
    "start_time": "2024-03-14T15:55:11.174Z"
   },
   {
    "duration": 148,
    "start_time": "2024-03-14T15:55:21.853Z"
   },
   {
    "duration": 156,
    "start_time": "2024-03-14T15:55:33.414Z"
   },
   {
    "duration": 6,
    "start_time": "2024-03-14T15:57:05.474Z"
   },
   {
    "duration": 10,
    "start_time": "2024-03-14T16:22:51.017Z"
   },
   {
    "duration": 3,
    "start_time": "2024-03-14T16:23:18.603Z"
   },
   {
    "duration": 5,
    "start_time": "2024-03-14T16:23:22.324Z"
   },
   {
    "duration": 12,
    "start_time": "2024-03-14T16:23:54.308Z"
   },
   {
    "duration": 11,
    "start_time": "2024-03-14T16:24:23.416Z"
   },
   {
    "duration": 10,
    "start_time": "2024-03-14T16:24:58.480Z"
   },
   {
    "duration": 7,
    "start_time": "2024-03-14T16:26:26.874Z"
   },
   {
    "duration": 48,
    "start_time": "2024-03-15T07:12:59.463Z"
   },
   {
    "duration": 1263,
    "start_time": "2024-03-15T07:13:06.040Z"
   },
   {
    "duration": 144,
    "start_time": "2024-03-15T07:13:07.305Z"
   },
   {
    "duration": 11,
    "start_time": "2024-03-15T07:13:07.451Z"
   },
   {
    "duration": 88,
    "start_time": "2024-03-15T07:13:07.464Z"
   },
   {
    "duration": 11,
    "start_time": "2024-03-15T07:13:07.555Z"
   },
   {
    "duration": 63,
    "start_time": "2024-03-15T07:13:07.567Z"
   },
   {
    "duration": 6,
    "start_time": "2024-03-15T07:13:07.631Z"
   },
   {
    "duration": 13,
    "start_time": "2024-03-15T07:13:07.638Z"
   },
   {
    "duration": 11,
    "start_time": "2024-03-15T07:13:07.653Z"
   },
   {
    "duration": 43,
    "start_time": "2024-03-15T07:13:07.666Z"
   },
   {
    "duration": 13,
    "start_time": "2024-03-15T07:13:07.711Z"
   },
   {
    "duration": 14,
    "start_time": "2024-03-15T07:13:07.726Z"
   },
   {
    "duration": 308,
    "start_time": "2024-03-15T07:13:07.742Z"
   },
   {
    "duration": 17,
    "start_time": "2024-03-15T07:13:08.053Z"
   },
   {
    "duration": 13,
    "start_time": "2024-03-15T07:13:08.071Z"
   },
   {
    "duration": 12,
    "start_time": "2024-03-15T07:13:08.085Z"
   },
   {
    "duration": 3,
    "start_time": "2024-03-15T07:13:08.098Z"
   },
   {
    "duration": 31,
    "start_time": "2024-03-15T07:13:08.103Z"
   },
   {
    "duration": 328,
    "start_time": "2024-03-15T07:13:08.135Z"
   },
   {
    "duration": 31,
    "start_time": "2024-03-15T07:13:08.465Z"
   },
   {
    "duration": 9,
    "start_time": "2024-03-15T07:13:08.498Z"
   },
   {
    "duration": 340,
    "start_time": "2024-03-15T07:13:08.508Z"
   },
   {
    "duration": 295,
    "start_time": "2024-03-15T07:13:08.850Z"
   },
   {
    "duration": 28,
    "start_time": "2024-03-15T07:13:09.147Z"
   },
   {
    "duration": 24,
    "start_time": "2024-03-15T07:13:09.176Z"
   },
   {
    "duration": 12,
    "start_time": "2024-03-15T07:13:09.201Z"
   },
   {
    "duration": 18,
    "start_time": "2024-03-15T07:13:09.215Z"
   },
   {
    "duration": 44,
    "start_time": "2024-03-15T07:13:09.234Z"
   },
   {
    "duration": 7,
    "start_time": "2024-03-15T07:13:09.279Z"
   },
   {
    "duration": 18,
    "start_time": "2024-03-15T07:13:09.287Z"
   },
   {
    "duration": 26,
    "start_time": "2024-03-15T07:13:09.307Z"
   },
   {
    "duration": 153,
    "start_time": "2024-03-15T07:13:09.334Z"
   },
   {
    "duration": 165,
    "start_time": "2024-03-15T07:13:09.489Z"
   },
   {
    "duration": 6,
    "start_time": "2024-03-15T07:13:09.657Z"
   },
   {
    "duration": 113,
    "start_time": "2024-03-15T07:13:09.664Z"
   },
   {
    "duration": 0,
    "start_time": "2024-03-15T07:13:09.778Z"
   },
   {
    "duration": 0,
    "start_time": "2024-03-15T07:13:09.779Z"
   },
   {
    "duration": 7,
    "start_time": "2024-03-15T07:13:34.792Z"
   },
   {
    "duration": 4,
    "start_time": "2024-03-15T07:14:05.624Z"
   },
   {
    "duration": 8,
    "start_time": "2024-03-15T07:15:04.384Z"
   },
   {
    "duration": 6,
    "start_time": "2024-03-15T07:15:20.200Z"
   },
   {
    "duration": 7,
    "start_time": "2024-03-15T07:15:56.295Z"
   },
   {
    "duration": 8,
    "start_time": "2024-03-15T07:16:15.174Z"
   },
   {
    "duration": 7,
    "start_time": "2024-03-15T07:16:26.455Z"
   },
   {
    "duration": 8,
    "start_time": "2024-03-15T07:19:18.933Z"
   },
   {
    "duration": 8,
    "start_time": "2024-03-15T07:19:27.724Z"
   },
   {
    "duration": 7,
    "start_time": "2024-03-15T07:19:33.332Z"
   },
   {
    "duration": 7,
    "start_time": "2024-03-15T07:19:39.211Z"
   },
   {
    "duration": 3,
    "start_time": "2024-03-15T07:41:35.438Z"
   },
   {
    "duration": 67,
    "start_time": "2024-03-15T08:19:32.977Z"
   },
   {
    "duration": 6,
    "start_time": "2024-03-15T08:19:36.310Z"
   },
   {
    "duration": 1060,
    "start_time": "2024-03-15T08:19:43.693Z"
   },
   {
    "duration": 92,
    "start_time": "2024-03-15T08:19:44.755Z"
   },
   {
    "duration": 11,
    "start_time": "2024-03-15T08:19:44.849Z"
   },
   {
    "duration": 40,
    "start_time": "2024-03-15T08:19:44.862Z"
   },
   {
    "duration": 10,
    "start_time": "2024-03-15T08:19:44.904Z"
   },
   {
    "duration": 24,
    "start_time": "2024-03-15T08:19:44.915Z"
   },
   {
    "duration": 4,
    "start_time": "2024-03-15T08:19:44.940Z"
   },
   {
    "duration": 21,
    "start_time": "2024-03-15T08:19:44.946Z"
   },
   {
    "duration": 14,
    "start_time": "2024-03-15T08:19:44.971Z"
   },
   {
    "duration": 10,
    "start_time": "2024-03-15T08:19:44.987Z"
   },
   {
    "duration": 10,
    "start_time": "2024-03-15T08:19:44.999Z"
   },
   {
    "duration": 45,
    "start_time": "2024-03-15T08:19:45.011Z"
   },
   {
    "duration": 349,
    "start_time": "2024-03-15T08:19:45.058Z"
   },
   {
    "duration": 14,
    "start_time": "2024-03-15T08:19:45.411Z"
   },
   {
    "duration": 33,
    "start_time": "2024-03-15T08:19:45.427Z"
   },
   {
    "duration": 17,
    "start_time": "2024-03-15T08:19:45.461Z"
   },
   {
    "duration": 4,
    "start_time": "2024-03-15T08:19:45.480Z"
   },
   {
    "duration": 36,
    "start_time": "2024-03-15T08:19:45.486Z"
   },
   {
    "duration": 319,
    "start_time": "2024-03-15T08:19:45.523Z"
   },
   {
    "duration": 41,
    "start_time": "2024-03-15T08:19:45.843Z"
   },
   {
    "duration": 8,
    "start_time": "2024-03-15T08:19:45.886Z"
   },
   {
    "duration": 337,
    "start_time": "2024-03-15T08:19:45.896Z"
   },
   {
    "duration": 341,
    "start_time": "2024-03-15T08:19:46.235Z"
   },
   {
    "duration": 19,
    "start_time": "2024-03-15T08:19:46.578Z"
   },
   {
    "duration": 26,
    "start_time": "2024-03-15T08:19:46.598Z"
   },
   {
    "duration": 31,
    "start_time": "2024-03-15T08:19:46.625Z"
   },
   {
    "duration": 35,
    "start_time": "2024-03-15T08:19:46.658Z"
   },
   {
    "duration": 27,
    "start_time": "2024-03-15T08:19:46.695Z"
   },
   {
    "duration": 6,
    "start_time": "2024-03-15T08:19:46.724Z"
   },
   {
    "duration": 28,
    "start_time": "2024-03-15T08:19:46.732Z"
   },
   {
    "duration": 31,
    "start_time": "2024-03-15T08:19:46.762Z"
   },
   {
    "duration": 157,
    "start_time": "2024-03-15T08:19:46.794Z"
   },
   {
    "duration": 195,
    "start_time": "2024-03-15T08:19:46.952Z"
   },
   {
    "duration": 10,
    "start_time": "2024-03-15T08:19:47.148Z"
   },
   {
    "duration": 12,
    "start_time": "2024-03-15T08:19:47.160Z"
   },
   {
    "duration": 11,
    "start_time": "2024-03-15T08:19:47.173Z"
   },
   {
    "duration": 10,
    "start_time": "2024-03-15T08:19:47.185Z"
   },
   {
    "duration": 9,
    "start_time": "2024-03-15T08:19:47.196Z"
   },
   {
    "duration": 6,
    "start_time": "2024-03-15T08:19:56.493Z"
   },
   {
    "duration": 8,
    "start_time": "2024-03-15T08:27:27.748Z"
   },
   {
    "duration": 103,
    "start_time": "2024-03-15T08:39:55.644Z"
   },
   {
    "duration": 15,
    "start_time": "2024-03-15T08:42:12.401Z"
   },
   {
    "duration": 387,
    "start_time": "2024-03-15T08:44:48.679Z"
   },
   {
    "duration": 15,
    "start_time": "2024-03-15T08:54:02.461Z"
   },
   {
    "duration": 314,
    "start_time": "2024-03-15T09:10:22.479Z"
   },
   {
    "duration": 9,
    "start_time": "2024-03-15T09:10:42.354Z"
   },
   {
    "duration": 8,
    "start_time": "2024-03-15T09:11:51.081Z"
   },
   {
    "duration": 6,
    "start_time": "2024-03-15T09:12:01.656Z"
   },
   {
    "duration": 33,
    "start_time": "2024-03-15T09:23:39.543Z"
   },
   {
    "duration": 30,
    "start_time": "2024-03-15T09:26:26.658Z"
   },
   {
    "duration": 9,
    "start_time": "2024-03-15T09:40:08.759Z"
   },
   {
    "duration": 11,
    "start_time": "2024-03-15T09:45:46.994Z"
   },
   {
    "duration": 10,
    "start_time": "2024-03-15T09:45:49.498Z"
   },
   {
    "duration": 10,
    "start_time": "2024-03-15T09:45:59.746Z"
   },
   {
    "duration": 8,
    "start_time": "2024-03-15T09:46:14.424Z"
   },
   {
    "duration": 14,
    "start_time": "2024-03-15T09:46:16.761Z"
   },
   {
    "duration": 14,
    "start_time": "2024-03-15T09:46:19.379Z"
   },
   {
    "duration": 6,
    "start_time": "2024-03-15T09:56:48.384Z"
   },
   {
    "duration": 103,
    "start_time": "2024-03-15T10:08:08.990Z"
   },
   {
    "duration": 7,
    "start_time": "2024-03-15T10:08:17.180Z"
   },
   {
    "duration": 153,
    "start_time": "2024-03-15T10:08:34.407Z"
   },
   {
    "duration": 151,
    "start_time": "2024-03-15T10:08:38.180Z"
   },
   {
    "duration": 21,
    "start_time": "2024-03-15T10:09:00.990Z"
   },
   {
    "duration": 10,
    "start_time": "2024-03-15T10:09:05.539Z"
   },
   {
    "duration": 20,
    "start_time": "2024-03-15T10:09:07.926Z"
   },
   {
    "duration": 13,
    "start_time": "2024-03-15T10:09:12.045Z"
   },
   {
    "duration": 7,
    "start_time": "2024-03-15T10:10:09.781Z"
   },
   {
    "duration": 6,
    "start_time": "2024-03-15T10:11:31.635Z"
   },
   {
    "duration": 8,
    "start_time": "2024-03-15T10:20:27.013Z"
   },
   {
    "duration": 7,
    "start_time": "2024-03-15T10:20:47.275Z"
   },
   {
    "duration": 8,
    "start_time": "2024-03-15T10:21:48.750Z"
   },
   {
    "duration": 16,
    "start_time": "2024-03-15T10:22:08.542Z"
   },
   {
    "duration": 177,
    "start_time": "2024-03-15T10:22:14.694Z"
   },
   {
    "duration": 186,
    "start_time": "2024-03-15T10:22:25.093Z"
   },
   {
    "duration": 7,
    "start_time": "2024-03-15T10:22:31.926Z"
   },
   {
    "duration": 8,
    "start_time": "2024-03-15T10:22:36.366Z"
   },
   {
    "duration": 9,
    "start_time": "2024-03-15T10:22:42.263Z"
   },
   {
    "duration": 8,
    "start_time": "2024-03-15T10:22:55.965Z"
   },
   {
    "duration": 8,
    "start_time": "2024-03-15T10:23:58.750Z"
   },
   {
    "duration": 267,
    "start_time": "2024-03-15T10:24:04.350Z"
   },
   {
    "duration": 6,
    "start_time": "2024-03-15T10:24:35.558Z"
   },
   {
    "duration": 7,
    "start_time": "2024-03-15T10:24:53.733Z"
   },
   {
    "duration": 10,
    "start_time": "2024-03-15T10:25:03.061Z"
   },
   {
    "duration": 7,
    "start_time": "2024-03-15T10:25:07.166Z"
   },
   {
    "duration": 12,
    "start_time": "2024-03-15T10:27:15.117Z"
   },
   {
    "duration": 7,
    "start_time": "2024-03-15T10:27:27.173Z"
   },
   {
    "duration": 8,
    "start_time": "2024-03-15T10:30:26.019Z"
   },
   {
    "duration": 4,
    "start_time": "2024-03-15T10:30:55.475Z"
   },
   {
    "duration": 7,
    "start_time": "2024-03-15T10:31:01.746Z"
   },
   {
    "duration": 179,
    "start_time": "2024-03-15T10:31:25.714Z"
   },
   {
    "duration": 164,
    "start_time": "2024-03-15T10:31:33.931Z"
   },
   {
    "duration": 6,
    "start_time": "2024-03-15T10:34:13.442Z"
   },
   {
    "duration": 7,
    "start_time": "2024-03-15T10:34:24.305Z"
   },
   {
    "duration": 6,
    "start_time": "2024-03-15T10:34:34.697Z"
   },
   {
    "duration": 5,
    "start_time": "2024-03-15T10:35:33.985Z"
   },
   {
    "duration": 6,
    "start_time": "2024-03-15T10:35:43.945Z"
   },
   {
    "duration": 6,
    "start_time": "2024-03-15T10:35:52.577Z"
   },
   {
    "duration": 6,
    "start_time": "2024-03-15T10:35:57.097Z"
   },
   {
    "duration": 7,
    "start_time": "2024-03-15T10:36:02.433Z"
   },
   {
    "duration": 6,
    "start_time": "2024-03-15T10:38:46.135Z"
   },
   {
    "duration": 6,
    "start_time": "2024-03-15T10:38:53.744Z"
   },
   {
    "duration": 6,
    "start_time": "2024-03-15T10:39:16.534Z"
   },
   {
    "duration": 6,
    "start_time": "2024-03-15T10:40:49.813Z"
   },
   {
    "duration": 174,
    "start_time": "2024-03-15T10:41:06.782Z"
   },
   {
    "duration": 7,
    "start_time": "2024-03-15T10:42:01.074Z"
   },
   {
    "duration": 174,
    "start_time": "2024-03-15T10:42:03.764Z"
   },
   {
    "duration": 6,
    "start_time": "2024-03-15T10:42:21.699Z"
   },
   {
    "duration": 99,
    "start_time": "2024-03-15T10:42:27.245Z"
   },
   {
    "duration": 175,
    "start_time": "2024-03-15T10:42:30.052Z"
   },
   {
    "duration": 164,
    "start_time": "2024-03-15T10:42:39.604Z"
   },
   {
    "duration": 11,
    "start_time": "2024-03-15T10:43:28.203Z"
   },
   {
    "duration": 9,
    "start_time": "2024-03-15T10:43:59.075Z"
   },
   {
    "duration": 168,
    "start_time": "2024-03-15T10:44:01.330Z"
   },
   {
    "duration": 8,
    "start_time": "2024-03-15T10:44:15.563Z"
   },
   {
    "duration": 5,
    "start_time": "2024-03-15T10:52:29.957Z"
   },
   {
    "duration": 6,
    "start_time": "2024-03-15T10:53:17.133Z"
   },
   {
    "duration": 5,
    "start_time": "2024-03-15T10:55:39.668Z"
   },
   {
    "duration": 4,
    "start_time": "2024-03-15T10:55:43.619Z"
   },
   {
    "duration": 6,
    "start_time": "2024-03-15T11:06:27.605Z"
   },
   {
    "duration": 6,
    "start_time": "2024-03-15T11:06:33.877Z"
   },
   {
    "duration": 13,
    "start_time": "2024-03-15T11:46:31.290Z"
   },
   {
    "duration": 1659,
    "start_time": "2024-03-15T11:47:03.945Z"
   },
   {
    "duration": 1566,
    "start_time": "2024-03-15T11:47:33.129Z"
   },
   {
    "duration": 1732,
    "start_time": "2024-03-15T11:47:46.154Z"
   },
   {
    "duration": 480,
    "start_time": "2024-03-15T11:48:07.041Z"
   },
   {
    "duration": 1703,
    "start_time": "2024-03-15T11:52:56.597Z"
   },
   {
    "duration": 1608,
    "start_time": "2024-03-15T11:53:36.903Z"
   },
   {
    "duration": 1742,
    "start_time": "2024-03-15T11:53:52.739Z"
   },
   {
    "duration": 72,
    "start_time": "2024-03-15T11:54:09.420Z"
   },
   {
    "duration": 1754,
    "start_time": "2024-03-15T11:54:13.187Z"
   },
   {
    "duration": 1499,
    "start_time": "2024-03-15T11:54:31.203Z"
   },
   {
    "duration": 1800,
    "start_time": "2024-03-15T11:54:34.883Z"
   },
   {
    "duration": 1714,
    "start_time": "2024-03-15T11:54:45.604Z"
   },
   {
    "duration": 1823,
    "start_time": "2024-03-15T11:55:03.300Z"
   },
   {
    "duration": 1745,
    "start_time": "2024-03-15T12:02:13.894Z"
   },
   {
    "duration": 446,
    "start_time": "2024-03-15T12:05:48.003Z"
   },
   {
    "duration": 1507,
    "start_time": "2024-03-15T12:06:41.521Z"
   },
   {
    "duration": 1686,
    "start_time": "2024-03-15T12:06:50.033Z"
   },
   {
    "duration": 6,
    "start_time": "2024-03-15T12:12:02.228Z"
   },
   {
    "duration": 5,
    "start_time": "2024-03-15T12:12:07.092Z"
   },
   {
    "duration": 5,
    "start_time": "2024-03-15T12:12:11.947Z"
   },
   {
    "duration": 5,
    "start_time": "2024-03-15T12:12:38.939Z"
   },
   {
    "duration": 4,
    "start_time": "2024-03-15T12:13:15.060Z"
   },
   {
    "duration": 4,
    "start_time": "2024-03-15T12:13:22.460Z"
   },
   {
    "duration": 1675,
    "start_time": "2024-03-15T12:17:33.456Z"
   },
   {
    "duration": 1610,
    "start_time": "2024-03-15T12:21:42.764Z"
   },
   {
    "duration": 1983,
    "start_time": "2024-03-15T12:22:46.284Z"
   },
   {
    "duration": 1932,
    "start_time": "2024-03-15T12:22:58.565Z"
   },
   {
    "duration": 1694,
    "start_time": "2024-03-15T12:23:19.619Z"
   },
   {
    "duration": 1681,
    "start_time": "2024-03-15T12:29:35.261Z"
   },
   {
    "duration": 1636,
    "start_time": "2024-03-15T12:29:51.725Z"
   },
   {
    "duration": 1686,
    "start_time": "2024-03-15T12:30:09.533Z"
   },
   {
    "duration": 1700,
    "start_time": "2024-03-15T12:30:30.805Z"
   },
   {
    "duration": 1758,
    "start_time": "2024-03-15T12:41:06.748Z"
   },
   {
    "duration": 1713,
    "start_time": "2024-03-15T12:41:18.506Z"
   },
   {
    "duration": 1699,
    "start_time": "2024-03-15T12:41:24.315Z"
   },
   {
    "duration": 75,
    "start_time": "2024-03-15T12:41:37.539Z"
   },
   {
    "duration": 1705,
    "start_time": "2024-03-15T12:41:41.394Z"
   },
   {
    "duration": 1751,
    "start_time": "2024-03-15T12:44:14.833Z"
   },
   {
    "duration": 1700,
    "start_time": "2024-03-15T12:44:57.112Z"
   },
   {
    "duration": 1778,
    "start_time": "2024-03-15T12:45:07.807Z"
   },
   {
    "duration": 1514,
    "start_time": "2024-03-15T12:45:12.871Z"
   },
   {
    "duration": 2579,
    "start_time": "2024-03-15T12:47:05.221Z"
   },
   {
    "duration": 2174,
    "start_time": "2024-03-15T12:47:25.460Z"
   },
   {
    "duration": 2080,
    "start_time": "2024-03-15T12:47:50.933Z"
   },
   {
    "duration": 1031,
    "start_time": "2024-03-15T12:48:54.914Z"
   },
   {
    "duration": 75,
    "start_time": "2024-03-15T12:48:55.947Z"
   },
   {
    "duration": 14,
    "start_time": "2024-03-15T12:48:56.024Z"
   },
   {
    "duration": 54,
    "start_time": "2024-03-15T12:48:56.039Z"
   },
   {
    "duration": 11,
    "start_time": "2024-03-15T12:48:56.097Z"
   },
   {
    "duration": 30,
    "start_time": "2024-03-15T12:48:56.110Z"
   },
   {
    "duration": 8,
    "start_time": "2024-03-15T12:48:56.142Z"
   },
   {
    "duration": 36,
    "start_time": "2024-03-15T12:48:56.152Z"
   },
   {
    "duration": 16,
    "start_time": "2024-03-15T12:48:56.190Z"
   },
   {
    "duration": 26,
    "start_time": "2024-03-15T12:48:56.208Z"
   },
   {
    "duration": 27,
    "start_time": "2024-03-15T12:48:56.237Z"
   },
   {
    "duration": 27,
    "start_time": "2024-03-15T12:48:56.266Z"
   },
   {
    "duration": 454,
    "start_time": "2024-03-15T12:48:56.295Z"
   },
   {
    "duration": 19,
    "start_time": "2024-03-15T12:48:56.752Z"
   },
   {
    "duration": 11,
    "start_time": "2024-03-15T12:48:56.772Z"
   },
   {
    "duration": 28,
    "start_time": "2024-03-15T12:48:56.784Z"
   },
   {
    "duration": 10,
    "start_time": "2024-03-15T12:48:56.813Z"
   },
   {
    "duration": 40,
    "start_time": "2024-03-15T12:48:56.825Z"
   },
   {
    "duration": 19,
    "start_time": "2024-03-15T12:48:56.867Z"
   },
   {
    "duration": 7,
    "start_time": "2024-03-15T12:48:56.888Z"
   },
   {
    "duration": 346,
    "start_time": "2024-03-15T12:48:56.896Z"
   },
   {
    "duration": 38,
    "start_time": "2024-03-15T12:48:57.244Z"
   },
   {
    "duration": 9,
    "start_time": "2024-03-15T12:48:57.284Z"
   },
   {
    "duration": 12,
    "start_time": "2024-03-15T12:48:57.295Z"
   },
   {
    "duration": 336,
    "start_time": "2024-03-15T12:48:57.309Z"
   },
   {
    "duration": 343,
    "start_time": "2024-03-15T12:48:57.647Z"
   },
   {
    "duration": 24,
    "start_time": "2024-03-15T12:48:57.991Z"
   },
   {
    "duration": 12,
    "start_time": "2024-03-15T12:48:58.017Z"
   },
   {
    "duration": 29,
    "start_time": "2024-03-15T12:48:58.031Z"
   },
   {
    "duration": 13,
    "start_time": "2024-03-15T12:48:58.061Z"
   },
   {
    "duration": 157,
    "start_time": "2024-03-15T12:48:58.076Z"
   },
   {
    "duration": 174,
    "start_time": "2024-03-15T12:48:58.235Z"
   },
   {
    "duration": 6,
    "start_time": "2024-03-15T12:48:58.411Z"
   },
   {
    "duration": 6,
    "start_time": "2024-03-15T12:48:58.419Z"
   },
   {
    "duration": 7,
    "start_time": "2024-03-15T12:48:58.427Z"
   },
   {
    "duration": 1687,
    "start_time": "2024-03-15T12:48:58.459Z"
   },
   {
    "duration": 572,
    "start_time": "2024-03-15T12:49:00.148Z"
   },
   {
    "duration": 0,
    "start_time": "2024-03-15T12:49:00.722Z"
   },
   {
    "duration": 344,
    "start_time": "2024-03-15T12:49:21.420Z"
   },
   {
    "duration": 1595,
    "start_time": "2024-03-15T12:49:57.651Z"
   },
   {
    "duration": 1998,
    "start_time": "2024-03-15T12:50:31.843Z"
   },
   {
    "duration": 3533,
    "start_time": "2024-03-15T12:50:42.507Z"
   },
   {
    "duration": 3624,
    "start_time": "2024-03-15T12:51:00.043Z"
   },
   {
    "duration": 3560,
    "start_time": "2024-03-15T12:51:13.627Z"
   },
   {
    "duration": 3589,
    "start_time": "2024-03-15T12:53:49.112Z"
   },
   {
    "duration": 3483,
    "start_time": "2024-03-15T12:55:57.783Z"
   },
   {
    "duration": 8,
    "start_time": "2024-03-15T13:10:00.265Z"
   },
   {
    "duration": 6,
    "start_time": "2024-03-15T13:10:50.665Z"
   },
   {
    "duration": 5,
    "start_time": "2024-03-15T13:11:11.528Z"
   },
   {
    "duration": 11,
    "start_time": "2024-03-15T13:11:23.008Z"
   },
   {
    "duration": 7,
    "start_time": "2024-03-15T13:11:50.896Z"
   },
   {
    "duration": 7,
    "start_time": "2024-03-15T13:12:37.928Z"
   },
   {
    "duration": 6,
    "start_time": "2024-03-15T13:16:25.797Z"
   },
   {
    "duration": 59,
    "start_time": "2024-03-15T13:19:56.568Z"
   },
   {
    "duration": 74,
    "start_time": "2024-03-15T13:20:03.215Z"
   },
   {
    "duration": 5,
    "start_time": "2024-03-15T13:20:17.927Z"
   },
   {
    "duration": 6,
    "start_time": "2024-03-15T13:20:38.431Z"
   },
   {
    "duration": 6,
    "start_time": "2024-03-15T13:20:48.831Z"
   },
   {
    "duration": 51,
    "start_time": "2024-03-15T13:21:28.287Z"
   },
   {
    "duration": 57,
    "start_time": "2024-03-15T13:21:46.975Z"
   },
   {
    "duration": 58,
    "start_time": "2024-03-15T13:21:54.358Z"
   },
   {
    "duration": 57,
    "start_time": "2024-03-15T13:22:49.510Z"
   },
   {
    "duration": 66,
    "start_time": "2024-03-15T13:23:18.213Z"
   },
   {
    "duration": 58,
    "start_time": "2024-03-15T13:23:25.940Z"
   },
   {
    "duration": 58,
    "start_time": "2024-03-15T13:23:33.261Z"
   },
   {
    "duration": 54,
    "start_time": "2024-03-15T13:23:59.509Z"
   },
   {
    "duration": 58,
    "start_time": "2024-03-15T13:24:06.437Z"
   },
   {
    "duration": 58,
    "start_time": "2024-03-15T13:24:17.220Z"
   },
   {
    "duration": 73,
    "start_time": "2024-03-15T13:24:41.003Z"
   },
   {
    "duration": 25,
    "start_time": "2024-03-15T13:25:04.347Z"
   },
   {
    "duration": 8,
    "start_time": "2024-03-15T13:32:16.774Z"
   },
   {
    "duration": 113,
    "start_time": "2024-03-15T13:32:27.220Z"
   },
   {
    "duration": 73,
    "start_time": "2024-03-15T13:32:44.717Z"
   },
   {
    "duration": 59,
    "start_time": "2024-03-15T13:32:51.884Z"
   },
   {
    "duration": 122,
    "start_time": "2024-03-15T13:32:56.229Z"
   },
   {
    "duration": 11,
    "start_time": "2024-03-15T13:33:03.773Z"
   },
   {
    "duration": 145,
    "start_time": "2024-03-15T13:33:08.277Z"
   },
   {
    "duration": 204,
    "start_time": "2024-03-15T13:34:04.932Z"
   },
   {
    "duration": 132,
    "start_time": "2024-03-15T13:34:27.884Z"
   },
   {
    "duration": 234,
    "start_time": "2024-03-15T13:34:31.037Z"
   },
   {
    "duration": 235,
    "start_time": "2024-03-15T13:34:36.234Z"
   },
   {
    "duration": 158,
    "start_time": "2024-03-15T13:35:13.355Z"
   },
   {
    "duration": 220,
    "start_time": "2024-03-15T13:35:39.194Z"
   },
   {
    "duration": 5,
    "start_time": "2024-03-15T13:36:46.449Z"
   },
   {
    "duration": 10,
    "start_time": "2024-03-15T13:36:52.009Z"
   },
   {
    "duration": 5,
    "start_time": "2024-03-15T13:36:57.218Z"
   },
   {
    "duration": 13,
    "start_time": "2024-03-15T13:37:09.441Z"
   },
   {
    "duration": 4,
    "start_time": "2024-03-15T13:38:26.048Z"
   },
   {
    "duration": 143,
    "start_time": "2024-03-15T13:39:23.711Z"
   },
   {
    "duration": 7,
    "start_time": "2024-03-15T13:39:36.255Z"
   },
   {
    "duration": 220,
    "start_time": "2024-03-15T13:39:48.727Z"
   },
   {
    "duration": 6,
    "start_time": "2024-03-15T13:39:52.550Z"
   },
   {
    "duration": 6,
    "start_time": "2024-03-15T13:39:56.982Z"
   },
   {
    "duration": 217,
    "start_time": "2024-03-15T13:40:50.199Z"
   },
   {
    "duration": 6,
    "start_time": "2024-03-15T13:42:07.917Z"
   },
   {
    "duration": 5,
    "start_time": "2024-03-15T13:43:45.540Z"
   },
   {
    "duration": 5,
    "start_time": "2024-03-15T13:43:54.604Z"
   },
   {
    "duration": 312,
    "start_time": "2024-03-15T13:44:39.122Z"
   },
   {
    "duration": 5,
    "start_time": "2024-03-15T13:44:46.050Z"
   },
   {
    "duration": 7,
    "start_time": "2024-03-15T13:44:53.564Z"
   },
   {
    "duration": 207,
    "start_time": "2024-03-15T13:45:10.580Z"
   },
   {
    "duration": 5,
    "start_time": "2024-03-15T13:45:13.619Z"
   },
   {
    "duration": 1946,
    "start_time": "2024-03-15T13:47:59.450Z"
   },
   {
    "duration": 13,
    "start_time": "2024-03-15T13:48:34.201Z"
   },
   {
    "duration": 1992,
    "start_time": "2024-03-15T13:49:08.562Z"
   },
   {
    "duration": 226,
    "start_time": "2024-03-15T13:49:26.433Z"
   },
   {
    "duration": 74,
    "start_time": "2024-03-15T13:54:36.382Z"
   },
   {
    "duration": 214,
    "start_time": "2024-03-15T13:54:50.181Z"
   },
   {
    "duration": 5,
    "start_time": "2024-03-15T13:56:12.013Z"
   },
   {
    "duration": 145,
    "start_time": "2024-03-15T13:56:15.549Z"
   },
   {
    "duration": 137,
    "start_time": "2024-03-15T13:56:24.907Z"
   },
   {
    "duration": 155,
    "start_time": "2024-03-15T13:56:30.740Z"
   },
   {
    "duration": 5,
    "start_time": "2024-03-15T13:56:38.444Z"
   },
   {
    "duration": 6,
    "start_time": "2024-03-15T13:56:41.722Z"
   },
   {
    "duration": 218,
    "start_time": "2024-03-15T13:56:58.324Z"
   },
   {
    "duration": 7,
    "start_time": "2024-03-15T14:02:32.865Z"
   },
   {
    "duration": 4,
    "start_time": "2024-03-15T14:02:46.304Z"
   },
   {
    "duration": 326,
    "start_time": "2024-03-15T14:09:00.292Z"
   },
   {
    "duration": 448,
    "start_time": "2024-03-15T14:09:06.418Z"
   },
   {
    "duration": 4,
    "start_time": "2024-03-15T14:09:41.225Z"
   },
   {
    "duration": 367,
    "start_time": "2024-03-15T14:11:21.657Z"
   },
   {
    "duration": 9,
    "start_time": "2024-03-15T14:18:22.916Z"
   },
   {
    "duration": 106,
    "start_time": "2024-03-15T14:18:49.564Z"
   },
   {
    "duration": 78,
    "start_time": "2024-03-15T14:20:36.818Z"
   },
   {
    "duration": 118,
    "start_time": "2024-03-15T14:21:00.177Z"
   },
   {
    "duration": 154,
    "start_time": "2024-03-15T14:21:09.032Z"
   },
   {
    "duration": 15,
    "start_time": "2024-03-15T14:23:31.424Z"
   },
   {
    "duration": 13,
    "start_time": "2024-03-15T14:23:34.887Z"
   },
   {
    "duration": 82,
    "start_time": "2024-03-15T14:23:37.478Z"
   },
   {
    "duration": 106,
    "start_time": "2024-03-15T14:23:52.175Z"
   },
   {
    "duration": 109,
    "start_time": "2024-03-15T14:24:01.951Z"
   },
   {
    "duration": 117,
    "start_time": "2024-03-15T14:24:15.087Z"
   },
   {
    "duration": 128,
    "start_time": "2024-03-15T14:24:20.047Z"
   },
   {
    "duration": 212,
    "start_time": "2024-03-15T14:24:25.238Z"
   },
   {
    "duration": 106,
    "start_time": "2024-03-15T14:24:50.095Z"
   },
   {
    "duration": 113,
    "start_time": "2024-03-15T14:25:00.030Z"
   },
   {
    "duration": 66,
    "start_time": "2024-03-15T14:25:43.397Z"
   },
   {
    "duration": 110,
    "start_time": "2024-03-15T14:26:06.261Z"
   },
   {
    "duration": 115,
    "start_time": "2024-03-15T14:26:13.845Z"
   },
   {
    "duration": 74,
    "start_time": "2024-03-15T14:27:13.539Z"
   },
   {
    "duration": 395,
    "start_time": "2024-03-15T14:27:18.061Z"
   },
   {
    "duration": 16,
    "start_time": "2024-03-15T14:27:33.379Z"
   },
   {
    "duration": 88,
    "start_time": "2024-03-15T14:27:42.795Z"
   },
   {
    "duration": 321,
    "start_time": "2024-03-15T14:29:43.186Z"
   },
   {
    "duration": 294,
    "start_time": "2024-03-15T14:30:04.771Z"
   },
   {
    "duration": 487,
    "start_time": "2024-03-15T14:30:10.144Z"
   },
   {
    "duration": 341,
    "start_time": "2024-03-15T14:30:15.178Z"
   },
   {
    "duration": 315,
    "start_time": "2024-03-15T14:30:19.185Z"
   },
   {
    "duration": 345,
    "start_time": "2024-03-15T14:30:32.681Z"
   },
   {
    "duration": 339,
    "start_time": "2024-03-15T14:30:42.753Z"
   },
   {
    "duration": 14,
    "start_time": "2024-03-15T14:31:21.816Z"
   },
   {
    "duration": 368,
    "start_time": "2024-03-15T14:31:26.240Z"
   },
   {
    "duration": 489,
    "start_time": "2024-03-15T14:31:30.720Z"
   },
   {
    "duration": 372,
    "start_time": "2024-03-15T14:34:10.527Z"
   },
   {
    "duration": 352,
    "start_time": "2024-03-15T14:35:05.933Z"
   },
   {
    "duration": 328,
    "start_time": "2024-03-15T14:38:21.419Z"
   },
   {
    "duration": 387,
    "start_time": "2024-03-15T14:38:32.954Z"
   },
   {
    "duration": 461,
    "start_time": "2024-03-15T14:38:41.706Z"
   },
   {
    "duration": 305,
    "start_time": "2024-03-15T14:45:09.893Z"
   },
   {
    "duration": 341,
    "start_time": "2024-03-15T14:45:14.669Z"
   },
   {
    "duration": 1049,
    "start_time": "2024-03-15T15:07:05.894Z"
   },
   {
    "duration": 75,
    "start_time": "2024-03-15T15:07:06.945Z"
   },
   {
    "duration": 27,
    "start_time": "2024-03-15T15:07:07.021Z"
   },
   {
    "duration": 55,
    "start_time": "2024-03-15T15:07:07.050Z"
   },
   {
    "duration": 19,
    "start_time": "2024-03-15T15:07:07.106Z"
   },
   {
    "duration": 39,
    "start_time": "2024-03-15T15:07:07.127Z"
   },
   {
    "duration": 6,
    "start_time": "2024-03-15T15:07:07.168Z"
   },
   {
    "duration": 32,
    "start_time": "2024-03-15T15:07:07.176Z"
   },
   {
    "duration": 23,
    "start_time": "2024-03-15T15:07:07.210Z"
   },
   {
    "duration": 27,
    "start_time": "2024-03-15T15:07:07.235Z"
   },
   {
    "duration": 25,
    "start_time": "2024-03-15T15:07:07.264Z"
   },
   {
    "duration": 29,
    "start_time": "2024-03-15T15:07:07.290Z"
   },
   {
    "duration": 374,
    "start_time": "2024-03-15T15:07:07.320Z"
   },
   {
    "duration": 125,
    "start_time": "2024-03-15T15:07:07.696Z"
   },
   {
    "duration": 85,
    "start_time": "2024-03-15T15:07:07.823Z"
   },
   {
    "duration": 13,
    "start_time": "2024-03-15T15:07:07.910Z"
   },
   {
    "duration": 4,
    "start_time": "2024-03-15T15:07:07.925Z"
   },
   {
    "duration": 122,
    "start_time": "2024-03-15T15:07:07.931Z"
   },
   {
    "duration": 365,
    "start_time": "2024-03-15T15:07:08.055Z"
   },
   {
    "duration": 26,
    "start_time": "2024-03-15T15:07:08.422Z"
   },
   {
    "duration": 11,
    "start_time": "2024-03-15T15:07:08.459Z"
   },
   {
    "duration": 14,
    "start_time": "2024-03-15T15:07:08.471Z"
   },
   {
    "duration": 365,
    "start_time": "2024-03-15T15:07:08.487Z"
   },
   {
    "duration": 13,
    "start_time": "2024-03-15T15:07:08.858Z"
   },
   {
    "duration": 454,
    "start_time": "2024-03-15T15:07:08.872Z"
   },
   {
    "duration": 32,
    "start_time": "2024-03-15T15:07:09.328Z"
   },
   {
    "duration": 8,
    "start_time": "2024-03-15T15:07:09.361Z"
   },
   {
    "duration": 36,
    "start_time": "2024-03-15T15:07:09.372Z"
   },
   {
    "duration": 39,
    "start_time": "2024-03-15T15:07:09.409Z"
   },
   {
    "duration": 38,
    "start_time": "2024-03-15T15:07:09.450Z"
   },
   {
    "duration": 41,
    "start_time": "2024-03-15T15:07:09.490Z"
   },
   {
    "duration": 27,
    "start_time": "2024-03-15T15:07:09.533Z"
   },
   {
    "duration": 3419,
    "start_time": "2024-03-15T15:07:09.561Z"
   },
   {
    "duration": 139,
    "start_time": "2024-03-15T15:07:12.981Z"
   },
   {
    "duration": 4,
    "start_time": "2024-03-15T15:07:13.122Z"
   },
   {
    "duration": 1113,
    "start_time": "2024-03-15T15:07:53.634Z"
   },
   {
    "duration": 90,
    "start_time": "2024-03-15T15:07:54.749Z"
   },
   {
    "duration": 12,
    "start_time": "2024-03-15T15:07:54.840Z"
   },
   {
    "duration": 47,
    "start_time": "2024-03-15T15:07:54.853Z"
   },
   {
    "duration": 11,
    "start_time": "2024-03-15T15:07:54.902Z"
   },
   {
    "duration": 36,
    "start_time": "2024-03-15T15:07:54.914Z"
   },
   {
    "duration": 5,
    "start_time": "2024-03-15T15:07:54.952Z"
   },
   {
    "duration": 26,
    "start_time": "2024-03-15T15:07:54.959Z"
   },
   {
    "duration": 13,
    "start_time": "2024-03-15T15:07:54.988Z"
   },
   {
    "duration": 7,
    "start_time": "2024-03-15T15:07:55.003Z"
   },
   {
    "duration": 20,
    "start_time": "2024-03-15T15:07:55.012Z"
   },
   {
    "duration": 43,
    "start_time": "2024-03-15T15:07:55.034Z"
   },
   {
    "duration": 430,
    "start_time": "2024-03-15T15:07:55.079Z"
   },
   {
    "duration": 119,
    "start_time": "2024-03-15T15:07:55.513Z"
   },
   {
    "duration": 80,
    "start_time": "2024-03-15T15:07:55.635Z"
   },
   {
    "duration": 13,
    "start_time": "2024-03-15T15:07:55.717Z"
   },
   {
    "duration": 5,
    "start_time": "2024-03-15T15:07:55.732Z"
   },
   {
    "duration": 85,
    "start_time": "2024-03-15T15:07:55.759Z"
   },
   {
    "duration": 373,
    "start_time": "2024-03-15T15:07:55.846Z"
   },
   {
    "duration": 25,
    "start_time": "2024-03-15T15:07:56.220Z"
   },
   {
    "duration": 17,
    "start_time": "2024-03-15T15:07:56.247Z"
   },
   {
    "duration": 17,
    "start_time": "2024-03-15T15:07:56.266Z"
   },
   {
    "duration": 361,
    "start_time": "2024-03-15T15:07:56.284Z"
   },
   {
    "duration": 20,
    "start_time": "2024-03-15T15:07:56.647Z"
   },
   {
    "duration": 466,
    "start_time": "2024-03-15T15:07:56.669Z"
   },
   {
    "duration": 37,
    "start_time": "2024-03-15T15:07:57.137Z"
   },
   {
    "duration": 8,
    "start_time": "2024-03-15T15:07:57.176Z"
   },
   {
    "duration": 10,
    "start_time": "2024-03-15T15:07:57.186Z"
   },
   {
    "duration": 11,
    "start_time": "2024-03-15T15:07:57.197Z"
   },
   {
    "duration": 7,
    "start_time": "2024-03-15T15:07:57.209Z"
   },
   {
    "duration": 32,
    "start_time": "2024-03-15T15:07:57.217Z"
   },
   {
    "duration": 11,
    "start_time": "2024-03-15T15:07:57.251Z"
   },
   {
    "duration": 3296,
    "start_time": "2024-03-15T15:07:57.264Z"
   },
   {
    "duration": 142,
    "start_time": "2024-03-15T15:08:00.562Z"
   },
   {
    "duration": 5,
    "start_time": "2024-03-15T15:08:00.706Z"
   },
   {
    "duration": 1040,
    "start_time": "2024-03-15T15:08:28.786Z"
   },
   {
    "duration": 90,
    "start_time": "2024-03-15T15:08:29.828Z"
   },
   {
    "duration": 11,
    "start_time": "2024-03-15T15:08:29.920Z"
   },
   {
    "duration": 37,
    "start_time": "2024-03-15T15:08:29.933Z"
   },
   {
    "duration": 13,
    "start_time": "2024-03-15T15:08:29.971Z"
   },
   {
    "duration": 28,
    "start_time": "2024-03-15T15:08:29.986Z"
   },
   {
    "duration": 6,
    "start_time": "2024-03-15T15:08:30.016Z"
   },
   {
    "duration": 27,
    "start_time": "2024-03-15T15:08:30.024Z"
   },
   {
    "duration": 21,
    "start_time": "2024-03-15T15:08:30.058Z"
   },
   {
    "duration": 53,
    "start_time": "2024-03-15T15:08:30.083Z"
   },
   {
    "duration": 33,
    "start_time": "2024-03-15T15:08:30.138Z"
   },
   {
    "duration": 64,
    "start_time": "2024-03-15T15:08:30.173Z"
   },
   {
    "duration": 412,
    "start_time": "2024-03-15T15:08:30.239Z"
   },
   {
    "duration": 127,
    "start_time": "2024-03-15T15:08:30.652Z"
   },
   {
    "duration": 82,
    "start_time": "2024-03-15T15:08:30.781Z"
   },
   {
    "duration": 13,
    "start_time": "2024-03-15T15:08:30.865Z"
   },
   {
    "duration": 38,
    "start_time": "2024-03-15T15:08:30.879Z"
   },
   {
    "duration": 112,
    "start_time": "2024-03-15T15:08:30.919Z"
   },
   {
    "duration": 395,
    "start_time": "2024-03-15T15:08:31.032Z"
   },
   {
    "duration": 36,
    "start_time": "2024-03-15T15:08:31.428Z"
   },
   {
    "duration": 11,
    "start_time": "2024-03-15T15:08:31.465Z"
   },
   {
    "duration": 58,
    "start_time": "2024-03-15T15:08:31.478Z"
   },
   {
    "duration": 404,
    "start_time": "2024-03-15T15:08:31.538Z"
   },
   {
    "duration": 21,
    "start_time": "2024-03-15T15:08:31.944Z"
   },
   {
    "duration": 519,
    "start_time": "2024-03-15T15:08:31.966Z"
   },
   {
    "duration": 25,
    "start_time": "2024-03-15T15:08:32.486Z"
   },
   {
    "duration": 17,
    "start_time": "2024-03-15T15:08:32.513Z"
   },
   {
    "duration": 56,
    "start_time": "2024-03-15T15:08:32.533Z"
   },
   {
    "duration": 64,
    "start_time": "2024-03-15T15:08:32.591Z"
   },
   {
    "duration": 33,
    "start_time": "2024-03-15T15:08:32.657Z"
   },
   {
    "duration": 47,
    "start_time": "2024-03-15T15:08:32.692Z"
   },
   {
    "duration": 25,
    "start_time": "2024-03-15T15:08:32.741Z"
   },
   {
    "duration": 463,
    "start_time": "2024-03-15T15:08:32.768Z"
   },
   {
    "duration": 0,
    "start_time": "2024-03-15T15:08:33.233Z"
   },
   {
    "duration": 0,
    "start_time": "2024-03-15T15:08:33.234Z"
   },
   {
    "duration": 1137,
    "start_time": "2024-03-15T15:08:56.130Z"
   },
   {
    "duration": 91,
    "start_time": "2024-03-15T15:08:57.269Z"
   },
   {
    "duration": 11,
    "start_time": "2024-03-15T15:08:57.361Z"
   },
   {
    "duration": 39,
    "start_time": "2024-03-15T15:08:57.373Z"
   },
   {
    "duration": 11,
    "start_time": "2024-03-15T15:08:57.414Z"
   },
   {
    "duration": 23,
    "start_time": "2024-03-15T15:08:57.427Z"
   },
   {
    "duration": 5,
    "start_time": "2024-03-15T15:08:57.451Z"
   },
   {
    "duration": 24,
    "start_time": "2024-03-15T15:08:57.457Z"
   },
   {
    "duration": 33,
    "start_time": "2024-03-15T15:08:57.483Z"
   },
   {
    "duration": 27,
    "start_time": "2024-03-15T15:08:57.518Z"
   },
   {
    "duration": 20,
    "start_time": "2024-03-15T15:08:57.547Z"
   },
   {
    "duration": 14,
    "start_time": "2024-03-15T15:08:57.569Z"
   },
   {
    "duration": 392,
    "start_time": "2024-03-15T15:08:57.585Z"
   },
   {
    "duration": 121,
    "start_time": "2024-03-15T15:08:57.980Z"
   },
   {
    "duration": 73,
    "start_time": "2024-03-15T15:08:58.103Z"
   },
   {
    "duration": 12,
    "start_time": "2024-03-15T15:08:58.178Z"
   },
   {
    "duration": 7,
    "start_time": "2024-03-15T15:08:58.191Z"
   },
   {
    "duration": 105,
    "start_time": "2024-03-15T15:08:58.199Z"
   },
   {
    "duration": 369,
    "start_time": "2024-03-15T15:08:58.306Z"
   },
   {
    "duration": 26,
    "start_time": "2024-03-15T15:08:58.677Z"
   },
   {
    "duration": 10,
    "start_time": "2024-03-15T15:08:58.704Z"
   },
   {
    "duration": 24,
    "start_time": "2024-03-15T15:08:58.716Z"
   },
   {
    "duration": 381,
    "start_time": "2024-03-15T15:08:58.742Z"
   },
   {
    "duration": 19,
    "start_time": "2024-03-15T15:08:59.125Z"
   },
   {
    "duration": 446,
    "start_time": "2024-03-15T15:08:59.145Z"
   },
   {
    "duration": 26,
    "start_time": "2024-03-15T15:08:59.593Z"
   },
   {
    "duration": 8,
    "start_time": "2024-03-15T15:08:59.621Z"
   },
   {
    "duration": 31,
    "start_time": "2024-03-15T15:08:59.630Z"
   },
   {
    "duration": 12,
    "start_time": "2024-03-15T15:08:59.663Z"
   },
   {
    "duration": 8,
    "start_time": "2024-03-15T15:08:59.677Z"
   },
   {
    "duration": 13,
    "start_time": "2024-03-15T15:08:59.687Z"
   },
   {
    "duration": 16,
    "start_time": "2024-03-15T15:08:59.701Z"
   },
   {
    "duration": 4247,
    "start_time": "2024-03-15T15:08:59.718Z"
   },
   {
    "duration": 141,
    "start_time": "2024-03-15T15:09:03.967Z"
   },
   {
    "duration": 5,
    "start_time": "2024-03-15T15:09:04.109Z"
   },
   {
    "duration": 3399,
    "start_time": "2024-03-15T15:10:44.881Z"
   },
   {
    "duration": 1095,
    "start_time": "2024-03-15T15:13:22.667Z"
   },
   {
    "duration": 71,
    "start_time": "2024-03-15T15:13:23.764Z"
   },
   {
    "duration": 26,
    "start_time": "2024-03-15T15:13:23.837Z"
   },
   {
    "duration": 35,
    "start_time": "2024-03-15T15:13:23.865Z"
   },
   {
    "duration": 12,
    "start_time": "2024-03-15T15:13:23.903Z"
   },
   {
    "duration": 41,
    "start_time": "2024-03-15T15:13:23.916Z"
   },
   {
    "duration": 6,
    "start_time": "2024-03-15T15:13:23.959Z"
   },
   {
    "duration": 20,
    "start_time": "2024-03-15T15:13:23.967Z"
   },
   {
    "duration": 12,
    "start_time": "2024-03-15T15:13:23.989Z"
   },
   {
    "duration": 22,
    "start_time": "2024-03-15T15:13:24.002Z"
   },
   {
    "duration": 27,
    "start_time": "2024-03-15T15:13:24.025Z"
   },
   {
    "duration": 18,
    "start_time": "2024-03-15T15:13:24.054Z"
   },
   {
    "duration": 368,
    "start_time": "2024-03-15T15:13:24.074Z"
   },
   {
    "duration": 118,
    "start_time": "2024-03-15T15:13:24.445Z"
   },
   {
    "duration": 70,
    "start_time": "2024-03-15T15:13:24.564Z"
   },
   {
    "duration": 30,
    "start_time": "2024-03-15T15:13:24.636Z"
   },
   {
    "duration": 3,
    "start_time": "2024-03-15T15:13:24.667Z"
   },
   {
    "duration": 104,
    "start_time": "2024-03-15T15:13:24.671Z"
   },
   {
    "duration": 387,
    "start_time": "2024-03-15T15:13:24.776Z"
   },
   {
    "duration": 27,
    "start_time": "2024-03-15T15:13:25.165Z"
   },
   {
    "duration": 10,
    "start_time": "2024-03-15T15:13:25.193Z"
   },
   {
    "duration": 21,
    "start_time": "2024-03-15T15:13:25.205Z"
   },
   {
    "duration": 377,
    "start_time": "2024-03-15T15:13:25.228Z"
   },
   {
    "duration": 13,
    "start_time": "2024-03-15T15:13:25.607Z"
   },
   {
    "duration": 443,
    "start_time": "2024-03-15T15:13:25.621Z"
   },
   {
    "duration": 24,
    "start_time": "2024-03-15T15:13:26.066Z"
   },
   {
    "duration": 7,
    "start_time": "2024-03-15T15:13:26.092Z"
   },
   {
    "duration": 17,
    "start_time": "2024-03-15T15:13:26.100Z"
   },
   {
    "duration": 11,
    "start_time": "2024-03-15T15:13:26.118Z"
   },
   {
    "duration": 30,
    "start_time": "2024-03-15T15:13:26.130Z"
   },
   {
    "duration": 32,
    "start_time": "2024-03-15T15:13:26.162Z"
   },
   {
    "duration": 15,
    "start_time": "2024-03-15T15:13:26.196Z"
   },
   {
    "duration": 3366,
    "start_time": "2024-03-15T15:13:26.213Z"
   },
   {
    "duration": 137,
    "start_time": "2024-03-15T15:13:29.581Z"
   },
   {
    "duration": 5,
    "start_time": "2024-03-15T15:13:29.719Z"
   },
   {
    "duration": 1076,
    "start_time": "2024-03-15T15:13:45.606Z"
   },
   {
    "duration": 91,
    "start_time": "2024-03-15T15:13:46.683Z"
   },
   {
    "duration": 12,
    "start_time": "2024-03-15T15:13:46.775Z"
   },
   {
    "duration": 62,
    "start_time": "2024-03-15T15:13:46.789Z"
   },
   {
    "duration": 12,
    "start_time": "2024-03-15T15:13:46.853Z"
   },
   {
    "duration": 28,
    "start_time": "2024-03-15T15:13:46.866Z"
   },
   {
    "duration": 7,
    "start_time": "2024-03-15T15:13:46.896Z"
   },
   {
    "duration": 25,
    "start_time": "2024-03-15T15:13:46.905Z"
   },
   {
    "duration": 20,
    "start_time": "2024-03-15T15:13:46.932Z"
   },
   {
    "duration": 21,
    "start_time": "2024-03-15T15:13:46.956Z"
   },
   {
    "duration": 16,
    "start_time": "2024-03-15T15:13:46.980Z"
   },
   {
    "duration": 27,
    "start_time": "2024-03-15T15:13:46.999Z"
   },
   {
    "duration": 392,
    "start_time": "2024-03-15T15:13:47.028Z"
   },
   {
    "duration": 115,
    "start_time": "2024-03-15T15:13:47.421Z"
   },
   {
    "duration": 79,
    "start_time": "2024-03-15T15:13:47.537Z"
   },
   {
    "duration": 12,
    "start_time": "2024-03-15T15:13:47.618Z"
   },
   {
    "duration": 14,
    "start_time": "2024-03-15T15:13:47.631Z"
   },
   {
    "duration": 93,
    "start_time": "2024-03-15T15:13:47.647Z"
   },
   {
    "duration": 384,
    "start_time": "2024-03-15T15:13:47.741Z"
   },
   {
    "duration": 35,
    "start_time": "2024-03-15T15:13:48.127Z"
   },
   {
    "duration": 10,
    "start_time": "2024-03-15T15:13:48.163Z"
   },
   {
    "duration": 28,
    "start_time": "2024-03-15T15:13:48.174Z"
   },
   {
    "duration": 372,
    "start_time": "2024-03-15T15:13:48.203Z"
   },
   {
    "duration": 13,
    "start_time": "2024-03-15T15:13:48.576Z"
   },
   {
    "duration": 443,
    "start_time": "2024-03-15T15:13:48.590Z"
   },
   {
    "duration": 33,
    "start_time": "2024-03-15T15:13:49.034Z"
   },
   {
    "duration": 8,
    "start_time": "2024-03-15T15:13:49.069Z"
   },
   {
    "duration": 11,
    "start_time": "2024-03-15T15:13:49.080Z"
   },
   {
    "duration": 11,
    "start_time": "2024-03-15T15:13:49.092Z"
   },
   {
    "duration": 9,
    "start_time": "2024-03-15T15:13:49.104Z"
   },
   {
    "duration": 12,
    "start_time": "2024-03-15T15:13:49.114Z"
   },
   {
    "duration": 33,
    "start_time": "2024-03-15T15:13:49.128Z"
   },
   {
    "duration": 3470,
    "start_time": "2024-03-15T15:13:49.162Z"
   },
   {
    "duration": 138,
    "start_time": "2024-03-15T15:13:52.634Z"
   },
   {
    "duration": 5,
    "start_time": "2024-03-15T15:13:52.773Z"
   },
   {
    "duration": 129,
    "start_time": "2024-03-15T15:14:05.087Z"
   },
   {
    "duration": 1094,
    "start_time": "2024-03-15T15:14:30.735Z"
   },
   {
    "duration": 68,
    "start_time": "2024-03-15T15:14:31.831Z"
   },
   {
    "duration": 58,
    "start_time": "2024-03-15T15:14:31.900Z"
   },
   {
    "duration": 51,
    "start_time": "2024-03-15T15:14:31.960Z"
   },
   {
    "duration": 12,
    "start_time": "2024-03-15T15:14:32.013Z"
   },
   {
    "duration": 54,
    "start_time": "2024-03-15T15:14:32.026Z"
   },
   {
    "duration": 18,
    "start_time": "2024-03-15T15:14:32.082Z"
   },
   {
    "duration": 30,
    "start_time": "2024-03-15T15:14:32.101Z"
   },
   {
    "duration": 25,
    "start_time": "2024-03-15T15:14:32.133Z"
   },
   {
    "duration": 43,
    "start_time": "2024-03-15T15:14:32.160Z"
   },
   {
    "duration": 44,
    "start_time": "2024-03-15T15:14:32.205Z"
   },
   {
    "duration": 33,
    "start_time": "2024-03-15T15:14:32.251Z"
   },
   {
    "duration": 377,
    "start_time": "2024-03-15T15:14:32.285Z"
   },
   {
    "duration": 122,
    "start_time": "2024-03-15T15:14:32.665Z"
   },
   {
    "duration": 79,
    "start_time": "2024-03-15T15:14:32.789Z"
   },
   {
    "duration": 12,
    "start_time": "2024-03-15T15:14:32.870Z"
   },
   {
    "duration": 8,
    "start_time": "2024-03-15T15:14:32.884Z"
   },
   {
    "duration": 109,
    "start_time": "2024-03-15T15:14:32.894Z"
   },
   {
    "duration": 385,
    "start_time": "2024-03-15T15:14:33.005Z"
   },
   {
    "duration": 29,
    "start_time": "2024-03-15T15:14:33.392Z"
   },
   {
    "duration": 11,
    "start_time": "2024-03-15T15:14:33.423Z"
   },
   {
    "duration": 33,
    "start_time": "2024-03-15T15:14:33.436Z"
   },
   {
    "duration": 368,
    "start_time": "2024-03-15T15:14:33.471Z"
   },
   {
    "duration": 22,
    "start_time": "2024-03-15T15:14:33.841Z"
   },
   {
    "duration": 425,
    "start_time": "2024-03-15T15:14:33.865Z"
   },
   {
    "duration": 26,
    "start_time": "2024-03-15T15:14:34.291Z"
   },
   {
    "duration": 9,
    "start_time": "2024-03-15T15:14:34.318Z"
   },
   {
    "duration": 33,
    "start_time": "2024-03-15T15:14:34.328Z"
   },
   {
    "duration": 10,
    "start_time": "2024-03-15T15:14:34.362Z"
   },
   {
    "duration": 7,
    "start_time": "2024-03-15T15:14:34.374Z"
   },
   {
    "duration": 9,
    "start_time": "2024-03-15T15:14:34.382Z"
   },
   {
    "duration": 6,
    "start_time": "2024-03-15T15:14:34.393Z"
   },
   {
    "duration": 3437,
    "start_time": "2024-03-15T15:14:34.400Z"
   },
   {
    "duration": 135,
    "start_time": "2024-03-15T15:14:37.840Z"
   },
   {
    "duration": 5,
    "start_time": "2024-03-15T15:14:37.976Z"
   },
   {
    "duration": 1044,
    "start_time": "2024-03-15T15:15:19.393Z"
   },
   {
    "duration": 94,
    "start_time": "2024-03-15T15:15:20.439Z"
   },
   {
    "duration": 11,
    "start_time": "2024-03-15T15:15:20.534Z"
   },
   {
    "duration": 48,
    "start_time": "2024-03-15T15:15:20.547Z"
   },
   {
    "duration": 11,
    "start_time": "2024-03-15T15:15:20.597Z"
   },
   {
    "duration": 20,
    "start_time": "2024-03-15T15:15:20.610Z"
   },
   {
    "duration": 5,
    "start_time": "2024-03-15T15:15:20.632Z"
   },
   {
    "duration": 21,
    "start_time": "2024-03-15T15:15:20.638Z"
   },
   {
    "duration": 23,
    "start_time": "2024-03-15T15:15:20.661Z"
   },
   {
    "duration": 10,
    "start_time": "2024-03-15T15:15:20.687Z"
   },
   {
    "duration": 25,
    "start_time": "2024-03-15T15:15:20.699Z"
   },
   {
    "duration": 29,
    "start_time": "2024-03-15T15:15:20.726Z"
   },
   {
    "duration": 398,
    "start_time": "2024-03-15T15:15:20.757Z"
   },
   {
    "duration": 135,
    "start_time": "2024-03-15T15:15:21.159Z"
   },
   {
    "duration": 81,
    "start_time": "2024-03-15T15:15:21.296Z"
   },
   {
    "duration": 13,
    "start_time": "2024-03-15T15:15:21.380Z"
   },
   {
    "duration": 4,
    "start_time": "2024-03-15T15:15:21.395Z"
   },
   {
    "duration": 115,
    "start_time": "2024-03-15T15:15:21.401Z"
   },
   {
    "duration": 376,
    "start_time": "2024-03-15T15:15:21.518Z"
   },
   {
    "duration": 27,
    "start_time": "2024-03-15T15:15:21.897Z"
   },
   {
    "duration": 32,
    "start_time": "2024-03-15T15:15:21.926Z"
   },
   {
    "duration": 15,
    "start_time": "2024-03-15T15:15:21.960Z"
   },
   {
    "duration": 410,
    "start_time": "2024-03-15T15:15:21.977Z"
   },
   {
    "duration": 13,
    "start_time": "2024-03-15T15:15:22.389Z"
   },
   {
    "duration": 444,
    "start_time": "2024-03-15T15:15:22.404Z"
   },
   {
    "duration": 29,
    "start_time": "2024-03-15T15:15:22.850Z"
   },
   {
    "duration": 9,
    "start_time": "2024-03-15T15:15:22.880Z"
   },
   {
    "duration": 56,
    "start_time": "2024-03-15T15:15:22.893Z"
   },
   {
    "duration": 68,
    "start_time": "2024-03-15T15:15:22.951Z"
   },
   {
    "duration": 12,
    "start_time": "2024-03-15T15:15:23.021Z"
   },
   {
    "duration": 43,
    "start_time": "2024-03-15T15:15:23.035Z"
   },
   {
    "duration": 6,
    "start_time": "2024-03-15T15:15:23.080Z"
   },
   {
    "duration": 3397,
    "start_time": "2024-03-15T15:15:23.088Z"
   },
   {
    "duration": 184,
    "start_time": "2024-03-15T15:15:26.487Z"
   },
   {
    "duration": 4,
    "start_time": "2024-03-15T15:15:26.673Z"
   },
   {
    "duration": 1003,
    "start_time": "2024-03-15T15:40:07.261Z"
   },
   {
    "duration": 91,
    "start_time": "2024-03-15T15:40:08.266Z"
   },
   {
    "duration": 11,
    "start_time": "2024-03-15T15:40:08.358Z"
   },
   {
    "duration": 39,
    "start_time": "2024-03-15T15:40:08.370Z"
   },
   {
    "duration": 11,
    "start_time": "2024-03-15T15:40:08.411Z"
   },
   {
    "duration": 19,
    "start_time": "2024-03-15T15:40:08.423Z"
   },
   {
    "duration": 5,
    "start_time": "2024-03-15T15:40:08.444Z"
   },
   {
    "duration": 11,
    "start_time": "2024-03-15T15:40:08.450Z"
   },
   {
    "duration": 12,
    "start_time": "2024-03-15T15:40:08.462Z"
   },
   {
    "duration": 6,
    "start_time": "2024-03-15T15:40:08.476Z"
   },
   {
    "duration": 33,
    "start_time": "2024-03-15T15:40:08.483Z"
   },
   {
    "duration": 13,
    "start_time": "2024-03-15T15:40:08.517Z"
   },
   {
    "duration": 370,
    "start_time": "2024-03-15T15:40:08.532Z"
   },
   {
    "duration": 115,
    "start_time": "2024-03-15T15:40:08.904Z"
   },
   {
    "duration": 67,
    "start_time": "2024-03-15T15:40:09.021Z"
   },
   {
    "duration": 27,
    "start_time": "2024-03-15T15:40:09.090Z"
   },
   {
    "duration": 2,
    "start_time": "2024-03-15T15:40:09.119Z"
   },
   {
    "duration": 110,
    "start_time": "2024-03-15T15:40:09.123Z"
   },
   {
    "duration": 344,
    "start_time": "2024-03-15T15:40:09.234Z"
   },
   {
    "duration": 37,
    "start_time": "2024-03-15T15:40:09.579Z"
   },
   {
    "duration": 9,
    "start_time": "2024-03-15T15:40:09.617Z"
   },
   {
    "duration": 41,
    "start_time": "2024-03-15T15:40:09.627Z"
   },
   {
    "duration": 334,
    "start_time": "2024-03-15T15:40:09.669Z"
   },
   {
    "duration": 20,
    "start_time": "2024-03-15T15:40:10.005Z"
   },
   {
    "duration": 427,
    "start_time": "2024-03-15T15:40:10.027Z"
   },
   {
    "duration": 24,
    "start_time": "2024-03-15T15:40:10.455Z"
   },
   {
    "duration": 7,
    "start_time": "2024-03-15T15:40:10.480Z"
   },
   {
    "duration": 39,
    "start_time": "2024-03-15T15:40:10.490Z"
   },
   {
    "duration": 12,
    "start_time": "2024-03-15T15:40:10.530Z"
   },
   {
    "duration": 5,
    "start_time": "2024-03-15T15:40:10.543Z"
   },
   {
    "duration": 10,
    "start_time": "2024-03-15T15:40:10.549Z"
   },
   {
    "duration": 7,
    "start_time": "2024-03-15T15:40:10.561Z"
   },
   {
    "duration": 3153,
    "start_time": "2024-03-15T15:40:10.570Z"
   },
   {
    "duration": 181,
    "start_time": "2024-03-15T15:40:13.724Z"
   },
   {
    "duration": 9,
    "start_time": "2024-03-15T15:40:13.906Z"
   },
   {
    "duration": 1056,
    "start_time": "2024-03-15T15:50:36.506Z"
   },
   {
    "duration": 87,
    "start_time": "2024-03-15T15:50:37.564Z"
   },
   {
    "duration": 11,
    "start_time": "2024-03-15T15:50:37.653Z"
   },
   {
    "duration": 67,
    "start_time": "2024-03-15T15:50:37.666Z"
   },
   {
    "duration": 11,
    "start_time": "2024-03-15T15:50:37.734Z"
   },
   {
    "duration": 20,
    "start_time": "2024-03-15T15:50:37.746Z"
   },
   {
    "duration": 5,
    "start_time": "2024-03-15T15:50:37.767Z"
   },
   {
    "duration": 13,
    "start_time": "2024-03-15T15:50:37.773Z"
   },
   {
    "duration": 10,
    "start_time": "2024-03-15T15:50:37.788Z"
   },
   {
    "duration": 17,
    "start_time": "2024-03-15T15:50:37.801Z"
   },
   {
    "duration": 9,
    "start_time": "2024-03-15T15:50:37.820Z"
   },
   {
    "duration": 14,
    "start_time": "2024-03-15T15:50:37.831Z"
   },
   {
    "duration": 373,
    "start_time": "2024-03-15T15:50:37.847Z"
   },
   {
    "duration": 117,
    "start_time": "2024-03-15T15:50:38.222Z"
   },
   {
    "duration": 81,
    "start_time": "2024-03-15T15:50:38.341Z"
   },
   {
    "duration": 11,
    "start_time": "2024-03-15T15:50:38.424Z"
   },
   {
    "duration": 3,
    "start_time": "2024-03-15T15:50:38.437Z"
   },
   {
    "duration": 104,
    "start_time": "2024-03-15T15:50:38.441Z"
   },
   {
    "duration": 357,
    "start_time": "2024-03-15T15:50:38.547Z"
   },
   {
    "duration": 33,
    "start_time": "2024-03-15T15:50:38.905Z"
   },
   {
    "duration": 9,
    "start_time": "2024-03-15T15:50:38.939Z"
   },
   {
    "duration": 12,
    "start_time": "2024-03-15T15:50:38.950Z"
   },
   {
    "duration": 351,
    "start_time": "2024-03-15T15:50:38.964Z"
   },
   {
    "duration": 12,
    "start_time": "2024-03-15T15:50:39.316Z"
   },
   {
    "duration": 417,
    "start_time": "2024-03-15T15:50:39.330Z"
   },
   {
    "duration": 24,
    "start_time": "2024-03-15T15:50:39.749Z"
   },
   {
    "duration": 6,
    "start_time": "2024-03-15T15:50:39.775Z"
   },
   {
    "duration": 9,
    "start_time": "2024-03-15T15:50:39.784Z"
   },
   {
    "duration": 9,
    "start_time": "2024-03-15T15:50:39.814Z"
   },
   {
    "duration": 20,
    "start_time": "2024-03-15T15:50:39.824Z"
   },
   {
    "duration": 8,
    "start_time": "2024-03-15T15:50:39.845Z"
   },
   {
    "duration": 6,
    "start_time": "2024-03-15T15:50:39.854Z"
   },
   {
    "duration": 3041,
    "start_time": "2024-03-15T15:50:39.861Z"
   },
   {
    "duration": 181,
    "start_time": "2024-03-15T15:50:42.903Z"
   },
   {
    "duration": 5,
    "start_time": "2024-03-15T15:50:43.086Z"
   },
   {
    "duration": 40,
    "start_time": "2024-03-15T16:04:30.617Z"
   },
   {
    "duration": 106,
    "start_time": "2024-03-15T16:09:07.531Z"
   },
   {
    "duration": 19,
    "start_time": "2024-03-15T16:09:19.331Z"
   },
   {
    "duration": 25,
    "start_time": "2024-03-15T16:09:45.348Z"
   },
   {
    "duration": 27,
    "start_time": "2024-03-15T16:10:16.323Z"
   },
   {
    "duration": 26,
    "start_time": "2024-03-15T16:10:25.020Z"
   },
   {
    "duration": 6,
    "start_time": "2024-03-15T16:11:40.836Z"
   },
   {
    "duration": 5,
    "start_time": "2024-03-15T16:14:09.293Z"
   },
   {
    "duration": 1054,
    "start_time": "2024-03-15T16:17:10.593Z"
   },
   {
    "duration": 75,
    "start_time": "2024-03-15T16:17:11.649Z"
   },
   {
    "duration": 10,
    "start_time": "2024-03-15T16:17:11.726Z"
   },
   {
    "duration": 36,
    "start_time": "2024-03-15T16:17:11.738Z"
   },
   {
    "duration": 10,
    "start_time": "2024-03-15T16:17:11.775Z"
   },
   {
    "duration": 20,
    "start_time": "2024-03-15T16:17:11.786Z"
   },
   {
    "duration": 10,
    "start_time": "2024-03-15T16:17:11.807Z"
   },
   {
    "duration": 17,
    "start_time": "2024-03-15T16:17:11.818Z"
   },
   {
    "duration": 11,
    "start_time": "2024-03-15T16:17:11.837Z"
   },
   {
    "duration": 7,
    "start_time": "2024-03-15T16:17:11.850Z"
   },
   {
    "duration": 14,
    "start_time": "2024-03-15T16:17:11.858Z"
   },
   {
    "duration": 14,
    "start_time": "2024-03-15T16:17:11.874Z"
   },
   {
    "duration": 375,
    "start_time": "2024-03-15T16:17:11.889Z"
   },
   {
    "duration": 114,
    "start_time": "2024-03-15T16:17:12.266Z"
   },
   {
    "duration": 77,
    "start_time": "2024-03-15T16:17:12.381Z"
   },
   {
    "duration": 11,
    "start_time": "2024-03-15T16:17:12.460Z"
   },
   {
    "duration": 3,
    "start_time": "2024-03-15T16:17:12.472Z"
   },
   {
    "duration": 102,
    "start_time": "2024-03-15T16:17:12.476Z"
   },
   {
    "duration": 361,
    "start_time": "2024-03-15T16:17:12.580Z"
   },
   {
    "duration": 25,
    "start_time": "2024-03-15T16:17:12.943Z"
   },
   {
    "duration": 9,
    "start_time": "2024-03-15T16:17:12.969Z"
   },
   {
    "duration": 11,
    "start_time": "2024-03-15T16:17:12.980Z"
   },
   {
    "duration": 342,
    "start_time": "2024-03-15T16:17:13.014Z"
   },
   {
    "duration": 12,
    "start_time": "2024-03-15T16:17:13.357Z"
   },
   {
    "duration": 430,
    "start_time": "2024-03-15T16:17:13.370Z"
   },
   {
    "duration": 31,
    "start_time": "2024-03-15T16:17:13.801Z"
   },
   {
    "duration": 7,
    "start_time": "2024-03-15T16:17:13.834Z"
   },
   {
    "duration": 12,
    "start_time": "2024-03-15T16:17:13.844Z"
   },
   {
    "duration": 13,
    "start_time": "2024-03-15T16:17:13.857Z"
   },
   {
    "duration": 14,
    "start_time": "2024-03-15T16:17:13.872Z"
   },
   {
    "duration": 6,
    "start_time": "2024-03-15T16:17:13.888Z"
   },
   {
    "duration": 5,
    "start_time": "2024-03-15T16:17:13.915Z"
   },
   {
    "duration": 3273,
    "start_time": "2024-03-15T16:17:13.922Z"
   },
   {
    "duration": 185,
    "start_time": "2024-03-15T16:17:17.197Z"
   },
   {
    "duration": 5,
    "start_time": "2024-03-15T16:17:17.384Z"
   },
   {
    "duration": 1054,
    "start_time": "2024-03-15T16:20:46.412Z"
   },
   {
    "duration": 90,
    "start_time": "2024-03-15T16:20:47.468Z"
   },
   {
    "duration": 10,
    "start_time": "2024-03-15T16:20:47.560Z"
   },
   {
    "duration": 40,
    "start_time": "2024-03-15T16:20:47.572Z"
   },
   {
    "duration": 12,
    "start_time": "2024-03-15T16:20:47.613Z"
   },
   {
    "duration": 21,
    "start_time": "2024-03-15T16:20:47.626Z"
   },
   {
    "duration": 5,
    "start_time": "2024-03-15T16:20:47.649Z"
   },
   {
    "duration": 13,
    "start_time": "2024-03-15T16:20:47.656Z"
   },
   {
    "duration": 11,
    "start_time": "2024-03-15T16:20:47.671Z"
   },
   {
    "duration": 6,
    "start_time": "2024-03-15T16:20:47.685Z"
   },
   {
    "duration": 10,
    "start_time": "2024-03-15T16:20:47.716Z"
   },
   {
    "duration": 15,
    "start_time": "2024-03-15T16:20:47.727Z"
   },
   {
    "duration": 379,
    "start_time": "2024-03-15T16:20:47.743Z"
   },
   {
    "duration": 111,
    "start_time": "2024-03-15T16:20:48.124Z"
   },
   {
    "duration": 63,
    "start_time": "2024-03-15T16:20:48.237Z"
   },
   {
    "duration": 24,
    "start_time": "2024-03-15T16:20:48.301Z"
   },
   {
    "duration": 22,
    "start_time": "2024-03-15T16:20:48.326Z"
   },
   {
    "duration": 111,
    "start_time": "2024-03-15T16:20:48.350Z"
   },
   {
    "duration": 340,
    "start_time": "2024-03-15T16:20:48.463Z"
   },
   {
    "duration": 29,
    "start_time": "2024-03-15T16:20:48.805Z"
   },
   {
    "duration": 12,
    "start_time": "2024-03-15T16:20:48.836Z"
   },
   {
    "duration": 28,
    "start_time": "2024-03-15T16:20:48.850Z"
   },
   {
    "duration": 378,
    "start_time": "2024-03-15T16:20:48.879Z"
   },
   {
    "duration": 12,
    "start_time": "2024-03-15T16:20:49.259Z"
   },
   {
    "duration": 403,
    "start_time": "2024-03-15T16:20:49.272Z"
   },
   {
    "duration": 24,
    "start_time": "2024-03-15T16:20:49.676Z"
   },
   {
    "duration": 6,
    "start_time": "2024-03-15T16:20:49.714Z"
   },
   {
    "duration": 10,
    "start_time": "2024-03-15T16:20:49.723Z"
   },
   {
    "duration": 9,
    "start_time": "2024-03-15T16:20:49.735Z"
   },
   {
    "duration": 5,
    "start_time": "2024-03-15T16:20:49.746Z"
   },
   {
    "duration": 5,
    "start_time": "2024-03-15T16:20:49.752Z"
   },
   {
    "duration": 9,
    "start_time": "2024-03-15T16:20:49.758Z"
   },
   {
    "duration": 3128,
    "start_time": "2024-03-15T16:20:49.769Z"
   },
   {
    "duration": 176,
    "start_time": "2024-03-15T16:20:52.898Z"
   },
   {
    "duration": 4,
    "start_time": "2024-03-15T16:20:53.075Z"
   },
   {
    "duration": 71,
    "start_time": "2024-03-15T17:24:02.362Z"
   },
   {
    "duration": 72,
    "start_time": "2024-03-15T17:24:23.539Z"
   },
   {
    "duration": 43,
    "start_time": "2024-03-15T17:25:23.082Z"
   },
   {
    "duration": 1227,
    "start_time": "2024-03-15T17:25:39.274Z"
   },
   {
    "duration": 173,
    "start_time": "2024-03-15T17:25:40.503Z"
   },
   {
    "duration": 20,
    "start_time": "2024-03-15T17:25:40.678Z"
   },
   {
    "duration": 101,
    "start_time": "2024-03-15T17:25:40.701Z"
   },
   {
    "duration": 12,
    "start_time": "2024-03-15T17:25:40.804Z"
   },
   {
    "duration": 71,
    "start_time": "2024-03-15T17:25:40.819Z"
   },
   {
    "duration": 9,
    "start_time": "2024-03-15T17:25:40.892Z"
   },
   {
    "duration": 38,
    "start_time": "2024-03-15T17:25:40.903Z"
   },
   {
    "duration": 16,
    "start_time": "2024-03-15T17:25:40.943Z"
   },
   {
    "duration": 17,
    "start_time": "2024-03-15T17:25:40.963Z"
   },
   {
    "duration": 15,
    "start_time": "2024-03-15T17:25:40.982Z"
   },
   {
    "duration": 16,
    "start_time": "2024-03-15T17:25:40.999Z"
   },
   {
    "duration": 25,
    "start_time": "2024-03-15T17:25:41.017Z"
   },
   {
    "duration": 405,
    "start_time": "2024-03-15T17:25:41.044Z"
   },
   {
    "duration": 111,
    "start_time": "2024-03-15T17:25:41.930Z"
   },
   {
    "duration": 84,
    "start_time": "2024-03-15T17:25:42.043Z"
   },
   {
    "duration": 37,
    "start_time": "2024-03-15T17:25:42.130Z"
   },
   {
    "duration": 8,
    "start_time": "2024-03-15T17:25:42.173Z"
   },
   {
    "duration": 102,
    "start_time": "2024-03-15T17:25:42.183Z"
   },
   {
    "duration": 388,
    "start_time": "2024-03-15T17:25:42.291Z"
   },
   {
    "duration": 33,
    "start_time": "2024-03-15T17:25:42.684Z"
   },
   {
    "duration": 9,
    "start_time": "2024-03-15T17:25:42.719Z"
   },
   {
    "duration": 22,
    "start_time": "2024-03-15T17:25:42.730Z"
   },
   {
    "duration": 380,
    "start_time": "2024-03-15T17:25:43.809Z"
   },
   {
    "duration": 12,
    "start_time": "2024-03-15T17:25:44.191Z"
   },
   {
    "duration": 492,
    "start_time": "2024-03-15T17:25:44.204Z"
   },
   {
    "duration": 30,
    "start_time": "2024-03-15T17:25:44.698Z"
   },
   {
    "duration": 9,
    "start_time": "2024-03-15T17:25:44.730Z"
   },
   {
    "duration": 14,
    "start_time": "2024-03-15T17:25:45.222Z"
   },
   {
    "duration": 35,
    "start_time": "2024-03-15T17:25:45.238Z"
   },
   {
    "duration": 27,
    "start_time": "2024-03-15T17:25:45.275Z"
   },
   {
    "duration": 43,
    "start_time": "2024-03-15T17:25:45.304Z"
   },
   {
    "duration": 17,
    "start_time": "2024-03-15T17:25:45.351Z"
   },
   {
    "duration": 3543,
    "start_time": "2024-03-15T17:25:46.617Z"
   },
   {
    "duration": 221,
    "start_time": "2024-03-15T17:25:50.165Z"
   },
   {
    "duration": 5,
    "start_time": "2024-03-15T17:25:50.388Z"
   },
   {
    "duration": 4,
    "start_time": "2024-03-15T17:26:23.560Z"
   },
   {
    "duration": 4,
    "start_time": "2024-03-15T17:26:59.710Z"
   },
   {
    "duration": 13,
    "start_time": "2024-03-15T17:27:26.566Z"
   },
   {
    "duration": 6,
    "start_time": "2024-03-15T17:28:11.586Z"
   },
   {
    "duration": 16,
    "start_time": "2024-03-15T17:28:42.000Z"
   },
   {
    "duration": 11,
    "start_time": "2024-03-15T17:29:08.645Z"
   },
   {
    "duration": 9,
    "start_time": "2024-03-15T17:29:15.049Z"
   },
   {
    "duration": 4,
    "start_time": "2024-03-15T17:29:57.746Z"
   },
   {
    "duration": 5,
    "start_time": "2024-03-15T17:30:05.329Z"
   },
   {
    "duration": 8,
    "start_time": "2024-03-15T17:30:10.100Z"
   },
   {
    "duration": 817,
    "start_time": "2024-03-15T17:36:56.841Z"
   },
   {
    "duration": 295,
    "start_time": "2024-03-15T17:37:46.379Z"
   },
   {
    "duration": 504,
    "start_time": "2024-03-15T17:38:24.244Z"
   },
   {
    "duration": 381,
    "start_time": "2024-03-15T17:39:32.240Z"
   },
   {
    "duration": 422,
    "start_time": "2024-03-15T17:40:07.372Z"
   },
   {
    "duration": 23,
    "start_time": "2024-03-15T17:40:59.455Z"
   },
   {
    "duration": 97,
    "start_time": "2024-03-15T17:41:54.551Z"
   },
   {
    "duration": 116,
    "start_time": "2024-03-15T17:43:32.215Z"
   },
   {
    "duration": 137,
    "start_time": "2024-03-15T17:44:20.121Z"
   },
   {
    "duration": 113,
    "start_time": "2024-03-15T17:44:30.948Z"
   },
   {
    "duration": 115,
    "start_time": "2024-03-15T17:44:53.263Z"
   },
   {
    "duration": 224,
    "start_time": "2024-03-15T17:45:00.011Z"
   },
   {
    "duration": 136,
    "start_time": "2024-03-15T17:46:44.532Z"
   },
   {
    "duration": 105,
    "start_time": "2024-03-15T17:49:48.348Z"
   },
   {
    "duration": 96,
    "start_time": "2024-03-15T17:56:35.231Z"
   },
   {
    "duration": 116,
    "start_time": "2024-03-15T17:56:42.245Z"
   },
   {
    "duration": 120,
    "start_time": "2024-03-15T17:57:24.032Z"
   },
   {
    "duration": 137,
    "start_time": "2024-03-15T17:58:07.011Z"
   },
   {
    "duration": 149,
    "start_time": "2024-03-15T17:58:11.660Z"
   },
   {
    "duration": 99,
    "start_time": "2024-03-15T17:58:40.730Z"
   },
   {
    "duration": 104,
    "start_time": "2024-03-15T17:59:56.690Z"
   },
   {
    "duration": 101,
    "start_time": "2024-03-15T18:00:40.122Z"
   },
   {
    "duration": 98,
    "start_time": "2024-03-15T18:00:50.760Z"
   },
   {
    "duration": 112,
    "start_time": "2024-03-15T18:01:39.989Z"
   },
   {
    "duration": 104,
    "start_time": "2024-03-15T18:02:34.599Z"
   },
   {
    "duration": 115,
    "start_time": "2024-03-15T18:02:42.008Z"
   },
   {
    "duration": 101,
    "start_time": "2024-03-15T18:02:54.719Z"
   },
   {
    "duration": 295,
    "start_time": "2024-03-15T18:04:02.244Z"
   },
   {
    "duration": 104,
    "start_time": "2024-03-15T18:04:19.599Z"
   },
   {
    "duration": 98,
    "start_time": "2024-03-15T18:04:50.299Z"
   },
   {
    "duration": 106,
    "start_time": "2024-03-15T18:04:57.693Z"
   },
   {
    "duration": 94,
    "start_time": "2024-03-15T18:05:35.457Z"
   },
   {
    "duration": 112,
    "start_time": "2024-03-15T18:05:42.371Z"
   },
   {
    "duration": 100,
    "start_time": "2024-03-15T18:07:16.509Z"
   },
   {
    "duration": 98,
    "start_time": "2024-03-15T18:07:20.245Z"
   },
   {
    "duration": 101,
    "start_time": "2024-03-15T18:07:23.031Z"
   },
   {
    "duration": 98,
    "start_time": "2024-03-15T18:07:30.109Z"
   },
   {
    "duration": 123,
    "start_time": "2024-03-15T18:07:33.657Z"
   },
   {
    "duration": 103,
    "start_time": "2024-03-15T18:07:37.950Z"
   },
   {
    "duration": 106,
    "start_time": "2024-03-15T18:07:43.430Z"
   },
   {
    "duration": 19,
    "start_time": "2024-03-15T18:07:50.399Z"
   },
   {
    "duration": 106,
    "start_time": "2024-03-15T18:08:04.210Z"
   },
   {
    "duration": 109,
    "start_time": "2024-03-15T18:08:29.318Z"
   },
   {
    "duration": 105,
    "start_time": "2024-03-15T18:08:39.736Z"
   },
   {
    "duration": 222,
    "start_time": "2024-03-15T18:08:44.569Z"
   },
   {
    "duration": 106,
    "start_time": "2024-03-15T18:08:48.916Z"
   },
   {
    "duration": 108,
    "start_time": "2024-03-15T18:09:55.919Z"
   },
   {
    "duration": 112,
    "start_time": "2024-03-15T18:10:05.918Z"
   },
   {
    "duration": 115,
    "start_time": "2024-03-15T18:11:08.160Z"
   },
   {
    "duration": 103,
    "start_time": "2024-03-15T18:11:12.340Z"
   },
   {
    "duration": 132,
    "start_time": "2024-03-15T18:11:16.066Z"
   },
   {
    "duration": 123,
    "start_time": "2024-03-15T18:11:18.840Z"
   },
   {
    "duration": 111,
    "start_time": "2024-03-15T18:11:23.882Z"
   },
   {
    "duration": 104,
    "start_time": "2024-03-15T18:12:27.037Z"
   },
   {
    "duration": 117,
    "start_time": "2024-03-15T18:13:59.597Z"
   },
   {
    "duration": 116,
    "start_time": "2024-03-15T18:14:30.390Z"
   },
   {
    "duration": 131,
    "start_time": "2024-03-15T18:14:47.034Z"
   },
   {
    "duration": 114,
    "start_time": "2024-03-15T18:14:51.385Z"
   },
   {
    "duration": 204,
    "start_time": "2024-03-15T18:16:09.137Z"
   },
   {
    "duration": 148,
    "start_time": "2024-03-15T18:16:14.805Z"
   },
   {
    "duration": 149,
    "start_time": "2024-03-15T18:16:24.964Z"
   },
   {
    "duration": 145,
    "start_time": "2024-03-15T18:16:29.505Z"
   },
   {
    "duration": 146,
    "start_time": "2024-03-15T18:16:38.785Z"
   },
   {
    "duration": 179,
    "start_time": "2024-03-15T18:16:45.608Z"
   },
   {
    "duration": 160,
    "start_time": "2024-03-15T18:17:03.400Z"
   },
   {
    "duration": 148,
    "start_time": "2024-03-15T18:17:47.783Z"
   },
   {
    "duration": 138,
    "start_time": "2024-03-15T18:17:55.598Z"
   },
   {
    "duration": 154,
    "start_time": "2024-03-15T18:18:07.097Z"
   },
   {
    "duration": 184,
    "start_time": "2024-03-15T18:18:16.565Z"
   },
   {
    "duration": 143,
    "start_time": "2024-03-15T18:18:28.106Z"
   },
   {
    "duration": 248,
    "start_time": "2024-03-15T18:18:34.458Z"
   },
   {
    "duration": 180,
    "start_time": "2024-03-15T18:19:51.080Z"
   },
   {
    "duration": 163,
    "start_time": "2024-03-15T18:20:11.599Z"
   },
   {
    "duration": 131,
    "start_time": "2024-03-15T18:20:28.550Z"
   },
   {
    "duration": 121,
    "start_time": "2024-03-15T18:21:27.420Z"
   },
   {
    "duration": 171,
    "start_time": "2024-03-15T18:21:50.011Z"
   },
   {
    "duration": 186,
    "start_time": "2024-03-15T18:21:56.518Z"
   },
   {
    "duration": 176,
    "start_time": "2024-03-15T18:27:28.436Z"
   },
   {
    "duration": 162,
    "start_time": "2024-03-15T18:28:02.278Z"
   },
   {
    "duration": 187,
    "start_time": "2024-03-15T18:28:40.641Z"
   },
   {
    "duration": 174,
    "start_time": "2024-03-15T18:28:47.015Z"
   },
   {
    "duration": 11,
    "start_time": "2024-03-15T18:30:43.119Z"
   },
   {
    "duration": 222,
    "start_time": "2024-03-15T18:34:43.031Z"
   },
   {
    "duration": 111,
    "start_time": "2024-03-15T18:34:49.111Z"
   },
   {
    "duration": 113,
    "start_time": "2024-03-15T18:37:36.739Z"
   },
   {
    "duration": 113,
    "start_time": "2024-03-15T18:39:57.120Z"
   },
   {
    "duration": 116,
    "start_time": "2024-03-15T18:40:40.832Z"
   },
   {
    "duration": 118,
    "start_time": "2024-03-15T18:40:51.240Z"
   },
   {
    "duration": 139,
    "start_time": "2024-03-15T18:41:31.071Z"
   },
   {
    "duration": 37,
    "start_time": "2024-03-15T18:44:55.064Z"
   },
   {
    "duration": 3,
    "start_time": "2024-03-15T18:45:22.091Z"
   },
   {
    "duration": 17,
    "start_time": "2024-03-15T18:45:39.581Z"
   },
   {
    "duration": 4,
    "start_time": "2024-03-15T18:46:25.835Z"
   },
   {
    "duration": 337,
    "start_time": "2024-03-15T18:46:34.144Z"
   },
   {
    "duration": 177,
    "start_time": "2024-03-15T18:47:07.704Z"
   },
   {
    "duration": 233,
    "start_time": "2024-03-15T18:47:17.803Z"
   },
   {
    "duration": 304,
    "start_time": "2024-03-15T18:47:32.281Z"
   },
   {
    "duration": 240,
    "start_time": "2024-03-15T18:47:37.494Z"
   },
   {
    "duration": 119,
    "start_time": "2024-03-15T18:47:43.614Z"
   },
   {
    "duration": 226,
    "start_time": "2024-03-15T18:47:50.769Z"
   },
   {
    "duration": 20,
    "start_time": "2024-03-15T18:47:56.525Z"
   },
   {
    "duration": 219,
    "start_time": "2024-03-15T18:48:04.099Z"
   },
   {
    "duration": 242,
    "start_time": "2024-03-15T18:48:37.462Z"
   },
   {
    "duration": 232,
    "start_time": "2024-03-15T18:48:45.104Z"
   },
   {
    "duration": 107,
    "start_time": "2024-03-15T18:48:51.931Z"
   },
   {
    "duration": 214,
    "start_time": "2024-03-15T18:48:55.178Z"
   },
   {
    "duration": 256,
    "start_time": "2024-03-15T18:49:01.653Z"
   },
   {
    "duration": 344,
    "start_time": "2024-03-15T18:49:09.291Z"
   },
   {
    "duration": 246,
    "start_time": "2024-03-15T18:57:53.809Z"
   },
   {
    "duration": 268,
    "start_time": "2024-03-15T18:59:38.251Z"
   },
   {
    "duration": 302,
    "start_time": "2024-03-15T19:00:15.092Z"
   },
   {
    "duration": 278,
    "start_time": "2024-03-15T19:00:21.623Z"
   },
   {
    "duration": 269,
    "start_time": "2024-03-15T19:00:44.783Z"
   },
   {
    "duration": 291,
    "start_time": "2024-03-15T19:00:49.133Z"
   },
   {
    "duration": 221,
    "start_time": "2024-03-15T19:00:59.396Z"
   },
   {
    "duration": 258,
    "start_time": "2024-03-15T19:01:03.833Z"
   },
   {
    "duration": 8,
    "start_time": "2024-03-15T19:09:07.330Z"
   },
   {
    "duration": 390,
    "start_time": "2024-03-15T19:09:46.909Z"
   },
   {
    "duration": 482,
    "start_time": "2024-03-15T19:10:08.046Z"
   },
   {
    "duration": 404,
    "start_time": "2024-03-15T19:10:50.514Z"
   },
   {
    "duration": 403,
    "start_time": "2024-03-15T19:10:59.847Z"
   },
   {
    "duration": 383,
    "start_time": "2024-03-15T19:11:21.404Z"
   },
   {
    "duration": 11,
    "start_time": "2024-03-15T19:14:49.083Z"
   },
   {
    "duration": 10,
    "start_time": "2024-03-15T19:15:02.422Z"
   },
   {
    "duration": 162,
    "start_time": "2024-03-15T19:15:41.262Z"
   },
   {
    "duration": 12,
    "start_time": "2024-03-15T19:15:50.805Z"
   },
   {
    "duration": 18,
    "start_time": "2024-03-15T19:18:42.756Z"
   },
   {
    "duration": 232,
    "start_time": "2024-03-15T19:19:08.590Z"
   },
   {
    "duration": 127,
    "start_time": "2024-03-15T19:19:23.562Z"
   },
   {
    "duration": 18,
    "start_time": "2024-03-15T19:19:56.646Z"
   },
   {
    "duration": 18,
    "start_time": "2024-03-15T19:20:56.077Z"
   },
   {
    "duration": 16,
    "start_time": "2024-03-15T19:21:07.626Z"
   },
   {
    "duration": 22,
    "start_time": "2024-03-15T19:21:15.398Z"
   },
   {
    "duration": 21,
    "start_time": "2024-03-15T19:21:19.987Z"
   },
   {
    "duration": 16,
    "start_time": "2024-03-15T19:21:50.588Z"
   },
   {
    "duration": 11,
    "start_time": "2024-03-15T19:22:06.134Z"
   },
   {
    "duration": 19,
    "start_time": "2024-03-15T19:28:48.058Z"
   },
   {
    "duration": 17,
    "start_time": "2024-03-15T19:31:12.029Z"
   },
   {
    "duration": 16,
    "start_time": "2024-03-15T19:33:53.556Z"
   },
   {
    "duration": 73,
    "start_time": "2024-03-15T19:35:57.148Z"
   },
   {
    "duration": 18,
    "start_time": "2024-03-15T19:36:02.958Z"
   },
   {
    "duration": 137,
    "start_time": "2024-03-15T19:39:34.008Z"
   },
   {
    "duration": 32,
    "start_time": "2024-03-15T19:39:50.858Z"
   },
   {
    "duration": 41,
    "start_time": "2024-03-15T19:40:27.037Z"
   },
   {
    "duration": 45,
    "start_time": "2024-03-15T19:40:58.939Z"
   },
   {
    "duration": 40,
    "start_time": "2024-03-15T19:41:04.141Z"
   },
   {
    "duration": 34,
    "start_time": "2024-03-15T19:41:31.129Z"
   },
   {
    "duration": 34,
    "start_time": "2024-03-15T19:41:36.899Z"
   },
   {
    "duration": 35,
    "start_time": "2024-03-15T19:41:51.482Z"
   },
   {
    "duration": 41,
    "start_time": "2024-03-15T19:41:54.690Z"
   },
   {
    "duration": 18,
    "start_time": "2024-03-15T19:45:16.293Z"
   },
   {
    "duration": 11,
    "start_time": "2024-03-15T19:45:32.613Z"
   },
   {
    "duration": 30,
    "start_time": "2024-03-15T19:45:35.763Z"
   },
   {
    "duration": 4,
    "start_time": "2024-03-15T19:46:48.713Z"
   },
   {
    "duration": 527,
    "start_time": "2024-03-15T19:49:06.862Z"
   },
   {
    "duration": 75,
    "start_time": "2024-03-15T19:52:01.643Z"
   },
   {
    "duration": 628,
    "start_time": "2024-03-15T19:52:08.898Z"
   },
   {
    "duration": 820,
    "start_time": "2024-03-15T19:52:40.491Z"
   },
   {
    "duration": 655,
    "start_time": "2024-03-15T19:55:26.981Z"
   },
   {
    "duration": 818,
    "start_time": "2024-03-15T19:55:34.930Z"
   },
   {
    "duration": 618,
    "start_time": "2024-03-15T19:56:35.457Z"
   },
   {
    "duration": 72,
    "start_time": "2024-03-15T19:56:44.387Z"
   },
   {
    "duration": 951,
    "start_time": "2024-03-15T19:56:48.137Z"
   },
   {
    "duration": 825,
    "start_time": "2024-03-15T19:57:11.752Z"
   },
   {
    "duration": 940,
    "start_time": "2024-03-15T19:57:51.834Z"
   },
   {
    "duration": 635,
    "start_time": "2024-03-15T19:58:08.849Z"
   },
   {
    "duration": 748,
    "start_time": "2024-03-15T19:58:30.489Z"
   },
   {
    "duration": 837,
    "start_time": "2024-03-15T19:58:40.322Z"
   },
   {
    "duration": 810,
    "start_time": "2024-03-15T19:58:53.815Z"
   },
   {
    "duration": 805,
    "start_time": "2024-03-15T19:59:30.993Z"
   },
   {
    "duration": 918,
    "start_time": "2024-03-15T20:01:21.681Z"
   },
   {
    "duration": 857,
    "start_time": "2024-03-15T20:01:38.592Z"
   },
   {
    "duration": 493,
    "start_time": "2024-03-15T20:01:47.688Z"
   },
   {
    "duration": 638,
    "start_time": "2024-03-15T20:01:59.140Z"
   },
   {
    "duration": 520,
    "start_time": "2024-03-15T20:05:17.356Z"
   },
   {
    "duration": 534,
    "start_time": "2024-03-15T20:06:14.459Z"
   },
   {
    "duration": 32,
    "start_time": "2024-03-15T20:09:04.729Z"
   },
   {
    "duration": 35,
    "start_time": "2024-03-15T20:09:09.619Z"
   },
   {
    "duration": 1139,
    "start_time": "2024-03-15T20:09:31.182Z"
   },
   {
    "duration": 15,
    "start_time": "2024-03-15T20:09:44.933Z"
   },
   {
    "duration": 73,
    "start_time": "2024-03-15T20:10:33.982Z"
   },
   {
    "duration": 15,
    "start_time": "2024-03-15T20:12:37.723Z"
   },
   {
    "duration": 31,
    "start_time": "2024-03-15T20:22:53.026Z"
   },
   {
    "duration": 22,
    "start_time": "2024-03-15T20:23:31.353Z"
   },
   {
    "duration": 1172,
    "start_time": "2024-03-15T20:26:50.275Z"
   },
   {
    "duration": 177,
    "start_time": "2024-03-15T20:26:51.449Z"
   },
   {
    "duration": 11,
    "start_time": "2024-03-15T20:26:51.627Z"
   },
   {
    "duration": 92,
    "start_time": "2024-03-15T20:26:51.641Z"
   },
   {
    "duration": 11,
    "start_time": "2024-03-15T20:26:51.734Z"
   },
   {
    "duration": 70,
    "start_time": "2024-03-15T20:26:51.746Z"
   },
   {
    "duration": 5,
    "start_time": "2024-03-15T20:26:51.817Z"
   },
   {
    "duration": 27,
    "start_time": "2024-03-15T20:26:51.823Z"
   },
   {
    "duration": 22,
    "start_time": "2024-03-15T20:26:51.851Z"
   },
   {
    "duration": 8,
    "start_time": "2024-03-15T20:26:51.882Z"
   },
   {
    "duration": 15,
    "start_time": "2024-03-15T20:26:51.892Z"
   },
   {
    "duration": 11,
    "start_time": "2024-03-15T20:26:51.908Z"
   },
   {
    "duration": 21,
    "start_time": "2024-03-15T20:26:51.921Z"
   },
   {
    "duration": 382,
    "start_time": "2024-03-15T20:26:51.944Z"
   },
   {
    "duration": 200,
    "start_time": "2024-03-15T20:26:52.327Z"
   },
   {
    "duration": 116,
    "start_time": "2024-03-15T20:26:52.529Z"
   },
   {
    "duration": 8,
    "start_time": "2024-03-15T20:26:52.646Z"
   },
   {
    "duration": 22,
    "start_time": "2024-03-15T20:26:52.656Z"
   },
   {
    "duration": 238,
    "start_time": "2024-03-15T20:26:52.680Z"
   },
   {
    "duration": 394,
    "start_time": "2024-03-15T20:26:52.920Z"
   },
   {
    "duration": 9,
    "start_time": "2024-03-15T20:26:53.316Z"
   },
   {
    "duration": 32,
    "start_time": "2024-03-15T20:26:53.326Z"
   },
   {
    "duration": 48,
    "start_time": "2024-03-15T20:26:53.360Z"
   },
   {
    "duration": 17,
    "start_time": "2024-03-15T20:26:53.410Z"
   },
   {
    "duration": 15,
    "start_time": "2024-03-15T20:26:53.429Z"
   },
   {
    "duration": 17,
    "start_time": "2024-03-15T20:26:53.446Z"
   },
   {
    "duration": 31,
    "start_time": "2024-03-15T20:26:53.465Z"
   },
   {
    "duration": 15,
    "start_time": "2024-03-15T20:26:53.499Z"
   },
   {
    "duration": 533,
    "start_time": "2024-03-15T20:26:53.516Z"
   },
   {
    "duration": 35,
    "start_time": "2024-03-15T20:26:54.050Z"
   },
   {
    "duration": 7,
    "start_time": "2024-03-15T20:26:54.086Z"
   },
   {
    "duration": 19,
    "start_time": "2024-03-15T20:26:54.094Z"
   },
   {
    "duration": 97,
    "start_time": "2024-03-15T20:26:54.114Z"
   },
   {
    "duration": 54,
    "start_time": "2024-03-15T20:27:07.930Z"
   },
   {
    "duration": 1280,
    "start_time": "2024-03-15T20:27:13.852Z"
   },
   {
    "duration": 148,
    "start_time": "2024-03-15T20:27:15.134Z"
   },
   {
    "duration": 10,
    "start_time": "2024-03-15T20:27:15.284Z"
   },
   {
    "duration": 111,
    "start_time": "2024-03-15T20:27:15.296Z"
   },
   {
    "duration": 12,
    "start_time": "2024-03-15T20:27:15.409Z"
   },
   {
    "duration": 105,
    "start_time": "2024-03-15T20:27:15.422Z"
   },
   {
    "duration": 4,
    "start_time": "2024-03-15T20:27:15.529Z"
   },
   {
    "duration": 55,
    "start_time": "2024-03-15T20:27:15.534Z"
   },
   {
    "duration": 15,
    "start_time": "2024-03-15T20:27:15.591Z"
   },
   {
    "duration": 19,
    "start_time": "2024-03-15T20:27:15.609Z"
   },
   {
    "duration": 32,
    "start_time": "2024-03-15T20:27:15.630Z"
   },
   {
    "duration": 49,
    "start_time": "2024-03-15T20:27:15.664Z"
   },
   {
    "duration": 19,
    "start_time": "2024-03-15T20:27:15.715Z"
   },
   {
    "duration": 466,
    "start_time": "2024-03-15T20:27:15.736Z"
   },
   {
    "duration": 180,
    "start_time": "2024-03-15T20:27:16.203Z"
   },
   {
    "duration": 102,
    "start_time": "2024-03-15T20:27:16.385Z"
   },
   {
    "duration": 7,
    "start_time": "2024-03-15T20:27:16.489Z"
   },
   {
    "duration": 24,
    "start_time": "2024-03-15T20:27:16.497Z"
   },
   {
    "duration": 262,
    "start_time": "2024-03-15T20:27:16.522Z"
   },
   {
    "duration": 412,
    "start_time": "2024-03-15T20:27:16.785Z"
   },
   {
    "duration": 9,
    "start_time": "2024-03-15T20:27:17.199Z"
   },
   {
    "duration": 12,
    "start_time": "2024-03-15T20:27:17.210Z"
   },
   {
    "duration": 51,
    "start_time": "2024-03-15T20:27:17.224Z"
   },
   {
    "duration": 18,
    "start_time": "2024-03-15T20:27:17.277Z"
   },
   {
    "duration": 15,
    "start_time": "2024-03-15T20:27:17.296Z"
   },
   {
    "duration": 3,
    "start_time": "2024-03-15T20:27:17.313Z"
   },
   {
    "duration": 19,
    "start_time": "2024-03-15T20:27:17.317Z"
   },
   {
    "duration": 22,
    "start_time": "2024-03-15T20:27:17.373Z"
   },
   {
    "duration": 535,
    "start_time": "2024-03-15T20:27:17.398Z"
   },
   {
    "duration": 23,
    "start_time": "2024-03-15T20:27:17.935Z"
   },
   {
    "duration": 18,
    "start_time": "2024-03-15T20:27:17.960Z"
   },
   {
    "duration": 13,
    "start_time": "2024-03-15T20:27:17.979Z"
   },
   {
    "duration": 101,
    "start_time": "2024-03-15T20:27:17.994Z"
   },
   {
    "duration": 33,
    "start_time": "2024-03-15T20:27:18.096Z"
   },
   {
    "duration": 5,
    "start_time": "2024-03-15T20:27:18.131Z"
   },
   {
    "duration": 10,
    "start_time": "2024-03-15T20:27:18.137Z"
   },
   {
    "duration": 7,
    "start_time": "2024-03-15T20:27:18.148Z"
   },
   {
    "duration": 3454,
    "start_time": "2024-03-15T20:27:18.175Z"
   },
   {
    "duration": 184,
    "start_time": "2024-03-15T20:27:21.630Z"
   },
   {
    "duration": 5,
    "start_time": "2024-03-15T20:27:21.816Z"
   },
   {
    "duration": 35,
    "start_time": "2024-03-15T20:29:11.930Z"
   },
   {
    "duration": 35,
    "start_time": "2024-03-15T20:30:00.570Z"
   },
   {
    "duration": 29,
    "start_time": "2024-03-15T20:32:32.291Z"
   },
   {
    "duration": 5,
    "start_time": "2024-03-15T20:35:12.339Z"
   },
   {
    "duration": 5,
    "start_time": "2024-03-15T20:35:17.406Z"
   },
   {
    "duration": 5,
    "start_time": "2024-03-15T20:39:12.373Z"
   },
   {
    "duration": 3152,
    "start_time": "2024-03-15T20:49:38.401Z"
   },
   {
    "duration": 3160,
    "start_time": "2024-03-15T20:50:19.122Z"
   },
   {
    "duration": 3125,
    "start_time": "2024-03-15T20:50:48.272Z"
   },
   {
    "duration": 3209,
    "start_time": "2024-03-15T20:51:12.803Z"
   },
   {
    "duration": 1097,
    "start_time": "2024-03-15T20:51:59.332Z"
   },
   {
    "duration": 92,
    "start_time": "2024-03-15T20:52:00.431Z"
   },
   {
    "duration": 12,
    "start_time": "2024-03-15T20:52:00.525Z"
   },
   {
    "duration": 77,
    "start_time": "2024-03-15T20:52:00.539Z"
   },
   {
    "duration": 15,
    "start_time": "2024-03-15T20:52:00.617Z"
   },
   {
    "duration": 61,
    "start_time": "2024-03-15T20:52:00.634Z"
   },
   {
    "duration": 42,
    "start_time": "2024-03-15T20:52:00.697Z"
   },
   {
    "duration": 119,
    "start_time": "2024-03-15T20:52:00.741Z"
   },
   {
    "duration": 193,
    "start_time": "2024-03-15T20:52:00.862Z"
   },
   {
    "duration": 106,
    "start_time": "2024-03-15T20:52:01.058Z"
   },
   {
    "duration": 137,
    "start_time": "2024-03-15T20:52:01.166Z"
   },
   {
    "duration": 40,
    "start_time": "2024-03-15T20:52:01.305Z"
   },
   {
    "duration": 38,
    "start_time": "2024-03-15T20:52:01.347Z"
   },
   {
    "duration": 442,
    "start_time": "2024-03-15T20:52:01.387Z"
   },
   {
    "duration": 181,
    "start_time": "2024-03-15T20:52:01.830Z"
   },
   {
    "duration": 104,
    "start_time": "2024-03-15T20:52:02.012Z"
   },
   {
    "duration": 26,
    "start_time": "2024-03-15T20:52:02.117Z"
   },
   {
    "duration": 95,
    "start_time": "2024-03-15T20:52:02.144Z"
   },
   {
    "duration": 247,
    "start_time": "2024-03-15T20:52:02.240Z"
   },
   {
    "duration": 381,
    "start_time": "2024-03-15T20:52:02.488Z"
   },
   {
    "duration": 10,
    "start_time": "2024-03-15T20:52:02.871Z"
   },
   {
    "duration": 32,
    "start_time": "2024-03-15T20:52:02.882Z"
   },
   {
    "duration": 45,
    "start_time": "2024-03-15T20:52:02.915Z"
   },
   {
    "duration": 23,
    "start_time": "2024-03-15T20:52:02.962Z"
   },
   {
    "duration": 22,
    "start_time": "2024-03-15T20:52:02.987Z"
   },
   {
    "duration": 4,
    "start_time": "2024-03-15T20:52:03.010Z"
   },
   {
    "duration": 28,
    "start_time": "2024-03-15T20:52:03.015Z"
   },
   {
    "duration": 30,
    "start_time": "2024-03-15T20:52:03.046Z"
   },
   {
    "duration": 498,
    "start_time": "2024-03-15T20:52:03.078Z"
   },
   {
    "duration": 23,
    "start_time": "2024-03-15T20:52:03.577Z"
   },
   {
    "duration": 7,
    "start_time": "2024-03-15T20:52:03.601Z"
   },
   {
    "duration": 23,
    "start_time": "2024-03-15T20:52:03.609Z"
   },
   {
    "duration": 91,
    "start_time": "2024-03-15T20:52:03.634Z"
   },
   {
    "duration": 34,
    "start_time": "2024-03-15T20:52:03.726Z"
   },
   {
    "duration": 8,
    "start_time": "2024-03-15T20:52:03.761Z"
   },
   {
    "duration": 46,
    "start_time": "2024-03-15T20:52:03.771Z"
   },
   {
    "duration": 26,
    "start_time": "2024-03-15T20:52:03.819Z"
   },
   {
    "duration": 3243,
    "start_time": "2024-03-15T20:52:03.846Z"
   },
   {
    "duration": 178,
    "start_time": "2024-03-15T20:52:07.091Z"
   },
   {
    "duration": 5,
    "start_time": "2024-03-15T20:52:07.271Z"
   },
   {
    "duration": 186,
    "start_time": "2024-03-15T20:52:27.095Z"
   },
   {
    "duration": 1022,
    "start_time": "2024-03-15T20:52:54.080Z"
   },
   {
    "duration": 67,
    "start_time": "2024-03-15T20:52:55.104Z"
   },
   {
    "duration": 14,
    "start_time": "2024-03-15T20:52:55.172Z"
   },
   {
    "duration": 60,
    "start_time": "2024-03-15T20:52:55.188Z"
   },
   {
    "duration": 10,
    "start_time": "2024-03-15T20:52:55.250Z"
   },
   {
    "duration": 25,
    "start_time": "2024-03-15T20:52:55.262Z"
   },
   {
    "duration": 5,
    "start_time": "2024-03-15T20:52:55.289Z"
   },
   {
    "duration": 48,
    "start_time": "2024-03-15T20:52:55.295Z"
   },
   {
    "duration": 17,
    "start_time": "2024-03-15T20:52:55.344Z"
   },
   {
    "duration": 24,
    "start_time": "2024-03-15T20:52:55.362Z"
   },
   {
    "duration": 22,
    "start_time": "2024-03-15T20:52:55.388Z"
   },
   {
    "duration": 15,
    "start_time": "2024-03-15T20:52:55.412Z"
   },
   {
    "duration": 27,
    "start_time": "2024-03-15T20:52:55.428Z"
   },
   {
    "duration": 365,
    "start_time": "2024-03-15T20:52:55.457Z"
   },
   {
    "duration": 207,
    "start_time": "2024-03-15T20:52:55.824Z"
   },
   {
    "duration": 112,
    "start_time": "2024-03-15T20:52:56.033Z"
   },
   {
    "duration": 19,
    "start_time": "2024-03-15T20:52:56.147Z"
   },
   {
    "duration": 5,
    "start_time": "2024-03-15T20:52:56.168Z"
   },
   {
    "duration": 240,
    "start_time": "2024-03-15T20:52:56.174Z"
   },
   {
    "duration": 389,
    "start_time": "2024-03-15T20:52:56.416Z"
   },
   {
    "duration": 9,
    "start_time": "2024-03-15T20:52:56.807Z"
   },
   {
    "duration": 13,
    "start_time": "2024-03-15T20:52:56.818Z"
   },
   {
    "duration": 59,
    "start_time": "2024-03-15T20:52:56.832Z"
   },
   {
    "duration": 18,
    "start_time": "2024-03-15T20:52:56.893Z"
   },
   {
    "duration": 16,
    "start_time": "2024-03-15T20:52:56.912Z"
   },
   {
    "duration": 4,
    "start_time": "2024-03-15T20:52:56.930Z"
   },
   {
    "duration": 52,
    "start_time": "2024-03-15T20:52:56.935Z"
   },
   {
    "duration": 14,
    "start_time": "2024-03-15T20:52:56.989Z"
   },
   {
    "duration": 517,
    "start_time": "2024-03-15T20:52:57.005Z"
   },
   {
    "duration": 23,
    "start_time": "2024-03-15T20:52:57.524Z"
   },
   {
    "duration": 19,
    "start_time": "2024-03-15T20:52:57.549Z"
   },
   {
    "duration": 30,
    "start_time": "2024-03-15T20:52:57.570Z"
   },
   {
    "duration": 93,
    "start_time": "2024-03-15T20:52:57.602Z"
   },
   {
    "duration": 35,
    "start_time": "2024-03-15T20:52:57.697Z"
   },
   {
    "duration": 5,
    "start_time": "2024-03-15T20:52:57.733Z"
   },
   {
    "duration": 35,
    "start_time": "2024-03-15T20:52:57.739Z"
   },
   {
    "duration": 9,
    "start_time": "2024-03-15T20:52:57.775Z"
   },
   {
    "duration": 3187,
    "start_time": "2024-03-15T20:52:57.785Z"
   },
   {
    "duration": 194,
    "start_time": "2024-03-15T20:53:00.974Z"
   },
   {
    "duration": 4,
    "start_time": "2024-03-15T20:53:01.170Z"
   },
   {
    "duration": 1109,
    "start_time": "2024-03-16T12:53:00.744Z"
   },
   {
    "duration": 88,
    "start_time": "2024-03-16T12:53:01.855Z"
   },
   {
    "duration": 11,
    "start_time": "2024-03-16T12:53:01.945Z"
   },
   {
    "duration": 72,
    "start_time": "2024-03-16T12:53:01.958Z"
   },
   {
    "duration": 13,
    "start_time": "2024-03-16T12:53:02.032Z"
   },
   {
    "duration": 48,
    "start_time": "2024-03-16T12:53:02.046Z"
   },
   {
    "duration": 5,
    "start_time": "2024-03-16T12:53:02.095Z"
   },
   {
    "duration": 41,
    "start_time": "2024-03-16T12:53:02.102Z"
   },
   {
    "duration": 28,
    "start_time": "2024-03-16T12:53:02.145Z"
   },
   {
    "duration": 32,
    "start_time": "2024-03-16T12:53:02.177Z"
   },
   {
    "duration": 24,
    "start_time": "2024-03-16T12:53:02.211Z"
   },
   {
    "duration": 31,
    "start_time": "2024-03-16T12:53:02.236Z"
   },
   {
    "duration": 43,
    "start_time": "2024-03-16T12:53:02.269Z"
   },
   {
    "duration": 406,
    "start_time": "2024-03-16T12:53:02.314Z"
   },
   {
    "duration": 178,
    "start_time": "2024-03-16T12:53:02.721Z"
   },
   {
    "duration": 106,
    "start_time": "2024-03-16T12:53:02.900Z"
   },
   {
    "duration": 7,
    "start_time": "2024-03-16T12:53:03.008Z"
   },
   {
    "duration": 3,
    "start_time": "2024-03-16T12:53:03.017Z"
   },
   {
    "duration": 277,
    "start_time": "2024-03-16T12:53:03.022Z"
   },
   {
    "duration": 391,
    "start_time": "2024-03-16T12:53:03.301Z"
   },
   {
    "duration": 11,
    "start_time": "2024-03-16T12:53:03.694Z"
   },
   {
    "duration": 16,
    "start_time": "2024-03-16T12:53:03.706Z"
   },
   {
    "duration": 62,
    "start_time": "2024-03-16T12:53:03.724Z"
   },
   {
    "duration": 18,
    "start_time": "2024-03-16T12:53:03.788Z"
   },
   {
    "duration": 15,
    "start_time": "2024-03-16T12:53:03.808Z"
   },
   {
    "duration": 4,
    "start_time": "2024-03-16T12:53:03.824Z"
   },
   {
    "duration": 41,
    "start_time": "2024-03-16T12:53:03.830Z"
   },
   {
    "duration": 15,
    "start_time": "2024-03-16T12:53:03.874Z"
   },
   {
    "duration": 507,
    "start_time": "2024-03-16T12:53:03.891Z"
   },
   {
    "duration": 28,
    "start_time": "2024-03-16T12:53:04.400Z"
   },
   {
    "duration": 8,
    "start_time": "2024-03-16T12:53:04.429Z"
   },
   {
    "duration": 11,
    "start_time": "2024-03-16T12:53:04.438Z"
   },
   {
    "duration": 96,
    "start_time": "2024-03-16T12:53:04.450Z"
   },
   {
    "duration": 36,
    "start_time": "2024-03-16T12:53:04.547Z"
   },
   {
    "duration": 5,
    "start_time": "2024-03-16T12:53:04.585Z"
   },
   {
    "duration": 12,
    "start_time": "2024-03-16T12:53:04.591Z"
   },
   {
    "duration": 5,
    "start_time": "2024-03-16T12:53:04.605Z"
   },
   {
    "duration": 3322,
    "start_time": "2024-03-16T12:53:04.612Z"
   },
   {
    "duration": 198,
    "start_time": "2024-03-16T12:53:07.935Z"
   },
   {
    "duration": 4,
    "start_time": "2024-03-16T12:53:08.135Z"
   },
   {
    "duration": 103,
    "start_time": "2024-03-16T13:00:29.118Z"
   },
   {
    "duration": 150,
    "start_time": "2024-03-16T13:00:45.509Z"
   },
   {
    "duration": 104,
    "start_time": "2024-03-16T13:01:01.198Z"
   },
   {
    "duration": 14,
    "start_time": "2024-03-16T13:01:07.006Z"
   },
   {
    "duration": 15,
    "start_time": "2024-03-16T13:01:13.718Z"
   },
   {
    "duration": 8,
    "start_time": "2024-03-16T13:01:25.102Z"
   },
   {
    "duration": 5,
    "start_time": "2024-03-16T13:02:06.246Z"
   },
   {
    "duration": 1060,
    "start_time": "2024-03-16T13:03:59.966Z"
   },
   {
    "duration": 72,
    "start_time": "2024-03-16T13:04:01.027Z"
   },
   {
    "duration": 40,
    "start_time": "2024-03-16T13:04:01.100Z"
   },
   {
    "duration": 87,
    "start_time": "2024-03-16T13:04:01.142Z"
   },
   {
    "duration": 22,
    "start_time": "2024-03-16T13:04:01.230Z"
   },
   {
    "duration": 65,
    "start_time": "2024-03-16T13:04:01.253Z"
   },
   {
    "duration": 29,
    "start_time": "2024-03-16T13:04:01.319Z"
   },
   {
    "duration": 70,
    "start_time": "2024-03-16T13:04:01.349Z"
   },
   {
    "duration": 106,
    "start_time": "2024-03-16T13:04:01.421Z"
   },
   {
    "duration": 106,
    "start_time": "2024-03-16T13:04:01.529Z"
   },
   {
    "duration": 104,
    "start_time": "2024-03-16T13:04:01.637Z"
   },
   {
    "duration": 48,
    "start_time": "2024-03-16T13:04:01.742Z"
   },
   {
    "duration": 55,
    "start_time": "2024-03-16T13:04:01.792Z"
   },
   {
    "duration": 377,
    "start_time": "2024-03-16T13:04:01.849Z"
   },
   {
    "duration": 167,
    "start_time": "2024-03-16T13:04:02.228Z"
   },
   {
    "duration": 102,
    "start_time": "2024-03-16T13:04:02.397Z"
   },
   {
    "duration": 7,
    "start_time": "2024-03-16T13:04:02.501Z"
   },
   {
    "duration": 31,
    "start_time": "2024-03-16T13:04:02.510Z"
   },
   {
    "duration": 286,
    "start_time": "2024-03-16T13:04:02.544Z"
   },
   {
    "duration": 375,
    "start_time": "2024-03-16T13:04:02.832Z"
   },
   {
    "duration": 10,
    "start_time": "2024-03-16T13:04:03.208Z"
   },
   {
    "duration": 14,
    "start_time": "2024-03-16T13:04:03.220Z"
   },
   {
    "duration": 50,
    "start_time": "2024-03-16T13:04:03.235Z"
   },
   {
    "duration": 17,
    "start_time": "2024-03-16T13:04:03.287Z"
   },
   {
    "duration": 25,
    "start_time": "2024-03-16T13:04:03.305Z"
   },
   {
    "duration": 36,
    "start_time": "2024-03-16T13:04:03.332Z"
   },
   {
    "duration": 38,
    "start_time": "2024-03-16T13:04:03.369Z"
   },
   {
    "duration": 20,
    "start_time": "2024-03-16T13:04:03.410Z"
   },
   {
    "duration": 498,
    "start_time": "2024-03-16T13:04:03.432Z"
   },
   {
    "duration": 25,
    "start_time": "2024-03-16T13:04:03.931Z"
   },
   {
    "duration": 13,
    "start_time": "2024-03-16T13:04:03.957Z"
   },
   {
    "duration": 20,
    "start_time": "2024-03-16T13:04:03.971Z"
   },
   {
    "duration": 80,
    "start_time": "2024-03-16T13:04:03.993Z"
   },
   {
    "duration": 28,
    "start_time": "2024-03-16T13:04:04.075Z"
   },
   {
    "duration": 5,
    "start_time": "2024-03-16T13:04:04.104Z"
   },
   {
    "duration": 6,
    "start_time": "2024-03-16T13:04:04.110Z"
   },
   {
    "duration": 24,
    "start_time": "2024-03-16T13:04:04.117Z"
   },
   {
    "duration": 3135,
    "start_time": "2024-03-16T13:04:04.143Z"
   },
   {
    "duration": 197,
    "start_time": "2024-03-16T13:04:07.280Z"
   },
   {
    "duration": 5,
    "start_time": "2024-03-16T13:04:07.478Z"
   }
  ],
  "kernelspec": {
   "display_name": "Python 3 (ipykernel)",
   "language": "python",
   "name": "python3"
  },
  "language_info": {
   "codemirror_mode": {
    "name": "ipython",
    "version": 3
   },
   "file_extension": ".py",
   "mimetype": "text/x-python",
   "name": "python",
   "nbconvert_exporter": "python",
   "pygments_lexer": "ipython3",
   "version": "3.9.18"
  },
  "toc": {
   "base_numbering": 1,
   "nav_menu": {
    "height": "141px",
    "width": "312px"
   },
   "number_sections": true,
   "sideBar": true,
   "skip_h1_title": true,
   "title_cell": "Содержание",
   "title_sidebar": "Содержание",
   "toc_cell": true,
   "toc_position": {
    "height": "calc(100% - 180px)",
    "left": "10px",
    "top": "150px",
    "width": "635px"
   },
   "toc_section_display": true,
   "toc_window_display": true
  }
 },
 "nbformat": 4,
 "nbformat_minor": 5
}
