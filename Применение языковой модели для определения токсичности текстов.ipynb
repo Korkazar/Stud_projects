{
 "cells": [
  {
   "cell_type": "markdown",
   "metadata": {
    "toc": true
   },
   "source": [
    "<h1>Содержание<span class=\"tocSkip\"></span></h1>\n",
    "<div class=\"toc\"><ul class=\"toc-item\"><li><span><a href=\"#Подготовка\" data-toc-modified-id=\"Подготовка-1\"><span class=\"toc-item-num\">1&nbsp;&nbsp;</span>Подготовка</a></span><ul class=\"toc-item\"><li><span><a href=\"#Загрузка-данных\" data-toc-modified-id=\"Загрузка-данных-1.1\"><span class=\"toc-item-num\">1.1&nbsp;&nbsp;</span>Загрузка данных</a></span></li><li><span><a href=\"#Сэмплирование-данных\" data-toc-modified-id=\"Сэмплирование-данных-1.2\"><span class=\"toc-item-num\">1.2&nbsp;&nbsp;</span>Сэмплирование данных</a></span></li></ul></li><li><span><a href=\"#Обучение\" data-toc-modified-id=\"Обучение-2\"><span class=\"toc-item-num\">2&nbsp;&nbsp;</span>Обучение</a></span><ul class=\"toc-item\"><li><span><a href=\"#Модель-Google-Bert\" data-toc-modified-id=\"Модель-Google-Bert-2.1\"><span class=\"toc-item-num\">2.1&nbsp;&nbsp;</span>Модель Google-Bert</a></span></li><li><span><a href=\"#Формирование-признаков\" data-toc-modified-id=\"Формирование-признаков-2.2\"><span class=\"toc-item-num\">2.2&nbsp;&nbsp;</span>Формирование признаков</a></span></li><li><span><a href=\"#Обучение-моделей\" data-toc-modified-id=\"Обучение-моделей-2.3\"><span class=\"toc-item-num\">2.3&nbsp;&nbsp;</span>Обучение моделей</a></span></li><li><span><a href=\"#Baseline-метрика\" data-toc-modified-id=\"Baseline-метрика-2.4\"><span class=\"toc-item-num\">2.4&nbsp;&nbsp;</span>Baseline-метрика</a></span></li><li><span><a href=\"#Качество-модели-на-тестовой-выборке\" data-toc-modified-id=\"Качество-модели-на-тестовой-выборке-2.5\"><span class=\"toc-item-num\">2.5&nbsp;&nbsp;</span>Качество модели на тестовой выборке</a></span></li><li><span><a href=\"#Анализ-модели\" data-toc-modified-id=\"Анализ-модели-2.6\"><span class=\"toc-item-num\">2.6&nbsp;&nbsp;</span>Анализ модели</a></span></li></ul></li><li><span><a href=\"#Выводы\" data-toc-modified-id=\"Выводы-3\"><span class=\"toc-item-num\">3&nbsp;&nbsp;</span>Выводы</a></span></li><li><span><a href=\"#Чек-лист-проверки\" data-toc-modified-id=\"Чек-лист-проверки-4\"><span class=\"toc-item-num\">4&nbsp;&nbsp;</span>Чек-лист проверки</a></span></li></ul></div>"
   ]
  },
  {
   "cell_type": "markdown",
   "metadata": {},
   "source": [
    "# Проект для «Викишоп» с BERT"
   ]
  },
  {
   "cell_type": "markdown",
   "metadata": {},
   "source": [
    "Согласно проектному заданию, интернет-магазин «Викишоп» запускает новый сервис. Пользователи смогут редактировать и дополнять описания товаров, как в вики-сообществах.   \n",
    "Магазину нужен инструмент, который будет искать токсичные комментарии и отправлять их на модерацию. \n",
    "\n",
    "Необходимо обучить модель, которая будет классифицировать комментарии на позитивные и негативные. Заказчиком предоставлен набор данных с разметкой о токсичности правок.\n",
    "\n",
    "Таргетное значение метрики качества *F1* - не меньше 0.75. \n",
    "\n",
    "Для выполнения проекта используется предобученная английская базовая модель *BERT*, без учета регистра.\n",
    "\n",
    "**Описание данных**\n",
    "\n",
    "Данные находятся в файле `toxic_comments.csv`. Столбец *text* в нём содержит текст комментария, а *toxic* — целевой признак."
   ]
  },
  {
   "cell_type": "code",
   "execution_count": 1,
   "metadata": {
    "scrolled": false
   },
   "outputs": [
    {
     "name": "stdout",
     "output_type": "stream",
     "text": [
      "Requirement already satisfied: scipy in c:\\users\\ansyz\\anaconda3\\envs\\practicum\\lib\\site-packages (1.13.1)\n",
      "Requirement already satisfied: numpy<2.3,>=1.22.4 in c:\\users\\ansyz\\anaconda3\\envs\\practicum\\lib\\site-packages (from scipy) (1.26.4)\n",
      "Requirement already satisfied: numpy==1.26.4 in c:\\users\\ansyz\\anaconda3\\envs\\practicum\\lib\\site-packages (1.26.4)\n",
      "Requirement already satisfied: numba in c:\\users\\ansyz\\anaconda3\\envs\\practicum\\lib\\site-packages (0.60.0)\n",
      "Requirement already satisfied: llvmlite<0.44,>=0.43.0dev0 in c:\\users\\ansyz\\anaconda3\\envs\\practicum\\lib\\site-packages (from numba) (0.43.0)\n",
      "Requirement already satisfied: numpy<2.1,>=1.22 in c:\\users\\ansyz\\anaconda3\\envs\\practicum\\lib\\site-packages (from numba) (1.26.4)\n",
      "Requirement already satisfied: scikit-learn in c:\\users\\ansyz\\anaconda3\\envs\\practicum\\lib\\site-packages (1.5.1)\n",
      "Requirement already satisfied: numpy>=1.19.5 in c:\\users\\ansyz\\anaconda3\\envs\\practicum\\lib\\site-packages (from scikit-learn) (1.26.4)\n",
      "Requirement already satisfied: scipy>=1.6.0 in c:\\users\\ansyz\\anaconda3\\envs\\practicum\\lib\\site-packages (from scikit-learn) (1.13.1)\n",
      "Requirement already satisfied: joblib>=1.2.0 in c:\\users\\ansyz\\anaconda3\\envs\\practicum\\lib\\site-packages (from scikit-learn) (1.4.2)\n",
      "Requirement already satisfied: threadpoolctl>=3.1.0 in c:\\users\\ansyz\\anaconda3\\envs\\practicum\\lib\\site-packages (from scikit-learn) (3.5.0)\n",
      "Requirement already satisfied: matplotlib in c:\\users\\ansyz\\anaconda3\\envs\\practicum\\lib\\site-packages (3.9.1)\n",
      "Requirement already satisfied: contourpy>=1.0.1 in c:\\users\\ansyz\\anaconda3\\envs\\practicum\\lib\\site-packages (from matplotlib) (1.2.1)\n",
      "Requirement already satisfied: cycler>=0.10 in c:\\users\\ansyz\\anaconda3\\envs\\practicum\\lib\\site-packages (from matplotlib) (0.12.1)\n",
      "Requirement already satisfied: fonttools>=4.22.0 in c:\\users\\ansyz\\anaconda3\\envs\\practicum\\lib\\site-packages (from matplotlib) (4.53.1)\n",
      "Requirement already satisfied: kiwisolver>=1.3.1 in c:\\users\\ansyz\\anaconda3\\envs\\practicum\\lib\\site-packages (from matplotlib) (1.4.5)\n",
      "Requirement already satisfied: numpy>=1.23 in c:\\users\\ansyz\\anaconda3\\envs\\practicum\\lib\\site-packages (from matplotlib) (1.26.4)\n",
      "Requirement already satisfied: packaging>=20.0 in c:\\users\\ansyz\\anaconda3\\envs\\practicum\\lib\\site-packages (from matplotlib) (24.1)\n",
      "Requirement already satisfied: pillow>=8 in c:\\users\\ansyz\\anaconda3\\envs\\practicum\\lib\\site-packages (from matplotlib) (10.4.0)\n",
      "Requirement already satisfied: pyparsing>=2.3.1 in c:\\users\\ansyz\\anaconda3\\envs\\practicum\\lib\\site-packages (from matplotlib) (3.1.2)\n",
      "Requirement already satisfied: python-dateutil>=2.7 in c:\\users\\ansyz\\anaconda3\\envs\\practicum\\lib\\site-packages (from matplotlib) (2.9.0)\n",
      "Requirement already satisfied: importlib-resources>=3.2.0 in c:\\users\\ansyz\\anaconda3\\envs\\practicum\\lib\\site-packages (from matplotlib) (6.4.0)\n",
      "Requirement already satisfied: zipp>=3.1.0 in c:\\users\\ansyz\\anaconda3\\envs\\practicum\\lib\\site-packages (from importlib-resources>=3.2.0->matplotlib) (3.19.2)\n",
      "Requirement already satisfied: six>=1.5 in c:\\users\\ansyz\\anaconda3\\envs\\practicum\\lib\\site-packages (from python-dateutil>=2.7->matplotlib) (1.16.0)\n",
      "Requirement already satisfied: seaborn in c:\\users\\ansyz\\anaconda3\\envs\\practicum\\lib\\site-packages (0.13.2)\n",
      "Requirement already satisfied: numpy!=1.24.0,>=1.20 in c:\\users\\ansyz\\anaconda3\\envs\\practicum\\lib\\site-packages (from seaborn) (1.26.4)\n",
      "Requirement already satisfied: pandas>=1.2 in c:\\users\\ansyz\\anaconda3\\envs\\practicum\\lib\\site-packages (from seaborn) (1.2.4)\n",
      "Requirement already satisfied: matplotlib!=3.6.1,>=3.4 in c:\\users\\ansyz\\anaconda3\\envs\\practicum\\lib\\site-packages (from seaborn) (3.9.1)\n",
      "Requirement already satisfied: contourpy>=1.0.1 in c:\\users\\ansyz\\anaconda3\\envs\\practicum\\lib\\site-packages (from matplotlib!=3.6.1,>=3.4->seaborn) (1.2.1)\n",
      "Requirement already satisfied: cycler>=0.10 in c:\\users\\ansyz\\anaconda3\\envs\\practicum\\lib\\site-packages (from matplotlib!=3.6.1,>=3.4->seaborn) (0.12.1)\n",
      "Requirement already satisfied: fonttools>=4.22.0 in c:\\users\\ansyz\\anaconda3\\envs\\practicum\\lib\\site-packages (from matplotlib!=3.6.1,>=3.4->seaborn) (4.53.1)\n",
      "Requirement already satisfied: kiwisolver>=1.3.1 in c:\\users\\ansyz\\anaconda3\\envs\\practicum\\lib\\site-packages (from matplotlib!=3.6.1,>=3.4->seaborn) (1.4.5)\n",
      "Requirement already satisfied: packaging>=20.0 in c:\\users\\ansyz\\anaconda3\\envs\\practicum\\lib\\site-packages (from matplotlib!=3.6.1,>=3.4->seaborn) (24.1)\n",
      "Requirement already satisfied: pillow>=8 in c:\\users\\ansyz\\anaconda3\\envs\\practicum\\lib\\site-packages (from matplotlib!=3.6.1,>=3.4->seaborn) (10.4.0)\n",
      "Requirement already satisfied: pyparsing>=2.3.1 in c:\\users\\ansyz\\anaconda3\\envs\\practicum\\lib\\site-packages (from matplotlib!=3.6.1,>=3.4->seaborn) (3.1.2)\n",
      "Requirement already satisfied: python-dateutil>=2.7 in c:\\users\\ansyz\\anaconda3\\envs\\practicum\\lib\\site-packages (from matplotlib!=3.6.1,>=3.4->seaborn) (2.9.0)\n",
      "Requirement already satisfied: importlib-resources>=3.2.0 in c:\\users\\ansyz\\anaconda3\\envs\\practicum\\lib\\site-packages (from matplotlib!=3.6.1,>=3.4->seaborn) (6.4.0)\n",
      "Requirement already satisfied: pytz>=2017.3 in c:\\users\\ansyz\\anaconda3\\envs\\practicum\\lib\\site-packages (from pandas>=1.2->seaborn) (2024.1)\n",
      "Requirement already satisfied: zipp>=3.1.0 in c:\\users\\ansyz\\anaconda3\\envs\\practicum\\lib\\site-packages (from importlib-resources>=3.2.0->matplotlib!=3.6.1,>=3.4->seaborn) (3.19.2)\n",
      "Requirement already satisfied: six>=1.5 in c:\\users\\ansyz\\anaconda3\\envs\\practicum\\lib\\site-packages (from python-dateutil>=2.7->matplotlib!=3.6.1,>=3.4->seaborn) (1.16.0)\n",
      "Requirement already satisfied: optuna in c:\\users\\ansyz\\anaconda3\\envs\\practicum\\lib\\site-packages (3.6.1)\n",
      "Requirement already satisfied: alembic>=1.5.0 in c:\\users\\ansyz\\anaconda3\\envs\\practicum\\lib\\site-packages (from optuna) (1.13.2)\n",
      "Requirement already satisfied: colorlog in c:\\users\\ansyz\\anaconda3\\envs\\practicum\\lib\\site-packages (from optuna) (6.8.2)\n",
      "Requirement already satisfied: numpy in c:\\users\\ansyz\\anaconda3\\envs\\practicum\\lib\\site-packages (from optuna) (1.26.4)\n",
      "Requirement already satisfied: packaging>=20.0 in c:\\users\\ansyz\\anaconda3\\envs\\practicum\\lib\\site-packages (from optuna) (24.1)\n",
      "Requirement already satisfied: sqlalchemy>=1.3.0 in c:\\users\\ansyz\\anaconda3\\envs\\practicum\\lib\\site-packages (from optuna) (1.4.15)\n",
      "Requirement already satisfied: tqdm in c:\\users\\ansyz\\anaconda3\\envs\\practicum\\lib\\site-packages (from optuna) (4.66.4)\n",
      "Requirement already satisfied: PyYAML in c:\\users\\ansyz\\anaconda3\\envs\\practicum\\lib\\site-packages (from optuna) (6.0.1)\n",
      "Requirement already satisfied: Mako in c:\\users\\ansyz\\anaconda3\\envs\\practicum\\lib\\site-packages (from alembic>=1.5.0->optuna) (1.3.5)\n",
      "Requirement already satisfied: typing-extensions>=4 in c:\\users\\ansyz\\anaconda3\\envs\\practicum\\lib\\site-packages (from alembic>=1.5.0->optuna) (4.12.2)\n",
      "Requirement already satisfied: greenlet!=0.4.17 in c:\\users\\ansyz\\anaconda3\\envs\\practicum\\lib\\site-packages (from sqlalchemy>=1.3.0->optuna) (3.0.3)\n",
      "Requirement already satisfied: colorama in c:\\users\\ansyz\\anaconda3\\envs\\practicum\\lib\\site-packages (from colorlog->optuna) (0.4.6)\n",
      "Requirement already satisfied: MarkupSafe>=0.9.2 in c:\\users\\ansyz\\anaconda3\\envs\\practicum\\lib\\site-packages (from Mako->alembic>=1.5.0->optuna) (2.1.5)\n",
      "Looking in indexes: https://download.pytorch.org/whl/cu118\n",
      "Requirement already satisfied: torch in c:\\users\\ansyz\\anaconda3\\envs\\practicum\\lib\\site-packages (2.4.0+cu118)\n",
      "Requirement already satisfied: torchvision in c:\\users\\ansyz\\anaconda3\\envs\\practicum\\lib\\site-packages (0.19.0+cu118)\n",
      "Requirement already satisfied: torchaudio in c:\\users\\ansyz\\anaconda3\\envs\\practicum\\lib\\site-packages (2.4.0+cu118)\n",
      "Requirement already satisfied: filelock in c:\\users\\ansyz\\anaconda3\\envs\\practicum\\lib\\site-packages (from torch) (3.15.4)\n",
      "Requirement already satisfied: typing-extensions>=4.8.0 in c:\\users\\ansyz\\anaconda3\\envs\\practicum\\lib\\site-packages (from torch) (4.12.2)\n",
      "Requirement already satisfied: sympy in c:\\users\\ansyz\\anaconda3\\envs\\practicum\\lib\\site-packages (from torch) (1.13.1)\n",
      "Requirement already satisfied: networkx in c:\\users\\ansyz\\anaconda3\\envs\\practicum\\lib\\site-packages (from torch) (3.2.1)\n",
      "Requirement already satisfied: jinja2 in c:\\users\\ansyz\\anaconda3\\envs\\practicum\\lib\\site-packages (from torch) (3.1.4)\n",
      "Requirement already satisfied: fsspec in c:\\users\\ansyz\\anaconda3\\envs\\practicum\\lib\\site-packages (from torch) (2024.6.1)\n",
      "Requirement already satisfied: numpy in c:\\users\\ansyz\\anaconda3\\envs\\practicum\\lib\\site-packages (from torchvision) (1.26.4)\n",
      "Requirement already satisfied: pillow!=8.3.*,>=5.3.0 in c:\\users\\ansyz\\anaconda3\\envs\\practicum\\lib\\site-packages (from torchvision) (10.4.0)\n",
      "Requirement already satisfied: MarkupSafe>=2.0 in c:\\users\\ansyz\\anaconda3\\envs\\practicum\\lib\\site-packages (from jinja2->torch) (2.1.5)\n",
      "Requirement already satisfied: mpmath<1.4,>=1.1.0 in c:\\users\\ansyz\\anaconda3\\envs\\practicum\\lib\\site-packages (from sympy->torch) (1.3.0)\n",
      "Requirement already satisfied: transformers in c:\\users\\ansyz\\anaconda3\\envs\\practicum\\lib\\site-packages (4.43.0)\n",
      "Requirement already satisfied: filelock in c:\\users\\ansyz\\anaconda3\\envs\\practicum\\lib\\site-packages (from transformers) (3.15.4)\n",
      "Requirement already satisfied: huggingface-hub<1.0,>=0.23.2 in c:\\users\\ansyz\\anaconda3\\envs\\practicum\\lib\\site-packages (from transformers) (0.24.1)\n",
      "Requirement already satisfied: numpy>=1.17 in c:\\users\\ansyz\\anaconda3\\envs\\practicum\\lib\\site-packages (from transformers) (1.26.4)\n",
      "Requirement already satisfied: packaging>=20.0 in c:\\users\\ansyz\\anaconda3\\envs\\practicum\\lib\\site-packages (from transformers) (24.1)\n",
      "Requirement already satisfied: pyyaml>=5.1 in c:\\users\\ansyz\\anaconda3\\envs\\practicum\\lib\\site-packages (from transformers) (6.0.1)\n",
      "Requirement already satisfied: regex!=2019.12.17 in c:\\users\\ansyz\\anaconda3\\envs\\practicum\\lib\\site-packages (from transformers) (2022.3.15)\n",
      "Requirement already satisfied: requests in c:\\users\\ansyz\\anaconda3\\envs\\practicum\\lib\\site-packages (from transformers) (2.32.3)\n",
      "Requirement already satisfied: tokenizers<0.20,>=0.19 in c:\\users\\ansyz\\anaconda3\\envs\\practicum\\lib\\site-packages (from transformers) (0.19.1)\n",
      "Requirement already satisfied: safetensors>=0.4.1 in c:\\users\\ansyz\\anaconda3\\envs\\practicum\\lib\\site-packages (from transformers) (0.4.3)\n",
      "Requirement already satisfied: tqdm>=4.27 in c:\\users\\ansyz\\anaconda3\\envs\\practicum\\lib\\site-packages (from transformers) (4.66.4)\n",
      "Requirement already satisfied: fsspec>=2023.5.0 in c:\\users\\ansyz\\anaconda3\\envs\\practicum\\lib\\site-packages (from huggingface-hub<1.0,>=0.23.2->transformers) (2024.6.1)\n",
      "Requirement already satisfied: typing-extensions>=3.7.4.3 in c:\\users\\ansyz\\anaconda3\\envs\\practicum\\lib\\site-packages (from huggingface-hub<1.0,>=0.23.2->transformers) (4.12.2)\n",
      "Requirement already satisfied: colorama in c:\\users\\ansyz\\anaconda3\\envs\\practicum\\lib\\site-packages (from tqdm>=4.27->transformers) (0.4.6)\n",
      "Requirement already satisfied: charset-normalizer<4,>=2 in c:\\users\\ansyz\\anaconda3\\envs\\practicum\\lib\\site-packages (from requests->transformers) (3.3.2)\n",
      "Requirement already satisfied: idna<4,>=2.5 in c:\\users\\ansyz\\anaconda3\\envs\\practicum\\lib\\site-packages (from requests->transformers) (3.7)\n",
      "Requirement already satisfied: urllib3<3,>=1.21.1 in c:\\users\\ansyz\\anaconda3\\envs\\practicum\\lib\\site-packages (from requests->transformers) (2.2.2)\n",
      "Requirement already satisfied: certifi>=2017.4.17 in c:\\users\\ansyz\\anaconda3\\envs\\practicum\\lib\\site-packages (from requests->transformers) (2024.7.4)\n",
      "Requirement already satisfied: imblearn in c:\\users\\ansyz\\anaconda3\\envs\\practicum\\lib\\site-packages (0.0)\n",
      "Requirement already satisfied: imbalanced-learn in c:\\users\\ansyz\\anaconda3\\envs\\practicum\\lib\\site-packages (from imblearn) (0.12.3)\n",
      "Requirement already satisfied: numpy>=1.17.3 in c:\\users\\ansyz\\anaconda3\\envs\\practicum\\lib\\site-packages (from imbalanced-learn->imblearn) (1.26.4)\n",
      "Requirement already satisfied: scipy>=1.5.0 in c:\\users\\ansyz\\anaconda3\\envs\\practicum\\lib\\site-packages (from imbalanced-learn->imblearn) (1.13.1)\n",
      "Requirement already satisfied: scikit-learn>=1.0.2 in c:\\users\\ansyz\\anaconda3\\envs\\practicum\\lib\\site-packages (from imbalanced-learn->imblearn) (1.5.1)\n",
      "Requirement already satisfied: joblib>=1.1.1 in c:\\users\\ansyz\\anaconda3\\envs\\practicum\\lib\\site-packages (from imbalanced-learn->imblearn) (1.4.2)\n",
      "Requirement already satisfied: threadpoolctl>=2.0.0 in c:\\users\\ansyz\\anaconda3\\envs\\practicum\\lib\\site-packages (from imbalanced-learn->imblearn) (3.5.0)\n",
      "Requirement already satisfied: shap in c:\\users\\ansyz\\anaconda3\\envs\\practicum\\lib\\site-packages (0.46.0)\n",
      "Requirement already satisfied: numpy in c:\\users\\ansyz\\anaconda3\\envs\\practicum\\lib\\site-packages (from shap) (1.26.4)\n",
      "Requirement already satisfied: scipy in c:\\users\\ansyz\\anaconda3\\envs\\practicum\\lib\\site-packages (from shap) (1.13.1)\n",
      "Requirement already satisfied: scikit-learn in c:\\users\\ansyz\\anaconda3\\envs\\practicum\\lib\\site-packages (from shap) (1.5.1)\n",
      "Requirement already satisfied: pandas in c:\\users\\ansyz\\anaconda3\\envs\\practicum\\lib\\site-packages (from shap) (1.2.4)\n",
      "Requirement already satisfied: tqdm>=4.27.0 in c:\\users\\ansyz\\anaconda3\\envs\\practicum\\lib\\site-packages (from shap) (4.66.4)\n",
      "Requirement already satisfied: packaging>20.9 in c:\\users\\ansyz\\anaconda3\\envs\\practicum\\lib\\site-packages (from shap) (24.1)\n",
      "Requirement already satisfied: slicer==0.0.8 in c:\\users\\ansyz\\anaconda3\\envs\\practicum\\lib\\site-packages (from shap) (0.0.8)\n",
      "Requirement already satisfied: numba in c:\\users\\ansyz\\anaconda3\\envs\\practicum\\lib\\site-packages (from shap) (0.60.0)\n",
      "Requirement already satisfied: cloudpickle in c:\\users\\ansyz\\anaconda3\\envs\\practicum\\lib\\site-packages (from shap) (3.0.0)\n",
      "Requirement already satisfied: colorama in c:\\users\\ansyz\\anaconda3\\envs\\practicum\\lib\\site-packages (from tqdm>=4.27.0->shap) (0.4.6)\n",
      "Requirement already satisfied: llvmlite<0.44,>=0.43.0dev0 in c:\\users\\ansyz\\anaconda3\\envs\\practicum\\lib\\site-packages (from numba->shap) (0.43.0)\n",
      "Requirement already satisfied: python-dateutil>=2.7.3 in c:\\users\\ansyz\\anaconda3\\envs\\practicum\\lib\\site-packages (from pandas->shap) (2.9.0)\n",
      "Requirement already satisfied: pytz>=2017.3 in c:\\users\\ansyz\\anaconda3\\envs\\practicum\\lib\\site-packages (from pandas->shap) (2024.1)\n",
      "Requirement already satisfied: joblib>=1.2.0 in c:\\users\\ansyz\\anaconda3\\envs\\practicum\\lib\\site-packages (from scikit-learn->shap) (1.4.2)\n",
      "Requirement already satisfied: threadpoolctl>=3.1.0 in c:\\users\\ansyz\\anaconda3\\envs\\practicum\\lib\\site-packages (from scikit-learn->shap) (3.5.0)\n",
      "Requirement already satisfied: six>=1.5 in c:\\users\\ansyz\\anaconda3\\envs\\practicum\\lib\\site-packages (from python-dateutil>=2.7.3->pandas->shap) (1.16.0)\n"
     ]
    }
   ],
   "source": [
    "#Обновим критические библиотеки\n",
    "!pip install -U scipy\n",
    "!pip install numpy==1.26.4\n",
    "!pip install -U numba\n",
    "!pip install -U scikit-learn\n",
    "!pip install -U matplotlib\n",
    "!pip install -U seaborn\n",
    "!pip install -U optuna\n",
    "!pip install torch torchvision torchaudio --index-url https://download.pytorch.org/whl/cu118\n",
    "!pip install transformers\n",
    "!pip install imblearn\n",
    "!pip install -U shap"
   ]
  },
  {
   "cell_type": "code",
   "execution_count": 2,
   "metadata": {},
   "outputs": [],
   "source": [
    "import pandas as pd\n",
    "import torch\n",
    "import transformers\n",
    "import numpy as np\n",
    "import seaborn as sns\n",
    "import time\n",
    "\n",
    "from sklearn.ensemble import RandomForestClassifier\n",
    "from sklearn.linear_model import LogisticRegression\n",
    "from sklearn.metrics import f1_score\n",
    "from sklearn.dummy import DummyClassifier\n",
    "from sklearn.model_selection import train_test_split\n",
    "from sklearn.model_selection import cross_val_score\n",
    "\n",
    "import matplotlib.pyplot as plt\n",
    "import matplotlib.ticker as ticker\n",
    "\n",
    "import shap\n",
    "\n",
    "import optuna\n",
    "from transformers import AutoTokenizer, AutoModelForSequenceClassification\n",
    "from tqdm import notebook\n",
    "from imblearn.under_sampling import RandomUnderSampler"
   ]
  },
  {
   "cell_type": "code",
   "execution_count": 3,
   "metadata": {},
   "outputs": [],
   "source": [
    "#Установим общие правила\n",
    "pd.set_option('display.max_columns', 35)\n",
    "sns.set_theme(rc={\"figure.dpi\": 96})"
   ]
  },
  {
   "cell_type": "code",
   "execution_count": 4,
   "metadata": {},
   "outputs": [],
   "source": [
    "#Установим глобальные переменные\n",
    "RANDOM_STATE = 42\n",
    "TEST_SIZE = 0.2"
   ]
  },
  {
   "cell_type": "markdown",
   "metadata": {},
   "source": [
    "## Подготовка"
   ]
  },
  {
   "cell_type": "markdown",
   "metadata": {},
   "source": [
    "### Загрузка данных"
   ]
  },
  {
   "cell_type": "markdown",
   "metadata": {},
   "source": [
    "Произведём загрузку и первичный анализ предоставленных данных."
   ]
  },
  {
   "cell_type": "code",
   "execution_count": 5,
   "metadata": {},
   "outputs": [
    {
     "data": {
      "text/html": [
       "<div>\n",
       "<style scoped>\n",
       "    .dataframe tbody tr th:only-of-type {\n",
       "        vertical-align: middle;\n",
       "    }\n",
       "\n",
       "    .dataframe tbody tr th {\n",
       "        vertical-align: top;\n",
       "    }\n",
       "\n",
       "    .dataframe thead th {\n",
       "        text-align: right;\n",
       "    }\n",
       "</style>\n",
       "<table border=\"1\" class=\"dataframe\">\n",
       "  <thead>\n",
       "    <tr style=\"text-align: right;\">\n",
       "      <th></th>\n",
       "      <th>text</th>\n",
       "      <th>toxic</th>\n",
       "    </tr>\n",
       "  </thead>\n",
       "  <tbody>\n",
       "    <tr>\n",
       "      <th>0</th>\n",
       "      <td>Explanation\\nWhy the edits made under my usern...</td>\n",
       "      <td>0</td>\n",
       "    </tr>\n",
       "    <tr>\n",
       "      <th>1</th>\n",
       "      <td>D'aww! He matches this background colour I'm s...</td>\n",
       "      <td>0</td>\n",
       "    </tr>\n",
       "    <tr>\n",
       "      <th>2</th>\n",
       "      <td>Hey man, I'm really not trying to edit war. It...</td>\n",
       "      <td>0</td>\n",
       "    </tr>\n",
       "    <tr>\n",
       "      <th>3</th>\n",
       "      <td>\"\\nMore\\nI can't make any real suggestions on ...</td>\n",
       "      <td>0</td>\n",
       "    </tr>\n",
       "    <tr>\n",
       "      <th>4</th>\n",
       "      <td>You, sir, are my hero. Any chance you remember...</td>\n",
       "      <td>0</td>\n",
       "    </tr>\n",
       "  </tbody>\n",
       "</table>\n",
       "</div>"
      ],
      "text/plain": [
       "                                                text  toxic\n",
       "0  Explanation\\nWhy the edits made under my usern...      0\n",
       "1  D'aww! He matches this background colour I'm s...      0\n",
       "2  Hey man, I'm really not trying to edit war. It...      0\n",
       "3  \"\\nMore\\nI can't make any real suggestions on ...      0\n",
       "4  You, sir, are my hero. Any chance you remember...      0"
      ]
     },
     "execution_count": 5,
     "metadata": {},
     "output_type": "execute_result"
    }
   ],
   "source": [
    "try:\n",
    "    data_toxic = pd.read_csv('/datasets/toxic_comments.csv', index_col=[0])\n",
    "except:\n",
    "    data_toxic = pd.read_csv('https://code.s3.yandex.net/datasets/toxic_comments.csv', index_col=[0])\n",
    "\n",
    "data_toxic.head()"
   ]
  },
  {
   "cell_type": "code",
   "execution_count": 6,
   "metadata": {},
   "outputs": [
    {
     "name": "stdout",
     "output_type": "stream",
     "text": [
      "Дубликатов в данных: 0\n",
      "<class 'pandas.core.frame.DataFrame'>\n",
      "Int64Index: 159292 entries, 0 to 159450\n",
      "Data columns (total 2 columns):\n",
      " #   Column  Non-Null Count   Dtype \n",
      "---  ------  --------------   ----- \n",
      " 0   text    159292 non-null  object\n",
      " 1   toxic   159292 non-null  int64 \n",
      "dtypes: int64(1), object(1)\n",
      "memory usage: 3.6+ MB\n"
     ]
    }
   ],
   "source": [
    "print('Дубликатов в данных:',data_toxic.duplicated().sum())\n",
    "\n",
    "data_toxic.info()"
   ]
  },
  {
   "cell_type": "markdown",
   "metadata": {},
   "source": [
    "Типы данных в целом соответствуют ожидаемым, пропусков, дубликатов и аномалий - не обнаружено.  \n",
    "Рассмотрим распределение данных по целевому признаку."
   ]
  },
  {
   "cell_type": "code",
   "execution_count": 7,
   "metadata": {
    "scrolled": false
   },
   "outputs": [
    {
     "data": {
      "image/png": "[encoded data removed]",
      "text/plain": [
       "<Figure size 1920x960 with 1 Axes>"
      ]
     },
     "metadata": {},
     "output_type": "display_data"
    }
   ],
   "source": [
    "fig, ax = plt.subplots(figsize =(20, 10))\n",
    "sns.barplot(x=data_toxic['toxic'].unique(), y=data_toxic.groupby('toxic')['text'].count(), ax = ax);\n",
    "ax.set_xlabel('Типы комментариев')\n",
    "ax.set_ylabel('Образцов данных')\n",
    "ax.set_title('Распределение данных по целевому признаку');\n",
    "plt.show()"
   ]
  },
  {
   "cell_type": "markdown",
   "metadata": {},
   "source": [
    "В данных наблюдается значительный дисбаланс классов.  \n",
    "Выполним андерсемплирование данных - это дополнительно сократит вычислительную нагрузку на модель."
   ]
  },
  {
   "cell_type": "markdown",
   "metadata": {},
   "source": [
    " <div class=\"alert alert-success\">\n",
    "<h2> Комментарий ревьюера <a class=\"tocSkip\"> </h2>\n",
    "\n",
    "<b>Все отлично!👍:</b> Данные загружены корреткно. Молодец, что проверяешь баланс классов)"
   ]
  },
  {
   "cell_type": "markdown",
   "metadata": {},
   "source": [
    "### Сэмплирование данных"
   ]
  },
  {
   "cell_type": "markdown",
   "metadata": {},
   "source": [
    "Исходя из возможностей вычислительного оборудования, снизим количество образцов данных до 4000."
   ]
  },
  {
   "cell_type": "code",
   "execution_count": 8,
   "metadata": {},
   "outputs": [
    {
     "data": {
      "image/png": "[encoded data removed]",
      "text/plain": [
       "<Figure size 1920x960 with 1 Axes>"
      ]
     },
     "metadata": {},
     "output_type": "display_data"
    }
   ],
   "source": [
    "X_resample = data_toxic.sample(n = 4000, random_state=RANDOM_STATE)\n",
    "\n",
    "fig, ax = plt.subplots(figsize =(20, 10))\n",
    "sns.barplot(x=X_resample['toxic'].unique(), y=X_resample.groupby('toxic')['text'].count(), ax = ax);\n",
    "ax.set_xlabel('Типы комментариев')\n",
    "ax.set_ylabel('Образцов данных')\n",
    "ax.set_title('Распределение данных по целевому признаку');\n",
    "plt.show();"
   ]
  },
  {
   "cell_type": "markdown",
   "metadata": {},
   "source": [
    "## Обучение"
   ]
  },
  {
   "cell_type": "markdown",
   "metadata": {},
   "source": [
    "### Модель Google-Bert"
   ]
  },
  {
   "cell_type": "markdown",
   "metadata": {},
   "source": [
    "Загрузим обученную модель и токенизатор, при помощи средств библиотеки Transformer из репозитория Hugging Face."
   ]
  },
  {
   "cell_type": "code",
   "execution_count": 9,
   "metadata": {
    "scrolled": true
   },
   "outputs": [],
   "source": [
    "tokenizer = AutoTokenizer.from_pretrained(\"unitary/toxic-bert\")\n",
    "model = AutoModelForSequenceClassification.from_pretrained(\"unitary/toxic-bert\")"
   ]
  },
  {
   "cell_type": "markdown",
   "metadata": {},
   "source": [
    "### Формирование признаков"
   ]
  },
  {
   "cell_type": "markdown",
   "metadata": {},
   "source": [
    "Выполним токенизацию, добор до необходимых длин и преобразование маски внимания."
   ]
  },
  {
   "cell_type": "code",
   "execution_count": 10,
   "metadata": {},
   "outputs": [],
   "source": [
    "tokenized = X_resample['text'].apply(\n",
    "    lambda x: tokenizer.encode(x, max_length= 512,truncation=True, add_special_tokens=True))\n",
    "\n",
    "max_len = 0\n",
    "for i in tokenized.values:\n",
    "    if len(i) > max_len:\n",
    "        max_len = len(i)\n",
    "\n",
    "padded = np.array([i + [0]*(max_len - len(i)) for i in tokenized.values])\n",
    "\n",
    "attention_mask = np.where(padded != 0, 1, 0)"
   ]
  },
  {
   "cell_type": "markdown",
   "metadata": {},
   "source": [
    "Выполним подготовку признаков - преобразуем текст в эмбеддинги."
   ]
  },
  {
   "cell_type": "code",
   "execution_count": 26,
   "metadata": {
    "scrolled": false
   },
   "outputs": [
    {
     "data": {
      "application/vnd.jupyter.widget-view+json": {
       "model_id": "ec0f99465dd04c0381e7adcbebe71dea",
       "version_major": 2,
       "version_minor": 0
      },
      "text/plain": [
       "  0%|          | 0/62 [00:00<?, ?it/s]"
      ]
     },
     "metadata": {},
     "output_type": "display_data"
    }
   ],
   "source": [
    "batch_size = 64\n",
    "embeddings = []\n",
    "for i in notebook.tqdm(range(padded.shape[0] // batch_size)):\n",
    "        batch = torch.LongTensor(padded[batch_size*i:batch_size*(i+1)]) \n",
    "        attention_mask_batch = torch.LongTensor(attention_mask[batch_size*i:batch_size*(i+1)])\n",
    "        \n",
    "        with torch.no_grad():\n",
    "            batch_embeddings = model(batch, attention_mask=attention_mask_batch)\n",
    "        \n",
    "        embeddings.append(batch_embeddings[0][:,0].numpy())"
   ]
  },
  {
   "cell_type": "markdown",
   "metadata": {},
   "source": [
    "Подготовим матрицу признаков."
   ]
  },
  {
   "cell_type": "code",
   "execution_count": 48,
   "metadata": {},
   "outputs": [
    {
     "data": {
      "text/html": [
       "<div>\n",
       "<style scoped>\n",
       "    .dataframe tbody tr th:only-of-type {\n",
       "        vertical-align: middle;\n",
       "    }\n",
       "\n",
       "    .dataframe tbody tr th {\n",
       "        vertical-align: top;\n",
       "    }\n",
       "\n",
       "    .dataframe thead th {\n",
       "        text-align: right;\n",
       "    }\n",
       "</style>\n",
       "<table border=\"1\" class=\"dataframe\">\n",
       "  <thead>\n",
       "    <tr style=\"text-align: right;\">\n",
       "      <th></th>\n",
       "      <th>text</th>\n",
       "      <th>toxic</th>\n",
       "      <th>0</th>\n",
       "    </tr>\n",
       "  </thead>\n",
       "  <tbody>\n",
       "    <tr>\n",
       "      <th>0</th>\n",
       "      <td>Sometime back, I just happened to log on to ww...</td>\n",
       "      <td>0</td>\n",
       "      <td>-7.152328</td>\n",
       "    </tr>\n",
       "    <tr>\n",
       "      <th>1</th>\n",
       "      <td>\"\\n\\nThe latest edit is much better, don't mak...</td>\n",
       "      <td>0</td>\n",
       "      <td>-7.264576</td>\n",
       "    </tr>\n",
       "    <tr>\n",
       "      <th>2</th>\n",
       "      <td>\" October 2007 (UTC)\\n\\nI would think you'd be...</td>\n",
       "      <td>0</td>\n",
       "      <td>-7.393531</td>\n",
       "    </tr>\n",
       "    <tr>\n",
       "      <th>3</th>\n",
       "      <td>Thanks for the tip on the currency translation...</td>\n",
       "      <td>0</td>\n",
       "      <td>-7.428422</td>\n",
       "    </tr>\n",
       "    <tr>\n",
       "      <th>4</th>\n",
       "      <td>I would argue that if content on the Con in co...</td>\n",
       "      <td>0</td>\n",
       "      <td>-7.452366</td>\n",
       "    </tr>\n",
       "  </tbody>\n",
       "</table>\n",
       "</div>"
      ],
      "text/plain": [
       "                                                text  toxic         0\n",
       "0  Sometime back, I just happened to log on to ww...      0 -7.152328\n",
       "1  \"\\n\\nThe latest edit is much better, don't mak...      0 -7.264576\n",
       "2  \" October 2007 (UTC)\\n\\nI would think you'd be...      0 -7.393531\n",
       "3  Thanks for the tip on the currency translation...      0 -7.428422\n",
       "4  I would argue that if content on the Con in co...      0 -7.452366"
      ]
     },
     "execution_count": 48,
     "metadata": {},
     "output_type": "execute_result"
    }
   ],
   "source": [
    "features = np.concatenate(embeddings)\n",
    "data_concat = pd.concat([X_resample.reset_index(drop=True), pd.DataFrame(features)], axis=1)\n",
    "data_concat = data_concat.dropna()\n",
    "data_concat.head()"
   ]
  },
  {
   "cell_type": "markdown",
   "metadata": {},
   "source": [
    "### Обучение моделей"
   ]
  },
  {
   "cell_type": "markdown",
   "metadata": {},
   "source": [
    "Разделим данные на тренировочную и тестовую выборки."
   ]
  },
  {
   "cell_type": "code",
   "execution_count": 49,
   "metadata": {
    "scrolled": false
   },
   "outputs": [],
   "source": [
    "X_train, X_test, y_train, y_test = train_test_split(\n",
    "    data_concat.drop(['toxic', 'text'], axis=1),\n",
    "    data_concat['toxic'],\n",
    "    test_size = TEST_SIZE, \n",
    "    random_state = RANDOM_STATE,\n",
    "    )"
   ]
  },
  {
   "cell_type": "markdown",
   "metadata": {},
   "source": [
    "Подбор параметров моделей будет выполняться при помощи библиотеки Optuna.  \n",
    "Для побора модели модели создаётся инстанс optuna.study, который оптимизирует результат функции в нужную сторону (максимизирует в нашем случае).  \n",
    "Функция модели включает в себя: параметры для подбора и оптимизации, модель машинного обучения, кросс-валидацию предсказаний и расчёт метрики.  \n",
    "Вывод функции - значение метрики, которое и максимизируется средствами библиотеки."
   ]
  },
  {
   "cell_type": "code",
   "execution_count": 50,
   "metadata": {},
   "outputs": [],
   "source": [
    "#задаём функцию для последующей оптимизации модели \n",
    "def objective(trial):\n",
    "    #задаём параметры функции через метод suggest - оптуна перебирает предложенные ей параметры\n",
    "    classifier_name = trial.suggest_categorical(\"classifier\", [\"Logreg\", \"Randforest\"])\n",
    "    if classifier_name == \"Logreg\":\n",
    "    #в завимимости от выбранной модели передаём прочие параметры\n",
    "        lgr_penalty = trial.suggest_categorical(\"penalty\", [\"l1\", \"l2\"])\n",
    "        lgr_C = trial.suggest_int(\"C\", 1, 30, log=True)\n",
    "        classifier_obj = LogisticRegression(\n",
    "            penalty = lgr_penalty,\n",
    "            C = lgr_C,\n",
    "            solver = 'liblinear',\n",
    "            random_state=RANDOM_STATE\n",
    "            )\n",
    "        \n",
    "    else:\n",
    "        rf_max_depth = trial.suggest_int(\"rf_max_depth\", 2, 32, log=True)\n",
    "        rf_min_split= trial.suggest_int(\"rf_min_split\", 2, 5, log=True)\n",
    "        classifier_obj = RandomForestClassifier(\n",
    "            max_depth=rf_max_depth,\n",
    "            min_samples_split = rf_min_split,\n",
    "            random_state=RANDOM_STATE\n",
    "            )\n",
    "    \n",
    "    #Обучаем модель\n",
    "    start = time.time()\n",
    "    ml_opt = classifier_obj.fit(X_train, y_train)\n",
    "    ml_time = time.time() - start\n",
    "    #Задаём дополнительный пользовательский параметр для сохранения модели - в дальнейшем его вызывает функция коллбэка \n",
    "    trial.set_user_attr(key=\"best_model\", value=ml_opt)\n",
    "    trial.set_user_attr(key=\"best_model_time\", value=ml_time)\n",
    "    #Делаем предсказания, считаем метрику \n",
    "    cross_lgb = cross_val_score(classifier_obj, X_train, y_train, cv=3, scoring='f1') \n",
    "    F1 = cross_lgb.mean()\n",
    "\n",
    "    #Возвращаем метрику которую будет оптимизировать оптуна\n",
    "    return F1"
   ]
  },
  {
   "cell_type": "code",
   "execution_count": 51,
   "metadata": {},
   "outputs": [],
   "source": [
    "#функция коллбэка - чтобы можно было работать напрямую с лучшей модель\n",
    "def callback(study, trial):\n",
    "    if study.best_trial.number == trial.number:\n",
    "        study.set_user_attr(key=\"best_model\", value=trial.user_attrs[\"best_model\"])\n",
    "        study.set_user_attr(key=\"best_model_time\", value=trial.user_attrs[\"best_model_time\"])"
   ]
  },
  {
   "cell_type": "code",
   "execution_count": 52,
   "metadata": {
    "scrolled": true
   },
   "outputs": [
    {
     "name": "stderr",
     "output_type": "stream",
     "text": [
      "[I 2024-07-24 10:43:47,967] A new study created in memory with name: no-name-e9d81298-59ab-4879-afee-da8db234489b\n",
      "[I 2024-07-24 10:43:48,670] Trial 0 finished with value: 0.924346230208477 and parameters: {'classifier': 'Randforest', 'rf_max_depth': 14, 'rf_min_split': 3}. Best is trial 0 with value: 0.924346230208477.\n",
      "[I 2024-07-24 10:43:48,703] Trial 1 finished with value: 0.9419281718105301 and parameters: {'classifier': 'Logreg', 'penalty': 'l2', 'C': 6}. Best is trial 1 with value: 0.9419281718105301.\n",
      "[I 2024-07-24 10:43:48,727] Trial 2 finished with value: 0.9400751205727639 and parameters: {'classifier': 'Logreg', 'penalty': 'l1', 'C': 1}. Best is trial 1 with value: 0.9419281718105301.\n",
      "[I 2024-07-24 10:43:49,423] Trial 3 finished with value: 0.9398997927096598 and parameters: {'classifier': 'Randforest', 'rf_max_depth': 4, 'rf_min_split': 3}. Best is trial 1 with value: 0.9419281718105301.\n",
      "[I 2024-07-24 10:43:49,449] Trial 4 finished with value: 0.9400751205727639 and parameters: {'classifier': 'Logreg', 'penalty': 'l1', 'C': 2}. Best is trial 1 with value: 0.9419281718105301.\n",
      "[I 2024-07-24 10:43:50,138] Trial 5 finished with value: 0.924346230208477 and parameters: {'classifier': 'Randforest', 'rf_max_depth': 17, 'rf_min_split': 2}. Best is trial 1 with value: 0.9419281718105301.\n",
      "[I 2024-07-24 10:43:50,806] Trial 6 finished with value: 0.9445107614396816 and parameters: {'classifier': 'Randforest', 'rf_max_depth': 2, 'rf_min_split': 3}. Best is trial 6 with value: 0.9445107614396816.\n",
      "[I 2024-07-24 10:43:50,850] Trial 7 finished with value: 0.9419281718105301 and parameters: {'classifier': 'Logreg', 'penalty': 'l2', 'C': 14}. Best is trial 6 with value: 0.9445107614396816.\n",
      "[I 2024-07-24 10:43:50,891] Trial 8 finished with value: 0.9400751205727639 and parameters: {'classifier': 'Logreg', 'penalty': 'l1', 'C': 1}. Best is trial 6 with value: 0.9445107614396816.\n",
      "[I 2024-07-24 10:43:50,931] Trial 9 finished with value: 0.9419281718105301 and parameters: {'classifier': 'Logreg', 'penalty': 'l1', 'C': 8}. Best is trial 6 with value: 0.9445107614396816.\n",
      "[I 2024-07-24 10:43:51,586] Trial 10 finished with value: 0.9445107614396816 and parameters: {'classifier': 'Randforest', 'rf_max_depth': 2, 'rf_min_split': 5}. Best is trial 6 with value: 0.9445107614396816.\n",
      "[I 2024-07-24 10:43:52,239] Trial 11 finished with value: 0.9445107614396816 and parameters: {'classifier': 'Randforest', 'rf_max_depth': 2, 'rf_min_split': 5}. Best is trial 6 with value: 0.9445107614396816.\n",
      "[I 2024-07-24 10:43:52,926] Trial 12 finished with value: 0.9445107614396816 and parameters: {'classifier': 'Randforest', 'rf_max_depth': 2, 'rf_min_split': 5}. Best is trial 6 with value: 0.9445107614396816.\n",
      "[I 2024-07-24 10:43:53,683] Trial 13 finished with value: 0.9344385213232363 and parameters: {'classifier': 'Randforest', 'rf_max_depth': 5, 'rf_min_split': 4}. Best is trial 6 with value: 0.9445107614396816.\n",
      "[I 2024-07-24 10:43:54,361] Trial 14 finished with value: 0.9445107614396816 and parameters: {'classifier': 'Randforest', 'rf_max_depth': 2, 'rf_min_split': 2}. Best is trial 6 with value: 0.9445107614396816.\n",
      "[I 2024-07-24 10:43:55,080] Trial 15 finished with value: 0.9398997927096598 and parameters: {'classifier': 'Randforest', 'rf_max_depth': 4, 'rf_min_split': 4}. Best is trial 6 with value: 0.9445107614396816.\n",
      "[I 2024-07-24 10:43:55,830] Trial 16 finished with value: 0.9222632683976931 and parameters: {'classifier': 'Randforest', 'rf_max_depth': 8, 'rf_min_split': 4}. Best is trial 6 with value: 0.9445107614396816.\n",
      "[I 2024-07-24 10:43:56,567] Trial 17 finished with value: 0.924346230208477 and parameters: {'classifier': 'Randforest', 'rf_max_depth': 29, 'rf_min_split': 3}. Best is trial 6 with value: 0.9445107614396816.\n",
      "[I 2024-07-24 10:43:57,260] Trial 18 finished with value: 0.9445107614396816 and parameters: {'classifier': 'Randforest', 'rf_max_depth': 3, 'rf_min_split': 2}. Best is trial 6 with value: 0.9445107614396816.\n",
      "[I 2024-07-24 10:43:57,965] Trial 19 finished with value: 0.9222632683976931 and parameters: {'classifier': 'Randforest', 'rf_max_depth': 8, 'rf_min_split': 4}. Best is trial 6 with value: 0.9445107614396816.\n",
      "[I 2024-07-24 10:43:58,658] Trial 20 finished with value: 0.9445107614396816 and parameters: {'classifier': 'Randforest', 'rf_max_depth': 3, 'rf_min_split': 5}. Best is trial 6 with value: 0.9445107614396816.\n",
      "[I 2024-07-24 10:43:59,302] Trial 21 finished with value: 0.9445107614396816 and parameters: {'classifier': 'Randforest', 'rf_max_depth': 2, 'rf_min_split': 5}. Best is trial 6 with value: 0.9445107614396816.\n",
      "[I 2024-07-24 10:43:59,945] Trial 22 finished with value: 0.9445107614396816 and parameters: {'classifier': 'Randforest', 'rf_max_depth': 2, 'rf_min_split': 5}. Best is trial 6 with value: 0.9445107614396816.\n",
      "[I 2024-07-24 10:44:00,636] Trial 23 finished with value: 0.9445107614396816 and parameters: {'classifier': 'Randforest', 'rf_max_depth': 3, 'rf_min_split': 4}. Best is trial 6 with value: 0.9445107614396816.\n",
      "[I 2024-07-24 10:44:01,325] Trial 24 finished with value: 0.9445107614396816 and parameters: {'classifier': 'Randforest', 'rf_max_depth': 3, 'rf_min_split': 5}. Best is trial 6 with value: 0.9445107614396816.\n",
      "[I 2024-07-24 10:44:01,983] Trial 25 finished with value: 0.9445107614396816 and parameters: {'classifier': 'Randforest', 'rf_max_depth': 2, 'rf_min_split': 4}. Best is trial 6 with value: 0.9445107614396816.\n",
      "[I 2024-07-24 10:44:02,697] Trial 26 finished with value: 0.9222632683976931 and parameters: {'classifier': 'Randforest', 'rf_max_depth': 6, 'rf_min_split': 3}. Best is trial 6 with value: 0.9445107614396816.\n",
      "[I 2024-07-24 10:44:03,401] Trial 27 finished with value: 0.944766609392898 and parameters: {'classifier': 'Randforest', 'rf_max_depth': 4, 'rf_min_split': 5}. Best is trial 27 with value: 0.944766609392898.\n",
      "[I 2024-07-24 10:44:04,115] Trial 28 finished with value: 0.9398997927096598 and parameters: {'classifier': 'Randforest', 'rf_max_depth': 4, 'rf_min_split': 4}. Best is trial 27 with value: 0.944766609392898.\n",
      "[I 2024-07-24 10:44:04,827] Trial 29 finished with value: 0.9256473631523462 and parameters: {'classifier': 'Randforest', 'rf_max_depth': 11, 'rf_min_split': 5}. Best is trial 27 with value: 0.944766609392898.\n",
      "[I 2024-07-24 10:44:05,529] Trial 30 finished with value: 0.9304571672166051 and parameters: {'classifier': 'Randforest', 'rf_max_depth': 5, 'rf_min_split': 3}. Best is trial 27 with value: 0.944766609392898.\n",
      "[I 2024-07-24 10:44:06,223] Trial 31 finished with value: 0.9445107614396816 and parameters: {'classifier': 'Randforest', 'rf_max_depth': 3, 'rf_min_split': 5}. Best is trial 27 with value: 0.944766609392898.\n",
      "[I 2024-07-24 10:44:06,863] Trial 32 finished with value: 0.9445107614396816 and parameters: {'classifier': 'Randforest', 'rf_max_depth': 2, 'rf_min_split': 5}. Best is trial 27 with value: 0.944766609392898.\n",
      "[I 2024-07-24 10:44:07,551] Trial 33 finished with value: 0.9445107614396816 and parameters: {'classifier': 'Randforest', 'rf_max_depth': 3, 'rf_min_split': 4}. Best is trial 27 with value: 0.944766609392898.\n",
      "[I 2024-07-24 10:44:07,594] Trial 34 finished with value: 0.9419281718105301 and parameters: {'classifier': 'Logreg', 'penalty': 'l2', 'C': 25}. Best is trial 27 with value: 0.944766609392898.\n"
     ]
    },
    {
     "name": "stdout",
     "output_type": "stream",
     "text": [
      "FrozenTrial(number=27, state=TrialState.COMPLETE, values=[0.944766609392898], datetime_start=datetime.datetime(2024, 7, 24, 10, 44, 2, 705856), datetime_complete=datetime.datetime(2024, 7, 24, 10, 44, 3, 388054), params={'classifier': 'Randforest', 'rf_max_depth': 4, 'rf_min_split': 5}, user_attrs={'best_model': RandomForestClassifier(max_depth=4, min_samples_split=5, random_state=42), 'best_model_time': 0.1865248680114746}, system_attrs={}, intermediate_values={}, distributions={'classifier': CategoricalDistribution(choices=('Logreg', 'Randforest')), 'rf_max_depth': IntDistribution(high=32, log=True, low=2, step=1), 'rf_min_split': IntDistribution(high=5, log=True, low=2, step=1)}, trial_id=27, value=None)\n",
      "\n",
      "Модель с лучшими гиперапараметрами: RandomForestClassifier(max_depth=4, min_samples_split=5, random_state=42)\n",
      "Время обучения лучшей модели: 0.1865248680114746\n"
     ]
    }
   ],
   "source": [
    "# зададим параметры study, лучшая модель сохраняется как результат функции коллбэка\n",
    "sampler = optuna.samplers.TPESampler(seed=42)\n",
    "study = optuna.create_study(direction=\"maximize\", sampler = sampler)\n",
    "study.optimize(objective, n_trials=35, callbacks=[callback])\n",
    "best_model=study.user_attrs[\"best_model\"]\n",
    "best_model_time=study.user_attrs[\"best_model_time\"]\n",
    "print(study.best_trial)\n",
    "print()\n",
    "print('Модель с лучшими гиперапараметрами:',best_model)\n",
    "print('Время обучения лучшей модели:',best_model_time)"
   ]
  },
  {
   "cell_type": "markdown",
   "metadata": {},
   "source": [
    "### Baseline-метрика"
   ]
  },
  {
   "cell_type": "markdown",
   "metadata": {},
   "source": [
    "Получим baseline - значение метрики, для последующего определения качества модели."
   ]
  },
  {
   "cell_type": "code",
   "execution_count": 53,
   "metadata": {
    "scrolled": true
   },
   "outputs": [
    {
     "name": "stdout",
     "output_type": "stream",
     "text": [
      "Метрика baseline:  0.10650887573964497\n"
     ]
    }
   ],
   "source": [
    "dummy_class = DummyClassifier(strategy='stratified', random_state=RANDOM_STATE)\n",
    "dummy_class.fit(X_train, y_train)\n",
    "\n",
    "\n",
    "print(\n",
    "    'Метрика baseline: ',\n",
    "    f1_score(y_test, dummy_class.predict(X_test))\n",
    ")"
   ]
  },
  {
   "cell_type": "markdown",
   "metadata": {},
   "source": [
    "### Качество модели на тестовой выборке"
   ]
  },
  {
   "cell_type": "markdown",
   "metadata": {},
   "source": [
    "Рассмотрим качество модели на тестовой выборке."
   ]
  },
  {
   "cell_type": "code",
   "execution_count": 54,
   "metadata": {},
   "outputs": [
    {
     "name": "stdout",
     "output_type": "stream",
     "text": [
      "Метрика модели на тестовой выборке: 0.9578947368421052\n"
     ]
    }
   ],
   "source": [
    "y_pred = best_model.predict(X_test)\n",
    "\n",
    "print('Метрика модели на тестовой выборке:', f1_score(y_test, y_pred))"
   ]
  },
  {
   "cell_type": "markdown",
   "metadata": {},
   "source": [
    "Полученное значение - выше таргета в 0,75.  "
   ]
  },
  {
   "cell_type": "markdown",
   "metadata": {},
   "source": [
    "### Анализ модели"
   ]
  },
  {
   "cell_type": "markdown",
   "metadata": {},
   "source": [
    "Проведём shap-анализ работы модели - хотя он не покажет влияния отдельных слов, но поможет выявить переобучение модели, либо утечку данных."
   ]
  },
  {
   "cell_type": "code",
   "execution_count": 55,
   "metadata": {},
   "outputs": [],
   "source": [
    "explainer = shap.Explainer(model = best_model.estimator.fit(X_train, y_train))\n",
    "shap_values = explainer(X_test)"
   ]
  },
  {
   "cell_type": "code",
   "execution_count": 56,
   "metadata": {
    "scrolled": false
   },
   "outputs": [
    {
     "data": {
      "image/png": "[encoded data removed]",
      "text/plain": [
       "<Figure size 768x182.4 with 2 Axes>"
      ]
     },
     "metadata": {},
     "output_type": "display_data"
    }
   ],
   "source": [
    "fig, (ax1) = plt.subplots(1, 1)\n",
    "\n",
    "plt.sca(ax1)\n",
    "shap.plots.beeswarm(shap_values[:,:,1], show=False)\n",
    "plt.subplots_adjust(hspace=0.5)\n",
    "ax1.tick_params(labelsize=14)\n",
    "ax1.set_xlabel('Близость к классу', va='top')\n",
    "ax1.set_title('Влияние признаков на модель', va='top')\n",
    "ax1.set_ylabel('Признаки');\n",
    "plt.show();"
   ]
  },
  {
   "cell_type": "markdown",
   "metadata": {},
   "source": [
    "Модель прямо интерпретирует значения токсичности полученные из Toxic-Bert.  \n",
    "Это не является проблемой, пока определение токсичных комментариев внутри компании совпадает с представлениями о токсичности использовавшимися на обучении языковой модели.  \n",
    "При расходениях в этих определениях может потребоваться дообучение модели."
   ]
  },
  {
   "cell_type": "markdown",
   "metadata": {},
   "source": [
    "## Выводы"
   ]
  },
  {
   "cell_type": "markdown",
   "metadata": {},
   "source": [
    "По выполнению проекта можно сделать следующие выводы:  \n",
    "  \n",
    "1) Предоставленные данные не содержат аномалий и пропусков. Проведённый анализ показывает значительный дисбаланс классов в предоставленных данных, нивелированный семплированием перед обучением модели.\n",
    " \n",
    "\n",
    "2) По результатам моделирования, лучшая модель - модель случайного леса (RandomForestClassifier). Метрика модели на тестовой выборке: 0.95. Метрика baseline: 0.11.  \n",
    "  \n",
    "3) Для обучения модели был использован небольшой набор данных (около 20%) предоставленного датасета. При наличии больших вычислительных мощностей, возможно увеличение качества модели.  "
   ]
  }
 ],
 "metadata": {
  "kernelspec": {
   "display_name": "Python 3 (ipykernel)",
   "language": "python",
   "name": "python3"
  },
  "language_info": {
   "codemirror_mode": {
    "name": "ipython",
    "version": 3
   },
   "file_extension": ".py",
   "mimetype": "text/x-python",
   "name": "python",
   "nbconvert_exporter": "python",
   "pygments_lexer": "ipython3",
   "version": "3.9.18"
  },
  "toc": {
   "base_numbering": 1,
   "nav_menu": {},
   "number_sections": true,
   "sideBar": true,
   "skip_h1_title": true,
   "title_cell": "Содержание",
   "title_sidebar": "Содержание",
   "toc_cell": true,
   "toc_position": {
    "height": "calc(100% - 180px)",
    "left": "10px",
    "top": "150px",
    "width": "222.391px"
   },
   "toc_section_display": true,
   "toc_window_display": true
  }
 },
 "nbformat": 4,
 "nbformat_minor": 2
}
